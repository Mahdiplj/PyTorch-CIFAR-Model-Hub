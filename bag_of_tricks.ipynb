{
  "cells": [
    {
      "cell_type": "markdown",
      "metadata": {
        "id": "6IGml3SMd6ID"
      },
      "source": [
        "# How to Train Your ResNet - 8: Bag of Tricks"
      ]
    },
    {
      "cell_type": "markdown",
      "metadata": {
        "id": "Tac7LB2td_Cs"
      },
      "source": [
        "In the [final post of the series](https://myrtle.ai/how-to-train-your-resnet-8-bag-of-tricks/) we come full circle, speeding up our single-GPU training implementation to take on a field of multi-GPU competitors. Whilst we've been otherwise occupied - investigating [hyperparameter tuning](https://myrtle.ai/learn/how-to-train-your-resnet-5-hyperparameters/), [weight decay](https://myrtle.ai/learn/how-to-train-your-resnet-6-weight-decay/) and [batch norm](https://myrtle.ai/learn/how-to-train-your-resnet-7-batch-norm/) - our entry for training CIFAR10 to 94% test accuracy has slipped five (!) places on the DAWNBench leaderboard:\n",
        "\n",
        "![](https://drive.google.com/uc?id=1MzB0-FR_oIPVe9PCffvRI9DB13m2YI21)\n",
        "\n",
        "The top six entries all use 9-layer ResNets which are cousins - or twins - of the network we developed  [earlier in the series](https://myrtle.ai/learn/how-to-train-your-resnet-4-architecture/). First place is a 4-GPU implementation from Kakao Brain which completes in an impressive 37s. The single-GPU version of the same comes in third with 68s, an apparent 7s improvement over our single-GPU entry from last year, although close inspection shows that these submissions are using test-time augmentation (TTA). We shall discuss the validity of this approach towards the end of the post (our conclusion is that any reasonable restriction should be based on total inference cost and that the form of mild TTA used here, along with a lightweight network, passes on that front.) Note that our earlier submission, allowing the same TTA, would achieve a time of 60s on a 19 epoch training schedule without further changes.\n",
        "\n",
        "By the end of the post our single-GPU implementation surpasses the top multi-GPU times comfortably, reclaiming the coveted DAWNBench crown with a time of 34s and achieving a 10× improvement over the single-GPU state-of-the-art at the start of the series! Using the same TTA employed by the Kakao Brain submission, this drops to 26s. We achieve these times by accumulating a series of small (typically 0.1-0.3% in absolute test accuracy) improvements, which can be traded for shorter training times. These improvements are based on a collection of standard and not-so-standard tricks. \n",
        "\n",
        "Our main weapon is statistical significance. The standard deviation in test accuracy for a single training run is roughly 0.15% and when comparing between two runs we need to multiply this by $\\sqrt{2}$. This is larger than many of the effects that we are measuring. Given that training times soon drop below a minute, we can afford to run experiments 10s-100s of times to make sure that improvements are real and this allows us to make consistent progress.\n",
        "\n",
        "Sharp experimental results are essential to advancing the field but if a baseline is poorly-tuned or the number of runs too few, experimental validation holds little value. The main goal of today's post is to provide a well-tuned baseline on which to test novel techniques, allowing one to complete a statistically significant number of training runs within minutes on a single GPU. We confirm, at the end of the post, that improvements in training speed translate into improvements in final accuarcy if training is allowed to proceed towards convergence.\n",
        "\n"
      ]
    },
    {
      "cell_type": "markdown",
      "metadata": {
        "id": "SWyjxzQb_yMA"
      },
      "source": [
        "### Setup"
      ]
    },
    {
      "cell_type": "code",
      "execution_count": 1,
      "metadata": {
        "cellView": "form",
        "id": "7WeTS0FF4iQE"
      },
      "outputs": [
        {
          "name": "stderr",
          "output_type": "stream",
          "text": [
            "/home/pdluser/anaconda3/lib/python3.7/site-packages/pandas/compat/_optional.py:138: UserWarning: Pandas requires version '2.7.0' or newer of 'numexpr' (version '2.6.8' currently installed).\n",
            "  warnings.warn(msg, UserWarning)\n"
          ]
        }
      ],
      "source": [
        "#@title Lib (RUN ME) - double-click to show/hide code\n",
        "####################\n",
        "## CORE\n",
        "#####################\n",
        "\n",
        "import inspect\n",
        "from collections import namedtuple, defaultdict\n",
        "from functools import partial\n",
        "import functools\n",
        "from itertools import chain, count, islice as take\n",
        "\n",
        "#####################\n",
        "## dict utils\n",
        "#####################\n",
        "\n",
        "union = lambda *dicts: {k: v for d in dicts for (k, v) in d.items()}\n",
        "\n",
        "make_tuple = lambda path: (path,) if isinstance(path, str) else path\n",
        "\n",
        "def path_iter(nested_dict, pfx=()):\n",
        "    for name, val in nested_dict.items():\n",
        "        if isinstance(val, dict): yield from path_iter(val, pfx+make_tuple(name))\n",
        "        else: yield (pfx+make_tuple(name), val)  \n",
        "            \n",
        "map_values = lambda func, dct: {k: func(v) for k,v in dct.items()}\n",
        "\n",
        "def map_nested(func, nested_dict):\n",
        "    return {k: map_nested(func, v) if isinstance(v, dict) else func(v) for k,v in nested_dict.items()}\n",
        "\n",
        "def group_by_key(seq):\n",
        "    res = defaultdict(list)\n",
        "    for k, v in seq: \n",
        "        res[k].append(v) \n",
        "    return res\n",
        "\n",
        "reorder = lambda dct, keys: {k: dct[k] for k in keys}\n",
        "\n",
        "#####################\n",
        "## graph building\n",
        "#####################\n",
        "\n",
        "def identity(value): return value\n",
        "\n",
        "def build_graph(net, path_map='_'.join):\n",
        "    net = {path: node if len(node) is 3 else (*node, None) for path, node in path_iter(net)}\n",
        "    default_inputs = chain([('input',)], net.keys())\n",
        "    resolve_path = lambda path, pfx: pfx+path if (pfx+path in net or not pfx) else resolve_path(net, path, pfx[:-1])\n",
        "    return {path_map(path): (typ, value, ([path_map(default)] if inputs is None else [path_map(resolve_path(make_tuple(k), path[:-1])) for k in inputs])) \n",
        "            for (path, (typ, value, inputs)), default in zip(net.items(), default_inputs)}\n",
        "\n",
        "#####################\n",
        "## network visualisation (requires pydot)\n",
        "#####################\n",
        "import IPython.display\n",
        "\n",
        "class ColorMap(dict):\n",
        "    palette = (\n",
        "        'bebada,ffffb3,fb8072,8dd3c7,80b1d3,fdb462,b3de69,fccde5,bc80bd,ccebc5,ffed6f,1f78b4,33a02c,e31a1c,ff7f00,'\n",
        "        '4dddf8,e66493,b07b87,4e90e3,dea05e,d0c281,f0e189,e9e8b1,e0eb71,bbd2a4,6ed641,57eb9c,3ca4d4,92d5e7,b15928'\n",
        "    ).split(',')\n",
        " \n",
        "    def __missing__(self, key):\n",
        "        self[key] = self.palette[len(self) % len(self.palette)]\n",
        "        return self[key]\n",
        "\n",
        "def make_pydot(nodes, edges, direction='LR', sep='_', **kwargs):\n",
        "    from pydot import Dot, Cluster, Node, Edge\n",
        "    class Subgraphs(dict):\n",
        "        def __missing__(self, path):\n",
        "            *parent, label = path\n",
        "            subgraph = Cluster(sep.join(path), label=label, style='rounded, filled', fillcolor='#77777744')\n",
        "            self[tuple(parent)].add_subgraph(subgraph)\n",
        "            return subgraph\n",
        "    g = Dot(rankdir=direction, directed=True, **kwargs)\n",
        "    g.set_node_defaults(\n",
        "        shape='box', style='rounded, filled', fillcolor='#ffffff')\n",
        "    subgraphs = Subgraphs({(): g})\n",
        "    for path, attr in nodes:\n",
        "        *parent, label = path.split(sep)\n",
        "        subgraphs[tuple(parent)].add_node(\n",
        "            Node(name=path, label=label, **attr))\n",
        "    for src, dst, attr in edges:\n",
        "        g.add_edge(Edge(src, dst, **attr))\n",
        "    return g\n",
        "\n",
        "class DotGraph():\n",
        "    colors = ColorMap()   \n",
        "    def __init__(self, graph, size=15, direction='LR'):\n",
        "        self.nodes = [(k, {\n",
        "            'tooltip': '%s %.1000r' % (typ, value), \n",
        "            'fillcolor': '#'+self.colors[typ],\n",
        "        }) for k, (typ, value, inputs) in graph.items()] \n",
        "        self.edges = [(src, k, {}) for (k, (_,_,inputs)) in graph.items() for src in inputs]\n",
        "        self.size, self.direction = size, direction\n",
        "\n",
        "    def dot_graph(self, **kwargs):\n",
        "        return make_pydot(self.nodes, self.edges, size=self.size, \n",
        "                            direction=self.direction, **kwargs)\n",
        "\n",
        "    def svg(self, **kwargs):\n",
        "        return self.dot_graph(**kwargs).create(format='svg').decode('utf-8')\n",
        "\n",
        "    try:\n",
        "        import pydot\n",
        "        def _repr_svg_(self):\n",
        "            return self.svg()\n",
        "    except ImportError:\n",
        "        def __repr__(self):\n",
        "            return 'pydot is needed for network visualisation'\n",
        "\n",
        "\n",
        "#####################\n",
        "## Layers\n",
        "##################### \n",
        "\n",
        "import numpy as np\n",
        "import torch\n",
        "from torch import nn\n",
        "import torch.nn.functional as F\n",
        "from collections import namedtuple\n",
        "import copy\n",
        "\n",
        "torch.backends.cudnn.benchmark = True\n",
        "device = torch.device(\"cuda:0\" if torch.cuda.is_available() else \"cpu\")\n",
        "cpu = torch.device('cpu')\n",
        "    \n",
        "class Network(nn.Module):\n",
        "    def __init__(self, net, loss=None):\n",
        "        super().__init__()\n",
        "        self.graph = {path: (typ, typ(**params), inputs) for path, (typ, params, inputs) in build_graph(net).items()}\n",
        "        self.loss = loss or identity\n",
        "        for path, (_,node,_) in self.graph.items(): \n",
        "            setattr(self, path, node)\n",
        "    \n",
        "    def nodes(self):\n",
        "        return (node for _,node,_ in self.graph.values())\n",
        "    \n",
        "    def forward(self, inputs):\n",
        "        outputs = dict(inputs)\n",
        "        for k, (_, node, ins) in self.graph.items():\n",
        "            outputs[k] = node(*[outputs[x] for x in ins])\n",
        "        return outputs\n",
        "    \n",
        "    def half(self):\n",
        "        for node in self.nodes():\n",
        "            if isinstance(node, nn.Module) and not isinstance(node, nn.BatchNorm2d):\n",
        "                node.half()\n",
        "        return self\n",
        "\n",
        "build_model = lambda network, loss: Network(network, loss).half().to(device)\n",
        "show = lambda network, size=15: display(DotGraph(network.graph if isinstance(network, Network) else build_graph(network), size=size))\n",
        "    \n",
        "class Add(namedtuple('Add', [])):\n",
        "    def __call__(self, x, y): return x + y \n",
        "    \n",
        "class AddWeighted(namedtuple('AddWeighted', ['wx', 'wy'])):\n",
        "    def __call__(self, x, y): return self.wx*x + self.wy*y \n",
        "    \n",
        "class Identity(namedtuple('Identity', [])):\n",
        "    def __call__(self, x): return x\n",
        "\n",
        "class BatchNorm(nn.BatchNorm2d):\n",
        "    def __init__(self, num_features, eps=1e-05, momentum=0.1, weight=True, bias=True):\n",
        "        super().__init__(num_features, eps=eps, momentum=momentum)\n",
        "        self.weight.data.fill_(1.0)\n",
        "        self.bias.data.fill_(0.0)\n",
        "        self.weight.requires_grad = weight\n",
        "        self.bias.requires_grad = bias\n",
        "\n",
        "class GhostBatchNorm(BatchNorm):\n",
        "    def __init__(self, num_features, num_splits, **kw):\n",
        "        super().__init__(num_features, **kw)\n",
        "        self.num_splits = num_splits\n",
        "        self.register_buffer('running_mean', torch.zeros(num_features*self.num_splits))\n",
        "        self.register_buffer('running_var', torch.ones(num_features*self.num_splits))\n",
        "\n",
        "    def train(self, mode=True):\n",
        "        if (self.training is True) and (mode is False): #lazily collate stats when we are going to use them\n",
        "            self.running_mean = torch.mean(self.running_mean.view(self.num_splits, self.num_features), dim=0).repeat(self.num_splits)\n",
        "            self.running_var = torch.mean(self.running_var.view(self.num_splits, self.num_features), dim=0).repeat(self.num_splits)\n",
        "        return super().train(mode)\n",
        "        \n",
        "    def forward(self, input):\n",
        "        N, C, H, W = input.shape\n",
        "        if self.training or not self.track_running_stats:\n",
        "            return F.batch_norm(\n",
        "                input.view(-1, C*self.num_splits, H, W), self.running_mean, self.running_var, \n",
        "                self.weight.repeat(self.num_splits), self.bias.repeat(self.num_splits),\n",
        "                True, self.momentum, self.eps).view(N, C, H, W) \n",
        "        else:\n",
        "            return F.batch_norm(\n",
        "                input, self.running_mean[:self.num_features], self.running_var[:self.num_features], \n",
        "                self.weight, self.bias, False, self.momentum, self.eps)\n",
        "        \n",
        "class Mul(nn.Module):\n",
        "    def __init__(self, weight):\n",
        "        super().__init__()\n",
        "        self.weight = weight\n",
        "    def __call__(self, x): \n",
        "        return x*self.weight\n",
        "    \n",
        "class Flatten(nn.Module):\n",
        "    def forward(self, x): \n",
        "        return x.view(x.size(0), x.size(1))\n",
        "\n",
        "# Losses\n",
        "class CrossEntropyLoss(namedtuple('CrossEntropyLoss', [])):\n",
        "    def __call__(self, log_probs, target):\n",
        "        return torch.nn.functional.nll_loss(log_probs, target, reduction='none')\n",
        "    \n",
        "class KLLoss(namedtuple('KLLoss', [])):        \n",
        "    def __call__(self, log_probs):\n",
        "        return -log_probs.mean(dim=1)\n",
        "\n",
        "class Correct(namedtuple('Correct', [])):\n",
        "    def __call__(self, classifier, target):\n",
        "        return classifier.max(dim = 1)[1] == target\n",
        "\n",
        "class LogSoftmax(namedtuple('LogSoftmax', ['dim'])):\n",
        "    def __call__(self, x):\n",
        "        return torch.nn.functional.log_softmax(x, self.dim, _stacklevel=5)\n",
        "\n",
        "    \n",
        "# node definitions   \n",
        "from inspect import signature    \n",
        "empty_signature = inspect.Signature()\n",
        "\n",
        "class node_def(namedtuple('node_def', ['type'])):\n",
        "    def __call__(self, *args, **kwargs):\n",
        "        return (self.type, dict(signature(self.type).bind(*args, **kwargs).arguments))\n",
        "\n",
        "conv = node_def(nn.Conv2d)\n",
        "linear = node_def(nn.Linear)\n",
        "batch_norm = node_def(BatchNorm)\n",
        "pool = node_def(nn.MaxPool2d)\n",
        "relu = node_def(nn.ReLU)\n",
        "    \n",
        "def map_types(mapping, net):\n",
        "    def f(node):\n",
        "        typ, *rest = node\n",
        "        return (mapping.get(typ, typ), *rest)\n",
        "    return map_nested(f, net) \n",
        "\n",
        "#####################\n",
        "## Compat\n",
        "##################### \n",
        "\n",
        "def to_numpy(x):\n",
        "    if isinstance(x, torch.Tensor):\n",
        "        return x.detach().cpu().numpy()  \n",
        "    return x\n",
        "  \n",
        "def flip_lr(x):\n",
        "    if isinstance(x, torch.Tensor):\n",
        "        return torch.flip(x, [-1]) \n",
        "    return x[..., ::-1].copy()\n",
        "  \n",
        "trainable_params = lambda model: {k:p for k,p in model.named_parameters() if p.requires_grad}\n",
        "\n",
        "#####################\n",
        "## Optimisers\n",
        "##################### \n",
        "\n",
        "from functools import partial\n",
        "\n",
        "def nesterov_update(w, dw, v, lr, weight_decay, momentum):\n",
        "    dw.add_(weight_decay, w).mul_(-lr)\n",
        "    v.mul_(momentum).add_(dw)\n",
        "    w.add_(dw.add_(momentum, v))\n",
        "\n",
        "norm = lambda x: torch.norm(x.reshape(x.size(0),-1).float(), dim=1)[:,None,None,None]\n",
        "\n",
        "def LARS_update(w, dw, v, lr, weight_decay, momentum):\n",
        "    nesterov_update(w, dw, v, lr*(norm(w)/(norm(dw)+1e-2)).to(w.dtype), weight_decay, momentum)\n",
        "\n",
        "def zeros_like(weights):\n",
        "    return [torch.zeros_like(w) for w in weights]\n",
        "\n",
        "def optimiser(weights, param_schedule, update, state_init):\n",
        "    weights = list(weights)\n",
        "    return {'update': update, 'param_schedule': param_schedule, 'step_number': 0, 'weights': weights,  'opt_state': state_init(weights)}\n",
        "\n",
        "def opt_step(update, param_schedule, step_number, weights, opt_state):\n",
        "    step_number += 1\n",
        "    param_values = {k: f(step_number) for k, f in param_schedule.items()}\n",
        "    for w, v in zip(weights, opt_state):\n",
        "        if w.requires_grad:\n",
        "            update(w.data, w.grad.data, v, **param_values)\n",
        "    return {'update': update, 'param_schedule': param_schedule, 'step_number': step_number, 'weights': weights,  'opt_state': opt_state}\n",
        "\n",
        "LARS = partial(optimiser, update=LARS_update, state_init=zeros_like)\n",
        "SGD = partial(optimiser, update=nesterov_update, state_init=zeros_like)\n",
        "  \n",
        "class PiecewiseLinear(namedtuple('PiecewiseLinear', ('knots', 'vals'))):\n",
        "    def __call__(self, t):\n",
        "        return np.interp([t], self.knots, self.vals)[0]\n",
        "     \n",
        "class Const(namedtuple('Const', ['val'])):\n",
        "    def __call__(self, x):\n",
        "        return self.val\n",
        "\n",
        "#####################\n",
        "## DATA\n",
        "##################### \n",
        "\n",
        "import torchvision\n",
        "from functools import lru_cache as cache\n",
        "\n",
        "@cache(None)\n",
        "def cifar10(root='./data'):\n",
        "    download = lambda train: torchvision.datasets.CIFAR10(root=root, train=train, download=True)\n",
        "    return {k: {'data': torch.tensor(v.data), 'targets': torch.tensor(v.targets)} \n",
        "            for k,v in [('train', download(True)), ('valid', download(False))]}\n",
        "  \n",
        "cifar10_mean, cifar10_std = [\n",
        "    (125.31, 122.95, 113.87), # equals np.mean(cifar10()['train']['data'], axis=(0,1,2)) \n",
        "    (62.99, 62.09, 66.70), # equals np.std(cifar10()['train']['data'], axis=(0,1,2))\n",
        "]\n",
        "cifar10_classes= 'airplane, automobile, bird, cat, deer, dog, frog, horse, ship, truck'.split(', ')\n",
        "\n",
        "#####################\n",
        "## data preprocessing\n",
        "#####################\n",
        "mean, std = [torch.tensor(x, device=device, dtype=torch.float16) for x in (cifar10_mean, cifar10_std)]\n",
        "\n",
        "normalise = lambda data, mean=mean, std=std: (data - mean)/std\n",
        "unnormalise = lambda data, mean=mean, std=std: data*std + mean\n",
        "pad = lambda data, border: nn.ReflectionPad2d(border)(data)\n",
        "transpose = lambda x, source='NHWC', target='NCHW': x.permute([source.index(d) for d in target]) \n",
        "to = lambda *args, **kwargs: (lambda x: x.to(*args, **kwargs))\n",
        "\n",
        "def preprocess(dataset, transforms):\n",
        "    dataset = copy.copy(dataset)\n",
        "    for transform in reversed(transforms):\n",
        "        dataset['data'] = transform(dataset['data'])\n",
        "    return dataset\n",
        "\n",
        "#####################\n",
        "## Data augmentation\n",
        "#####################\n",
        "\n",
        "chunks = lambda data, splits: (data[start:end] for (start, end) in zip(splits, splits[1:]))\n",
        "\n",
        "even_splits = lambda N, num_chunks: np.cumsum([0] + [(N//num_chunks)+1]*(N % num_chunks)  + [N//num_chunks]*(num_chunks - (N % num_chunks)))\n",
        "\n",
        "def shuffled(xs, inplace=False):\n",
        "    xs = xs if inplace else copy.copy(xs) \n",
        "    np.random.shuffle(xs)\n",
        "    return xs\n",
        "\n",
        "def transformed(data, targets, transform, max_options=None, unshuffle=False):\n",
        "    i = torch.randperm(len(data), device=device)\n",
        "    data = data[i]\n",
        "    options = shuffled(transform.options(data.shape), inplace=True)[:max_options]\n",
        "    data = torch.cat([transform.apply(x, **choice) for choice, x in zip(options, chunks(data, even_splits(len(data), len(options))))])\n",
        "    return (data[torch.argsort(i)], targets) if unshuffle else (data, targets[i])\n",
        "\n",
        "class Batches():\n",
        "    def __init__(self, batch_size, transforms=(), dataset=None, shuffle=True, drop_last=False, max_options=None):\n",
        "        self.dataset, self.transforms, self.shuffle, self.max_options = dataset, transforms, shuffle, max_options\n",
        "        N = len(dataset['data'])\n",
        "        self.splits = list(range(0, N+1, batch_size))\n",
        "        if not drop_last and self.splits[-1] != N:\n",
        "            self.splits.append(N)\n",
        "     \n",
        "    def __iter__(self):\n",
        "        data, targets = self.dataset['data'], self.dataset['targets']\n",
        "        for transform in self.transforms:\n",
        "            data, targets = transformed(data, targets, transform, max_options=self.max_options, unshuffle=not self.shuffle)\n",
        "        if self.shuffle:\n",
        "            i = torch.randperm(len(data), device=device)\n",
        "            data, targets = data[i], targets[i]\n",
        "        return ({'input': x.clone(), 'target': y} for (x, y) in zip(chunks(data, self.splits), chunks(targets, self.splits)))\n",
        "    \n",
        "    def __len__(self): \n",
        "        return len(self.splits) - 1\n",
        "    \n",
        "#####################\n",
        "## Augmentations\n",
        "#####################\n",
        "\n",
        "class Crop(namedtuple('Crop', ('h', 'w'))):\n",
        "    def apply(self, x, x0, y0):\n",
        "        return x[..., y0:y0+self.h, x0:x0+self.w] \n",
        "\n",
        "    def options(self, shape):\n",
        "        *_, H, W = shape\n",
        "        return [{'x0': x0, 'y0': y0} for x0 in range(W+1-self.w) for y0 in range(H+1-self.h)]\n",
        "    \n",
        "class FlipLR(namedtuple('FlipLR', ())):\n",
        "    def apply(self, x, choice):\n",
        "        return flip_lr(x) if choice else x \n",
        "        \n",
        "    def options(self, shape):\n",
        "        return [{'choice': b} for b in [True, False]]\n",
        "\n",
        "class Cutout(namedtuple('Cutout', ('h', 'w'))):\n",
        "    def apply(self, x, x0, y0):\n",
        "        x[..., y0:y0+self.h, x0:x0+self.w] = 0.0\n",
        "        return x\n",
        "\n",
        "    def options(self, shape):\n",
        "        *_, H, W = shape\n",
        "        return [{'x0': x0, 'y0': y0} for x0 in range(W+1-self.w) for y0 in range(H+1-self.h)]  \n",
        "\n",
        "#####################\n",
        "## TRAINING\n",
        "#####################\n",
        "\n",
        "import time\n",
        "\n",
        "class Timer():\n",
        "    def __init__(self, synch=None):\n",
        "        self.synch = synch or (lambda: None)\n",
        "        self.synch()\n",
        "        self.times = [time.perf_counter()]\n",
        "        self.total_time = 0.0\n",
        "\n",
        "    def __call__(self, update_total=True):\n",
        "        self.synch()\n",
        "        self.times.append(time.perf_counter())\n",
        "        delta_t = self.times[-1] - self.times[-2]\n",
        "        if update_total:\n",
        "            self.total_time += delta_t\n",
        "        return delta_t\n",
        "\n",
        "default_table_formats = {float: '{:{w}.4f}', str: '{:>{w}s}', 'default': '{:{w}}', 'title': '{:>{w}s}'}\n",
        "\n",
        "def table_formatter(val, is_title=False, col_width=12, formats=None):\n",
        "    formats = formats or default_table_formats\n",
        "    type_ = lambda val: float if isinstance(val, (float, np.float)) else type(val)\n",
        "    return (formats['title'] if is_title else formats.get(type_(val), formats['default'])).format(val, w=col_width)\n",
        "\n",
        "every = lambda n, col: (lambda data: data[col] % n == 0)\n",
        "\n",
        "class Table():\n",
        "    def __init__(self, keys=None, report=(lambda data: True), formatter=table_formatter):\n",
        "        self.keys, self.report, self.formatter = keys, report, formatter\n",
        "        self.log = []\n",
        "        \n",
        "    def append(self, data):\n",
        "        self.log.append(data)\n",
        "        data = {' '.join(p): v for p,v in path_iter(data)}\n",
        "        self.keys = self.keys or data.keys()\n",
        "        if len(self.log) is 1:\n",
        "            print(*(self.formatter(k, True) for k in self.keys))\n",
        "        if self.report(data):\n",
        "            print(*(self.formatter(data[k]) for k in self.keys))\n",
        "            \n",
        "    def df(self):\n",
        "        return pd.DataFrame([{'_'.join(p): v for p,v in path_iter(row)} for row in self.log])     \n",
        "            \n",
        "def reduce(batches, state, steps):\n",
        "    #state: is a dictionary\n",
        "    #steps: are functions that take (batch, state)\n",
        "    #and return a dictionary of updates to the state (or None)\n",
        "    \n",
        "    for batch in chain(batches, [None]): \n",
        "    #we send an extra batch=None at the end for steps that \n",
        "    #need to do some tidying-up (e.g. log_activations)\n",
        "        for step in steps:\n",
        "            updates = step(batch, state)\n",
        "            if updates:\n",
        "                for k,v in updates.items():\n",
        "                    state[k] = v                  \n",
        "    return state\n",
        "  \n",
        "#define keys in the state dict as constants\n",
        "MODEL = 'model'\n",
        "VALID_MODEL = 'valid_model'\n",
        "OUTPUT = 'output'\n",
        "OPTS = 'optimisers'\n",
        "ACT_LOG = 'activation_log'\n",
        "WEIGHT_LOG = 'weight_log'\n",
        "\n",
        "#step definitions\n",
        "def forward(training_mode):\n",
        "    def step(batch, state):\n",
        "        if not batch: return\n",
        "        model = state[MODEL] if training_mode or (VALID_MODEL not in state) else state[VALID_MODEL]\n",
        "        if model.training != training_mode: #without the guard it's slow!\n",
        "            model.train(training_mode)\n",
        "        return {OUTPUT: model.loss(model(batch))}\n",
        "    return step\n",
        "\n",
        "def forward_tta(tta_transforms):\n",
        "    def step(batch, state):\n",
        "        if not batch: return\n",
        "        model = state[MODEL] if (VALID_MODEL not in state) else state[VALID_MODEL]\n",
        "        if model.training:\n",
        "            model.train(False)\n",
        "        logits = torch.mean(torch.stack([model({'input': transform(batch['input'].clone())})['logits'].detach() for transform in tta_transforms], dim=0), dim=0)\n",
        "        return {OUTPUT: model.loss(dict(batch, logits=logits))}\n",
        "    return step\n",
        "\n",
        "def backward(dtype=torch.float16):\n",
        "    def step(batch, state):\n",
        "        state[MODEL].zero_grad()\n",
        "        if not batch: return\n",
        "        state[OUTPUT]['loss'].to(dtype).sum().backward()\n",
        "    return step\n",
        "\n",
        "def opt_steps(batch, state):\n",
        "    if not batch: return\n",
        "    return {OPTS: [opt_step(**opt) for opt in state[OPTS]]}\n",
        "\n",
        "def log_activations(node_names=('loss', 'acc')):\n",
        "    logs = []\n",
        "    def step(batch, state):\n",
        "        if batch:\n",
        "            logs.extend((k, state[OUTPUT][k].detach()) for k in node_names)\n",
        "        else:\n",
        "            res = map_values((lambda xs: to_numpy(torch.cat(xs)).astype(np.float)), group_by_key(logs))\n",
        "            logs.clear()\n",
        "            return {ACT_LOG: res}\n",
        "    return step\n",
        "\n",
        "def update_ema(momentum, update_freq=1):\n",
        "    n = iter(count())\n",
        "    rho = momentum**update_freq\n",
        "    def step(batch, state):\n",
        "        if not batch: return\n",
        "        if (next(n) % update_freq) != 0: return\n",
        "        for v, ema_v in zip(state[MODEL].state_dict().values(), state[VALID_MODEL].state_dict().values()):\n",
        "            ema_v *= rho\n",
        "            ema_v += (1-rho)*v\n",
        "    return step\n",
        "\n",
        "train_steps = (forward(training_mode=True), log_activations(('loss', 'acc')), backward(), opt_steps)\n",
        "valid_steps = (forward(training_mode=False), log_activations(('loss', 'acc')))\n",
        "\n",
        "epoch_stats = lambda state: {k: np.mean(v) for k, v in state[ACT_LOG].items()}\n",
        "\n",
        "def train_epoch(state, timer, train_batches, valid_batches, train_steps=train_steps, valid_steps=valid_steps, on_epoch_end=identity):\n",
        "    train_summary, train_time = epoch_stats(on_epoch_end(reduce(train_batches, state, train_steps))), timer()\n",
        "    valid_summary, valid_time = epoch_stats(reduce(valid_batches, state, valid_steps)), timer(update_total=False) #DAWNBench rules\n",
        "    return {\n",
        "        'train': union({'time': train_time}, train_summary), \n",
        "        'valid': union({'time': valid_time}, valid_summary), \n",
        "        'total time': timer.total_time\n",
        "    }\n",
        "\n",
        "summary = lambda logs, cols=['valid_acc']: logs.df().query('epoch==epoch.max()')[cols].describe().transpose().astype({'count': int})[\n",
        "    ['count', 'mean', 'min', 'max', 'std']]\n",
        "\n",
        "#on_epoch_end\n",
        "def log_weights(state, weights):\n",
        "    state[WEIGHT_LOG] = state.get(WEIGHT_LOG, [])\n",
        "    state[WEIGHT_LOG].append({k: to_numpy(v.data) for k,v in weights.items()})\n",
        "    return state\n",
        "\n",
        "def fine_tune_bn_stats(state, batches, model_key=VALID_MODEL):\n",
        "    reduce(batches, {MODEL: state[model_key]}, [forward(True)])\n",
        "    return state\n",
        "\n",
        "#misc\n",
        "def warmup_cudnn(model, batch):\n",
        "    #run forward and backward pass of the model\n",
        "    #to allow benchmarking of cudnn kernels \n",
        "    reduce([batch], {MODEL: model}, [forward(True), backward()])\n",
        "    torch.cuda.synchronize()\n",
        "\n",
        "\n",
        "#####################\n",
        "## Plotting\n",
        "#####################\n",
        "\n",
        "# import altair as alt\n",
        "# alt.renderers.enable('colab')\n",
        "import pandas as pd\n",
        "import matplotlib.pyplot as plt\n",
        "from IPython.display import SVG\n",
        "\n",
        "def empty_plot(ax, **kw):\n",
        "    ax.axis('off')\n",
        "    return ax\n",
        "\n",
        "def image_plot(ax, img, title):\n",
        "    ax.imshow(to_numpy(unnormalise(transpose(img, 'CHW', 'HWC'))).astype(np.int))\n",
        "    ax.set_title(title)\n",
        "    ax.axis('off')\n",
        "\n",
        "def layout(figures, sharex=False, sharey=False, figure_title=None, col_width=4, row_height = 3.25, **kw):\n",
        "    nrows, ncols = np.array(figures).shape\n",
        "\n",
        "    fig, axs = plt.subplots(nrows=nrows, ncols=ncols, sharex=sharex, sharey=sharey, figsize=(col_width*ncols, row_height*nrows))\n",
        "    axs = [figure(ax, **kw) for row in zip(np.array(axs).reshape(nrows, ncols), figures) for ax, figure in zip(*row)]\n",
        "    fig.suptitle(figure_title)\n",
        "    return fig, axs\n",
        "\n",
        "#####################\n",
        "## Network\n",
        "#####################\n",
        "\n",
        "conv_block = lambda c_in, c_out: {\n",
        "    'conv': conv(in_channels=c_in, out_channels=c_out, kernel_size=(3, 3), stride=(1, 1), padding=(1, 1), bias=False), \n",
        "    'norm': batch_norm(c_out), \n",
        "    'act':  relu(),\n",
        "}\n",
        "\n",
        "conv_pool_block = lambda c_in, c_out: dict(conv_block(c_in, c_out), pool=pool(2))\n",
        "conv_pool_block_pre = lambda c_in, c_out: reorder(conv_pool_block(c_in, c_out), ('conv', 'pool', 'norm', 'act'))\n",
        "\n",
        "residual = lambda c, conv_block: {\n",
        "    'in': (Identity, {}),\n",
        "    'res1': conv_block(c, c),\n",
        "    'res2': conv_block(c, c),\n",
        "    'out': (Identity, {}),\n",
        "    'add': (Add, {}, ['in', 'out']),\n",
        "}\n",
        "\n",
        "def build_network(channels, extra_layers, res_layers, scale, conv_block=conv_block, \n",
        "                  prep_block=conv_block, conv_pool_block=conv_pool_block, types=None): \n",
        "    net = {\n",
        "        'prep': prep_block(3, channels['prep']),\n",
        "        'layer1': conv_pool_block(channels['prep'], channels['layer1']),\n",
        "        'layer2': conv_pool_block(channels['layer1'], channels['layer2']),\n",
        "        'layer3': conv_pool_block(channels['layer2'], channels['layer3']),\n",
        "        'pool': pool(4),\n",
        "        'classifier': {\n",
        "            'flatten': (Flatten, {}),\n",
        "            'conv': linear(channels['layer3'], 10, bias=False),\n",
        "            'scale': (Mul, {'weight': scale}),\n",
        "        },\n",
        "        'logits': (Identity, {}),\n",
        "    }\n",
        "    for layer in res_layers:\n",
        "        net[layer]['residual'] = residual(channels[layer], conv_block)\n",
        "    for layer in extra_layers:\n",
        "        net[layer]['extra'] = conv_block(channels[layer], channels[layer])     \n",
        "    if types: net = map_types(types, net)\n",
        "    return net\n",
        "\n",
        "channels={'prep': 64, 'layer1': 128, 'layer2': 256, 'layer3': 512}\n",
        "network = partial(build_network, channels=channels, extra_layers=(), res_layers=('layer1', 'layer3'), scale=1/8)   \n",
        "\n",
        "x_ent_loss = Network({\n",
        "  'loss':  (nn.CrossEntropyLoss, {'reduction': 'none'}, ['logits', 'target']),\n",
        "  'acc': (Correct, {}, ['logits', 'target'])\n",
        "})\n",
        "\n",
        "label_smoothing_loss = lambda alpha: Network({\n",
        "        'logprobs': (LogSoftmax, {'dim': 1}, ['logits']),\n",
        "        'KL':  (KLLoss, {}, ['logprobs']),\n",
        "        'xent':  (CrossEntropyLoss, {}, ['logprobs', 'target']),\n",
        "        'loss': (AddWeighted, {'wx': 1-alpha, 'wy': alpha}, ['xent', 'KL']),\n",
        "        'acc': (Correct, {}, ['logits', 'target']),\n",
        "    })\n",
        "\n",
        "#####################\n",
        "## Misc\n",
        "#####################\n",
        "\n",
        "lr_schedule = lambda knots, vals, batch_size: PiecewiseLinear(np.array(knots)*len(train_batches(batch_size)), np.array(vals)/batch_size)"
      ]
    },
    {
      "cell_type": "code",
      "execution_count": 17,
      "metadata": {
        "id": "izQpvJHoBnAx"
      },
      "outputs": [],
      "source": [
        "#####################\n",
        "## Config\n",
        "#####################\n",
        "\n",
        "N_RUNS = 5 #number of times to run each experiment"
      ]
    },
    {
      "cell_type": "markdown",
      "metadata": {
        "id": "Tofkr8ecBqgF"
      },
      "source": [
        "### Baseline (75s)"
      ]
    },
    {
      "cell_type": "markdown",
      "metadata": {
        "id": "JZ_zmZhTyOSN"
      },
      "source": [
        "### Recommended: running on GCP"
      ]
    },
    {
      "cell_type": "markdown",
      "metadata": {
        "id": "XUJEUs3ND0eq"
      },
      "source": [
        "You can run this notebook using a free Colab GPU instance (Tesla T4) but timings will be considerably slower than on a V100. \n",
        "If you have a GCP account and want to  use a faster V100 GPU you can follow the instructions [here](https://blog.kovalevskyi.com/gce-deeplearning-images-as-a-backend-for-google-colaboratory-bc4903d24947) to use that as an alternative Colab backend. Don't forget to shut down the GCP instance (not just the Colab notebook) once you've finished!\n",
        "\n",
        "FWIW, I use the following (preemptible) instance type:\n",
        "\n",
        "```\n",
        "export IMAGE_FAMILY=\"pytorch-latest-gpu\"\n",
        "export ZONE=\"europe-west4-a\"\n",
        "export INSTANCE_NAME=\"pytorch-colab-backend\"\n",
        "\n",
        "gcloud compute instances create $INSTANCE_NAME \\\n",
        "  --zone $ZONE \\\n",
        "  --machine-type n1-standard-4 \\\n",
        "  --accelerator type=nvidia-tesla-v100,count=1 \\\n",
        "  --image-family $IMAGE_FAMILY \\\n",
        "  --image-project=deeplearning-platform-release \\\n",
        "  --metadata install-nvidia-driver=True \\\n",
        "  --maintenance-policy TERMINATE \\\n",
        "  --preemptible \n",
        "  ```\n"
      ]
    },
    {
      "cell_type": "markdown",
      "metadata": {
        "id": "KjOIoRO9ZNE2"
      },
      "source": [
        "On GCP you will need to install altair for plotting. This is pre-installed on Colab instances."
      ]
    },
    {
      "cell_type": "code",
      "execution_count": null,
      "metadata": {
        "id": "8m1LCN_bZIrs"
      },
      "outputs": [],
      "source": [
        "#GCP only\n",
        "!python -m pip install -q vega altair"
      ]
    },
    {
      "cell_type": "markdown",
      "metadata": {
        "id": "ns4mKklxZGIT"
      },
      "source": [
        "You can check the details of your setup (free Colab GPU or V100 on GCP) with this nice utility from fastai:"
      ]
    },
    {
      "cell_type": "code",
      "execution_count": null,
      "metadata": {
        "colab": {
          "base_uri": "https://localhost:8080/",
          "height": 656
        },
        "id": "OpxpGgl_yJ8r",
        "outputId": "81784a4d-6135-49af-fdb0-e7fbb2875338"
      },
      "outputs": [
        {
          "name": "stdout",
          "output_type": "stream",
          "text": [
            "\n",
            "\n",
            "```text\n",
            "=== Software === \n",
            "python        : 3.7.3\n",
            "fastai        : 1.0.55\n",
            "fastprogress  : 0.1.21\n",
            "torch         : 1.1.0\n",
            "nvidia driver : 410.104\n",
            "torch cuda    : 10.0.130 / is available\n",
            "torch cudnn   : 7501 / is enabled\n",
            "\n",
            "=== Hardware === \n",
            "nvidia gpus   : 1\n",
            "torch devices : 1\n",
            "  - gpu0      : 16130MB | Tesla V100-SXM2-16GB\n",
            "\n",
            "=== Environment === \n",
            "platform      : Linux-4.9.0-9-amd64-x86_64-with-debian-9.9\n",
            "distro        : #1 SMP Debian 4.9.168-1+deb9u4 (2019-07-19)\n",
            "conda env     : base\n",
            "python        : /opt/anaconda3/bin/python\n",
            "sys.path      : /home/jupyter\n",
            "/opt/anaconda3/lib/python37.zip\n",
            "/opt/anaconda3/lib/python3.7\n",
            "/opt/anaconda3/lib/python3.7/lib-dynload\n",
            "\n",
            "/opt/anaconda3/lib/python3.7/site-packages\n",
            "/opt/anaconda3/lib/python3.7/site-packages/IPython/extensions\n",
            "/home/jupyter/.ipython\n",
            "```\n",
            "\n",
            "Please make sure to include opening/closing ``` when you paste into forums/github to make the reports appear formatted as code sections.\n",
            "\n",
            "Optional package(s) to enhance the diagnostics can be installed with:\n",
            "pip install distro\n",
            "Once installed, re-run this utility to get the additional information\n"
          ]
        }
      ],
      "source": [
        "# from fastai.utils.show_install import show_install \n",
        "# show_install()"
      ]
    },
    {
      "cell_type": "markdown",
      "metadata": {
        "id": "Kngp4RTwBKNl"
      },
      "source": [
        "First we should check that timings haven't changed since November and our submission still runs in 75 seconds (note that this requires a V100 GPU, see instructions at the top of the notebook for how to use one from Colab.)"
      ]
    },
    {
      "cell_type": "code",
      "execution_count": 2,
      "metadata": {
        "colab": {
          "base_uri": "https://localhost:8080/",
          "height": 605
        },
        "id": "n___bs94Rvm2",
        "outputId": "975cee77-3b99-4a75-ffb1-ef463a33a5ea"
      },
      "outputs": [
        {
          "name": "stdout",
          "output_type": "stream",
          "text": [
            "/home/pdluser/anaconda3/lib/python3.7/site-packages/pandas/compat/_optional.py:138: UserWarning: Pandas requires version '2.7.0' or newer of 'numexpr' (version '2.6.8' currently installed).\n",
            "  warnings.warn(msg, UserWarning)\n",
            "Downloading datasets\n",
            "Files already downloaded and verified\n",
            "Files already downloaded and verified\n",
            "Warming up cudnn on random inputs\n",
            "Starting timer\n",
            "Preprocessing training data\n",
            "Finished in 1.8 seconds\n",
            "Preprocessing test data\n",
            "Finished in 0.072 seconds\n",
            "/home/pdluser/project/pytorch-cifar-model-zoo/cifar10-fast/torch_backend.py:243: UserWarning: This overload of add_ is deprecated:\n",
            "\tadd_(Number alpha, Tensor other)\n",
            "Consider using one of the following signatures instead:\n",
            "\tadd_(Tensor other, *, Number alpha) (Triggered internally at  /opt/conda/conda-bld/pytorch_1607370156314/work/torch/csrc/utils/python_arg_parser.cpp:882.)\n",
            "  dw.add_(weight_decay, w).mul_(-lr)\n",
            "       epoch   train time   train loss    train acc   valid time   valid loss    valid acc   total time\n",
            "           1       5.2092       1.6403       0.4084       0.3151       1.4289       0.5195       7.0703\n",
            "           2       5.2051       0.9485       0.6612       0.3154       0.7875       0.7237      12.2754\n",
            "           3       5.2335       0.7309       0.7450       0.3176       0.7860       0.7386      17.5089\n",
            "           4       5.2466       0.6145       0.7868       0.3188       0.7708       0.7258      22.7554\n",
            "           5       5.2665       0.5607       0.8033       0.3213       0.7567       0.7373      28.0219\n",
            "           6       5.2780       0.5045       0.8278       0.3202       0.5870       0.7975      33.2999\n",
            "           7       5.2780       0.4454       0.8471       0.3190       0.4710       0.8367      38.5778\n",
            "           8       5.2784       0.4115       0.8619       0.3214       0.4961       0.8370      43.8563\n",
            "           9       5.2876       0.3881       0.8679       0.3205       0.5094       0.8205      49.1439\n",
            "          10       5.2971       0.3644       0.8769       0.3203       0.4384       0.8522      54.4410\n",
            "          11       5.2982       0.3403       0.8850       0.3206       0.4157       0.8584      59.7392\n",
            "          12       5.3058       0.3203       0.8919       0.3258       0.3756       0.8750      65.0450\n",
            "          13       5.3013       0.3042       0.8970       0.3210       0.3910       0.8673      70.3463\n",
            "          14       5.3003       0.2903       0.9029       0.3333       0.5402       0.8226      75.6466\n",
            "          15       5.3043       0.2690       0.9094       0.3205       0.4943       0.8356      80.9509\n",
            "          16       5.3014       0.2507       0.9153       0.3209       0.3517       0.8798      86.2522\n",
            "          17       5.3151       0.2304       0.9230       0.3207       0.3145       0.8937      91.5673\n",
            "          18       5.3058       0.2119       0.9298       0.3203       0.3075       0.8985      96.8731\n",
            "          19       5.3057       0.1904       0.9369       0.3206       0.3300       0.8913     102.1788\n",
            "          20       5.3062       0.1657       0.9467       0.3207       0.2873       0.9049     107.4850\n",
            "          21       5.3083       0.1444       0.9522       0.3215       0.2316       0.9223     112.7933\n",
            "          22       5.3089       0.1150       0.9643       0.3206       0.2126       0.9288     118.1022\n",
            "          23       5.3087       0.0958       0.9709       0.3245       0.1871       0.9367     123.4109\n",
            "          24       5.3056       0.0754       0.9784       0.3212       0.1763       0.9429     128.7166\n"
          ]
        }
      ],
      "source": [
        "# !git clone -q https://github.com/davidcpage/cifar10-fast.git\n",
        "!cd cifar10-fast && python -m dawn --data_dir=~/data "
      ]
    },
    {
      "cell_type": "markdown",
      "metadata": {
        "id": "6woN6tKcCLLy"
      },
      "source": [
        "Training indeed reaches ~94% test accuracy and completes in about 75s. We will need to cut this in half and then a bit more....\n",
        "\n"
      ]
    },
    {
      "cell_type": "markdown",
      "metadata": {
        "id": "wOPAnn6orgLn"
      },
      "source": [
        "### Preprocessing on the GPU (70s)\n",
        "\n",
        "\n"
      ]
    },
    {
      "cell_type": "markdown",
      "metadata": {
        "id": "WyIgaE0Yr6wl"
      },
      "source": [
        "We start with the practical matter of some code optimisation. The logs above show three seconds wasted on data preprocessing, which counts towards training time. Recall that we are normalising, transposing and padding the dataset before training to avoid repeating the work at each epoch.\n",
        "\n",
        "We can do better by transferring the data to the GPU, preprocessing there and then transferring back to the CPU for random data augmentation and batching:"
      ]
    },
    {
      "cell_type": "code",
      "execution_count": 3,
      "metadata": {
        "colab": {
          "base_uri": "https://localhost:8080/",
          "height": 121
        },
        "id": "W-y1gWp1zsWA",
        "outputId": "6652754d-bbb4-4d8e-b4fe-941b82b8037a"
      },
      "outputs": [
        {
          "name": "stdout",
          "output_type": "stream",
          "text": [
            "Files already downloaded and verified\n",
            "Files already downloaded and verified\n",
            "Starting timer\n",
            "Transfer to GPU:\t0.075s\n",
            "Data preprocessing:\t0.013s\n",
            "Transfer to CPU:\t0.306s\n"
          ]
        }
      ],
      "source": [
        "#####################\n",
        "## timings\n",
        "#####################\n",
        "dataset = cifar10() #downloads dataset\n",
        "print('Starting timer')\n",
        "t = Timer(synch=torch.cuda.synchronize)\n",
        "dataset = map_nested(to(device), dataset)\n",
        "print(f'Transfer to GPU:\\t{t():.3f}s')\n",
        "train_set = preprocess(dataset['train'], [partial(pad, border=4), transpose, normalise, to(torch.float16)])\n",
        "valid_set = preprocess(dataset['valid'], [transpose, normalise, to(torch.float16)])\n",
        "print(f'Data preprocessing:\\t{t():.3f}s')\n",
        "map_nested(to(cpu), {'train': train_set, 'valid': valid_set})\n",
        "print(f'Transfer to CPU:\\t{t():.3f}s')"
      ]
    },
    {
      "cell_type": "markdown",
      "metadata": {
        "id": "xDVW85kFex8c"
      },
      "source": [
        "Not bad! We've reduced the preprocessing time to about half a second. Actual preprocessing now takes a negligible amount of time and the bulk of time is spent transferring data back to the CPU. This is a bit silly, since the data will need to cross to the GPU again after batching and augmentation, incurring a further delay at each training step. Can we remove this by doing data augmentation on the GPU?\n",
        "\n",
        "The answer is yes, but it requires a little care. If we naively apply augmentation to individual training examples, as on the CPU, we will incur substantial overhead launching multiple GPU kernels to process each item. We can avoid this by applying the same augmentation to groups of examples and we can preserve randomness by shuffling the data beforehand.\n",
        "\n",
        "For example, consider applying 8×8 cutout augmentation to CIFAR10 images. There are 625 possible 8×8 cutout regions in a  32×32 image, so we can achieve random augmentation by shuffling the dataset and splitting into 625 groups, one for each of the possible cutout regions. If we choose evenly-sized groups, this is not quite the same as making a random choice for each example (which leads to irregular group sizes) but it's close enough. As a further optimisation, if the number of groups for an augmentation becomes too large, we can consider capping it at a reasonable limit - say 200 randomly selected groups per epoch.\n",
        "\n",
        "Our basic implementation takes about 35 lines of code and doesn't use Pytorch DataLoaders."
      ]
    },
    {
      "cell_type": "code",
      "execution_count": 4,
      "metadata": {
        "id": "oNz7-dE7fE5J"
      },
      "outputs": [],
      "source": [
        "train_batches = partial(Batches, dataset=train_set, shuffle=True,  drop_last=True, max_options=200)\n",
        "valid_batches = partial(Batches, dataset=valid_set, shuffle=False, drop_last=False)"
      ]
    },
    {
      "cell_type": "markdown",
      "metadata": {
        "id": "LwHDoIF807rV"
      },
      "source": [
        "As a sanity check that we're doing things correctly - here are two random augmentations of the same 8 images:"
      ]
    },
    {
      "cell_type": "code",
      "execution_count": 5,
      "metadata": {
        "colab": {
          "base_uri": "https://localhost:8080/",
          "height": 301
        },
        "id": "4hF3Grkd1OVW",
        "outputId": "c97aee8f-700b-402a-fb15-94b7b1cf4394"
      },
      "outputs": [
        {
          "data": {
            "image/png": "[encoded data removed]",
            "text/plain": [
              "<Figure size 1152x144 with 8 Axes>"
            ]
          },
          "metadata": {
            "needs_background": "light"
          },
          "output_type": "display_data"
        },
        {
          "data": {
            "image/png": "[encoded data removed]",
            "text/plain": [
              "<Figure size 1152x144 with 8 Axes>"
            ]
          },
          "metadata": {
            "needs_background": "light"
          },
          "output_type": "display_data"
        }
      ],
      "source": [
        "batches = train_batches(batch_size=8, transforms=(Crop(32, 32), FlipLR(), Cutout(8, 8)), shuffle=False)\n",
        "\n",
        "layout([[partial(image_plot, img=x, title=cifar10_classes[y]) for x,y in zip(*next(iter(batches)).values())]], col_width=2, row_height=2)\n",
        "layout([[partial(image_plot, img=x, title=cifar10_classes[y]) for x,y in zip(*next(iter(batches)).values())]], col_width=2, row_height=2);"
      ]
    },
    {
      "cell_type": "markdown",
      "metadata": {
        "id": "wvhwlXlDtEwQ"
      },
      "source": [
        "Now let's see how fast it is:"
      ]
    },
    {
      "cell_type": "code",
      "execution_count": 7,
      "metadata": {
        "colab": {
          "base_uri": "https://localhost:8080/",
          "height": 35
        },
        "id": "S0YBtX02q8T6",
        "outputId": "d4bedf88-ee09-483e-f53c-7ee3a7f9aa59"
      },
      "outputs": [
        {
          "name": "stdout",
          "output_type": "stream",
          "text": [
            "5.153s\n"
          ]
        }
      ],
      "source": [
        "t = Timer(synch=torch.cuda.synchronize)\n",
        "batches = train_batches(batch_size=512, transforms=(Crop(32, 32), FlipLR(), Cutout(8, 8)))\n",
        "\n",
        "for epoch in range(240):\n",
        "    for batch in batches:\n",
        "        pass\n",
        "print(f'{t():.3f}s')"
      ]
    },
    {
      "cell_type": "markdown",
      "metadata": {
        "id": "x-mg89jmtg1A"
      },
      "source": [
        "This is great! We're able to iterate through 24 epochs of training data, applying data augmentation and shuffling in less than the time taken to transfer the dataset once to the CPU! Moreover, since we're no longer racing CPU preprocessing queues against the GPU, we can stop worrying about dataloading altogether, even if training gets faster. Note: we are relying on the fact that the dataset is small enough to store and manipulate as a whole in GPU memory, but a more sophisticated implementation could work around this - or one could switch to an industrial strength solution such as [Nvidia DALI](https://github.com/NVIDIA/DALI).\n",
        "\n",
        "Let's see if this gives us a speedup on our baseline. The code we use here is essentially equivalent to the DAWNBench submission, apart from the GPU data processing."
      ]
    },
    {
      "cell_type": "code",
      "execution_count": 9,
      "metadata": {
        "colab": {
          "base_uri": "https://localhost:8080/",
          "height": 120
        },
        "id": "hNFoYZEjH_w8",
        "outputId": "e47debaf-d181-4838-ea70-754e85371f15"
      },
      "outputs": [
        {
          "data": {
            "text/plain": [
              "pydot is needed for network visualisation"
            ]
          },
          "metadata": {},
          "output_type": "display_data"
        }
      ],
      "source": [
        "baseline_net=network()\n",
        "show(baseline_net)"
      ]
    },
    {
      "cell_type": "code",
      "execution_count": 10,
      "metadata": {
        "id": "3v3IsSpij-PL"
      },
      "outputs": [
        {
          "name": "stderr",
          "output_type": "stream",
          "text": [
            "/home/pdluser/anaconda3/lib/python3.7/site-packages/ipykernel_launcher.py:267: UserWarning: This overload of add_ is deprecated:\n",
            "\tadd_(Number alpha, Tensor other)\n",
            "Consider using one of the following signatures instead:\n",
            "\tadd_(Tensor other, *, Number alpha) (Triggered internally at  /opt/conda/conda-bld/pytorch_1607370156314/work/torch/csrc/utils/python_arg_parser.cpp:882.)\n"
          ]
        },
        {
          "name": "stdout",
          "output_type": "stream",
          "text": [
            "       epoch   train time   train loss    train acc   valid time   valid loss    valid acc   total time\n",
            "           1       5.1485       1.6349       0.4108       0.5503       1.4526       0.5022       5.1485\n",
            "           2       5.1678       0.9433       0.6665       0.3004       0.9719       0.6840      10.3164\n",
            "           3       5.1783       0.7265       0.7461       0.3009       0.7759       0.7298      15.4946\n",
            "           4       5.1936       0.6410       0.7760       0.3019       1.5162       0.5607      20.6882\n",
            "           5       5.2047       0.5606       0.8049       0.3021       1.1775       0.6162      25.8929\n",
            "           6       5.2060       0.5124       0.8228       0.3027       0.5503       0.8108      31.0989\n",
            "           7       5.2088       0.4473       0.8458       0.3029       0.4928       0.8297      36.3077\n",
            "           8       5.2110       0.4221       0.8547       0.3026       0.6115       0.7967      41.5187\n",
            "           9       5.2142       0.3852       0.8693       0.3029       0.4430       0.8479      46.7329\n",
            "          10       5.2305       0.3699       0.8729       0.3039       0.4591       0.8408      51.9634\n",
            "          11       5.2320       0.3440       0.8844       0.3037       0.3796       0.8696      57.1953\n",
            "          12       5.2338       0.3267       0.8901       0.3035       0.4589       0.8465      62.4291\n",
            "          13       5.2340       0.3125       0.8936       0.3036       0.4232       0.8563      67.6631\n",
            "          14       5.2327       0.2928       0.9004       0.3038       0.4539       0.8473      72.8959\n",
            "          15       5.2330       0.2720       0.9074       0.3037       0.4362       0.8525      78.1289\n",
            "          16       5.2350       0.2587       0.9119       0.3038       0.3470       0.8771      83.3639\n",
            "          17       5.2364       0.2347       0.9207       0.3038       0.4485       0.8533      88.6002\n",
            "          18       5.2392       0.2106       0.9310       0.3041       0.3413       0.8848      93.8394\n",
            "          19       5.2380       0.1959       0.9334       0.3044       0.3102       0.8965      99.0775\n",
            "          20       5.2403       0.1705       0.9444       0.3038       0.2544       0.9144     104.3177\n",
            "          21       5.2387       0.1420       0.9541       0.3036       0.2338       0.9212     109.5564\n",
            "          22       5.2408       0.1211       0.9620       0.3042       0.2115       0.9320     114.7972\n",
            "          23       5.2391       0.0963       0.9709       0.3043       0.2005       0.9335     120.0363\n",
            "          24       5.2377       0.0753       0.9784       0.3042       0.1805       0.9408     125.2740\n"
          ]
        }
      ],
      "source": [
        "epochs, batch_size = 24, 512\n",
        "transforms = (Crop(32, 32), FlipLR(), Cutout(8, 8))\n",
        "opt_params = {'lr': lr_schedule([0, 5, epochs], [0.0, 0.4, 0.0], batch_size), 'weight_decay': Const(5e-4*batch_size), 'momentum': Const(0.9)}\n",
        "\n",
        "model = build_model(baseline_net, x_ent_loss)  \n",
        "warmup_cudnn(model, next(iter(train_batches(batch_size, transforms))))\n",
        "logs, state, timer = Table(), {MODEL: model, OPTS: [SGD(trainable_params(model).values(), opt_params)]}, Timer(torch.cuda.synchronize)\n",
        "for epoch in range(epochs):\n",
        "    logs.append(union({'epoch': epoch+1}, train_epoch(state, timer, train_batches(batch_size, transforms), valid_batches(batch_size))))"
      ]
    },
    {
      "cell_type": "markdown",
      "metadata": {
        "id": "10lxhHspp79n"
      },
      "source": [
        "Total training time (including the negligible time spent on preprocessing) is under 70s, moving us up two places to fourth on the leaderboard!"
      ]
    },
    {
      "cell_type": "markdown",
      "metadata": {
        "id": "ZiaIqUQKWHgT"
      },
      "source": [
        "#### Aside: mixed precision training"
      ]
    },
    {
      "cell_type": "markdown",
      "metadata": {
        "id": "8FoPeZCcWmYR"
      },
      "source": [
        "In our original DAWNBench submission and in the code above, we simply converted the model to float16 without all the niceties of so-called [mixed precision training](https://arxiv.org/abs/1710.03740) although we include a basic sort of 'loss scaling' by summing rather than averaging losses in a batch. It is straightforward to implement proper mixed precision training but this adds about a second to overall training time and we found it to have no effect on final accuracy, so we continue to do without it below. For completeness, here is a simple implementation which might be useful elsewhere: "
      ]
    },
    {
      "cell_type": "code",
      "execution_count": 11,
      "metadata": {
        "id": "qvk0e9AfWMjp"
      },
      "outputs": [],
      "source": [
        "FP32_PARAMS = 'fp32_params'\n",
        "\n",
        "def copy_grads_to_master(batch, state):\n",
        "    if not batch: return\n",
        "    for float_param, param in zip(state[FP32_PARAMS], trainable_params(state[MODEL]).values()):\n",
        "        if float_param.grad is None: \n",
        "            float_param.grad = float_param.data.new(*float_param.data.size())\n",
        "        float_param.grad.data.copy_(param.grad.data)    \n",
        "    \n",
        "def update_params_from_master(batch, state):\n",
        "    if not batch: return\n",
        "    for float_param, param in zip(state[FP32_PARAMS], trainable_params(state[MODEL]).values()):\n",
        "        param.data.copy_(float_param)\n",
        "    \n",
        "train_steps_mixed_precision = (forward(training_mode=True),  log_activations(('loss', 'acc')), backward(torch.float32), copy_grads_to_master, opt_steps, update_params_from_master)"
      ]
    },
    {
      "cell_type": "code",
      "execution_count": 12,
      "metadata": {
        "id": "7Q9-IXXGYJFL"
      },
      "outputs": [
        {
          "name": "stderr",
          "output_type": "stream",
          "text": [
            "/home/pdluser/anaconda3/lib/python3.7/site-packages/ipykernel_launcher.py:6: UserWarning: The .grad attribute of a Tensor that is not a leaf Tensor is being accessed. Its .grad attribute won't be populated during autograd.backward(). If you indeed want the gradient for a non-leaf Tensor, use .retain_grad() on the non-leaf Tensor. If you access the non-leaf Tensor by mistake, make sure you access the leaf Tensor instead. See github.com/pytorch/pytorch/pull/30531 for more informations.\n",
            "  \n"
          ]
        },
        {
          "name": "stdout",
          "output_type": "stream",
          "text": [
            "       epoch   train time   train loss    train acc   valid time   valid loss    valid acc   total time\n",
            "           1       5.1978       1.6362       0.4110       0.2959       1.5309       0.4806       5.1978\n",
            "           2       5.1746       0.9530       0.6580       0.2971       0.8653       0.7125      10.3724\n",
            "           3       5.2047       0.7285       0.7463       0.2992       0.8478       0.7218      15.5771\n",
            "           4       5.2185       0.6191       0.7845       0.3000       0.5850       0.8029      20.7955\n",
            "           5       5.2370       0.5669       0.8039       0.3007       0.6038       0.7933      26.0325\n",
            "           6       5.2412       0.4941       0.8302       0.3016       0.6205       0.7925      31.2737\n",
            "           7       5.2598       0.4492       0.8448       0.3020       0.6233       0.7911      36.5335\n",
            "           8       5.2659       0.4101       0.8588       0.3020       0.5517       0.8091      41.7994\n",
            "           9       5.2686       0.3797       0.8715       0.3023       0.4771       0.8393      47.0679\n",
            "          10       5.2744       0.3626       0.8770       0.3023       0.4159       0.8637      52.3424\n",
            "          11       5.2772       0.3416       0.8842       0.3025       0.4369       0.8485      57.6195\n",
            "          12       5.2744       0.3283       0.8887       0.3021       0.3480       0.8825      62.8939\n",
            "          13       5.2774       0.3065       0.8956       0.3029       0.4327       0.8570      68.1713\n",
            "          14       5.2799       0.2857       0.9034       0.3030       0.4062       0.8625      73.4513\n",
            "          15       5.2801       0.2697       0.9090       0.3027       0.5729       0.8167      78.7314\n",
            "          16       5.2933       0.2460       0.9168       0.3035       0.3389       0.8878      84.0246\n",
            "          17       5.2913       0.2326       0.9213       0.3035       0.3544       0.8793      89.3159\n",
            "          18       5.2930       0.2104       0.9288       0.3039       0.2948       0.9006      94.6090\n",
            "          19       5.2910       0.1840       0.9381       0.3040       0.3501       0.8791      99.9000\n",
            "          20       5.2953       0.1616       0.9475       0.3042       0.2749       0.9102     105.1953\n",
            "          21       5.2973       0.1422       0.9535       0.3040       0.2736       0.9100     110.4926\n",
            "          22       5.2949       0.1148       0.9630       0.3039       0.2180       0.9298     115.7875\n",
            "          23       5.2957       0.0962       0.9708       0.3039       0.1893       0.9370     121.0831\n",
            "          24       5.2961       0.0747       0.9788       0.3039       0.1791       0.9413     126.3792\n"
          ]
        }
      ],
      "source": [
        "epochs, batch_size =24, 512\n",
        "transforms = (Crop(32, 32), FlipLR(), Cutout(8, 8))\n",
        "opt_params = {'lr': lr_schedule([0, 5, epochs], [0.0, 0.4, 0.0], batch_size), 'weight_decay': Const(5e-4*batch_size), 'momentum': Const(0.9)}\n",
        "\n",
        "model = build_model(network(), x_ent_loss)\n",
        "fp32_params = [v.clone().to(torch.float32) for v in trainable_params(model).values()]\n",
        "logs, state, timer = Table(), {MODEL: model, OPTS: [SGD(fp32_params, opt_params)], FP32_PARAMS: fp32_params}, Timer(torch.cuda.synchronize)\n",
        "for epoch in range(epochs):\n",
        "    logs.append(union({'epoch': epoch+1}, train_epoch(state, timer, train_batches(batch_size, transforms), valid_batches(batch_size), train_steps=train_steps_mixed_precision)))"
      ]
    },
    {
      "cell_type": "markdown",
      "metadata": {
        "id": "-RpWD1rHwNoz"
      },
      "source": [
        "### Moving max-pool layers (64s)\n"
      ]
    },
    {
      "cell_type": "markdown",
      "metadata": {
        "id": "BTwu1qXPwVCI"
      },
      "source": [
        "Max-pooling commutes with a monotonic-increasing activation function such as ReLU. It should be more efficient to apply pooling first. This is the sort of thing a friendly compiler might do for you, but for now let's switch the order by hand:\n"
      ]
    },
    {
      "cell_type": "code",
      "execution_count": 13,
      "metadata": {
        "colab": {
          "base_uri": "https://localhost:8080/",
          "height": 120
        },
        "id": "vHSpmXRd-Acj",
        "outputId": "f5e673a2-23e9-411f-bff5-e454588428a4"
      },
      "outputs": [
        {
          "data": {
            "text/plain": [
              "pydot is needed for network visualisation"
            ]
          },
          "metadata": {},
          "output_type": "display_data"
        }
      ],
      "source": [
        "conv_pool_block_opt = lambda c_in, c_out: reorder(conv_pool_block(c_in, c_out), ('conv', 'norm', 'pool', 'act'))\n",
        "show(network(conv_pool_block=conv_pool_block_opt))"
      ]
    },
    {
      "cell_type": "code",
      "execution_count": 14,
      "metadata": {
        "id": "uCx6niO29qtZ"
      },
      "outputs": [
        {
          "name": "stdout",
          "output_type": "stream",
          "text": [
            "       epoch   train time   train loss    train acc   valid time   valid loss    valid acc   total time\n",
            "           1       5.0569       1.6416       0.4109       0.2889       1.2009       0.5575       5.0569\n",
            "           2       5.0423       0.9398       0.6649       0.2895       1.0367       0.6596      10.0992\n",
            "           3       5.0598       0.7274       0.7454       0.2903       0.6625       0.7770      15.1590\n",
            "           4       5.0651       0.6230       0.7838       0.2913       0.7818       0.7328      20.2241\n",
            "           5       5.0701       0.5519       0.8079       0.2912       0.6476       0.7792      25.2942\n",
            "           6       5.0714       0.4902       0.8306       0.2916       0.6296       0.7888      30.3656\n",
            "           7       5.0860       0.4452       0.8469       0.2921       0.5398       0.8160      35.4517\n",
            "           8       5.0907       0.4091       0.8600       0.2922       0.5207       0.8191      40.5423\n",
            "           9       5.0908       0.3844       0.8683       0.2922       0.5333       0.8155      45.6331\n",
            "          10       5.0961       0.3623       0.8765       0.2923       0.4316       0.8513      50.7292\n",
            "          11       5.0926       0.3437       0.8834       0.2924       0.4913       0.8333      55.8218\n",
            "          12       5.1003       0.3261       0.8897       0.2919       0.4233       0.8555      60.9221\n",
            "          13       5.0942       0.3083       0.8956       0.2926       0.4534       0.8493      66.0163\n",
            "          14       5.0987       0.2881       0.9021       0.2926       0.4875       0.8337      71.1150\n",
            "          15       5.0994       0.2711       0.9083       0.2928       0.4704       0.8479      76.2144\n",
            "          16       5.0983       0.2491       0.9166       0.2926       0.3649       0.8770      81.3127\n",
            "          17       5.1046       0.2285       0.9231       0.2927       0.3737       0.8757      86.4173\n",
            "          18       5.1003       0.2093       0.9312       0.2921       0.3630       0.8809      91.5176\n",
            "          19       5.1027       0.1880       0.9361       0.2926       0.2859       0.9057      96.6203\n",
            "          20       5.0967       0.1651       0.9453       0.2921       0.2837       0.9066     101.7171\n",
            "          21       5.0973       0.1410       0.9543       0.2926       0.2618       0.9168     106.8144\n",
            "          22       5.0977       0.1156       0.9642       0.2924       0.2271       0.9260     111.9121\n",
            "          23       5.0987       0.0930       0.9725       0.2926       0.1922       0.9354     117.0108\n",
            "          24       5.1014       0.0762       0.9780       0.2924       0.1785       0.9407     122.1122\n"
          ]
        }
      ],
      "source": [
        "epochs, batch_size = 24, 512\n",
        "transforms = (Crop(32, 32), FlipLR(), Cutout(8, 8))\n",
        "opt_params = {'lr': lr_schedule([0, 5, epochs], [0.0, 0.4, 0.0], batch_size), 'weight_decay': Const(5e-4*batch_size), 'momentum': Const(0.9)}\n",
        "\n",
        "model = build_model(network(conv_pool_block=conv_pool_block_opt), x_ent_loss)\n",
        "logs, state, timer = Table(), {MODEL: model, OPTS: [SGD(trainable_params(model).values(), opt_params)]}, Timer(torch.cuda.synchronize)\n",
        "for epoch in range(epochs):\n",
        "    logs.append(union({'epoch': epoch+1}, train_epoch(state, timer, train_batches(batch_size, transforms), valid_batches(batch_size))))"
      ]
    },
    {
      "cell_type": "markdown",
      "metadata": {
        "id": "KpB6j6de7keL"
      },
      "source": [
        "A further 3s off! \n",
        "\n",
        "Perhaps we should try something more radical and move max-pooling before batch norm. This will achieve a further efficiency gain but will change the network \n",
        "so we need to test the effect on training.\n"
      ]
    },
    {
      "cell_type": "code",
      "execution_count": 19,
      "metadata": {
        "colab": {
          "base_uri": "https://localhost:8080/",
          "height": 120
        },
        "id": "YfDw9V35-1Ng",
        "outputId": "7e314bfa-b3c0-4a01-c738-f38fa1a6ddd5"
      },
      "outputs": [
        {
          "data": {
            "text/plain": [
              "pydot is needed for network visualisation"
            ]
          },
          "metadata": {},
          "output_type": "display_data"
        }
      ],
      "source": [
        "conv_pool_block_pre = lambda c_in, c_out: reorder(conv_pool_block(c_in, c_out), ('conv', 'pool', 'norm', 'act'))\n",
        "\n",
        "maxpool_pre_net = network(conv_pool_block=conv_pool_block_pre)\n",
        "show(maxpool_pre_net)"
      ]
    },
    {
      "cell_type": "code",
      "execution_count": null,
      "metadata": {
        "id": "0eblbuB2_vCh"
      },
      "outputs": [],
      "source": [
        "epochs, batch_size = 24, 512\n",
        "transforms = (Crop(32, 32), FlipLR(), Cutout(8, 8))\n",
        "opt_params = {'lr': lr_schedule([0, 5, epochs], [0.0, 0.4, 0.0], batch_size), 'weight_decay': Const(5e-4*batch_size), 'momentum': Const(0.9)}\n",
        "\n",
        "logs = Table(report=every(epochs,'epoch'))\n",
        "for run in range(N_RUNS):\n",
        "    model = build_model(maxpool_pre_net, x_ent_loss)\n",
        "    state, timer = {MODEL: model, OPTS: [SGD(trainable_params(model).values(), opt_params)]}, Timer(torch.cuda.synchronize)\n",
        "    for epoch in range(epochs):\n",
        "        logs.append(union({'run': run+1, 'epoch': epoch+1}, train_epoch(state, timer, train_batches(batch_size, transforms), valid_batches(batch_size))))       \n",
        "summary(logs)"
      ]
    },
    {
      "cell_type": "markdown",
      "metadata": {
        "id": "5elIHYXi7AVz"
      },
      "source": [
        "The results show a small negative effect on test accuracy to 94.0% (mean of 50 runs) compared to our baseline of 94.1%. They also show a substantial 5s reduction in training time! We can restore the previous accuracy by adding an extra epoch to training. This is the only time in the post that we select an 'improvement' that leads to worse accuracy! The 5s gain from a more efficient network more than compensates the 2.5s loss from the extra training epoch. The net effect brings our time to 64s, up to third place on the leaderboard."
      ]
    },
    {
      "cell_type": "markdown",
      "metadata": {
        "id": "b7ecJCjI1SJV"
      },
      "source": [
        "### Label smoothing (59s)"
      ]
    },
    {
      "cell_type": "markdown",
      "metadata": {
        "id": "-NqB3aXtWoel"
      },
      "source": [
        "[Label smoothing](https://arxiv.org/abs/1512.00567) is a well-established trick for improving the training speed and generalization of neural nets in classification problems. It involves blending the one-hot target probabilities with a uniform distribution over class labels inside the cross entropy loss. This helps to stabilise the output distribution and prevents the network from making overconfident predictions which might inhibit further training. Let's give it a try - the label smoothing parameter of 0.2 has been very roughly hand-optimised but the result is not too sensitive to a range of choices."
      ]
    },
    {
      "cell_type": "code",
      "execution_count": 15,
      "metadata": {
        "colab": {
          "base_uri": "https://localhost:8080/",
          "height": 89
        },
        "id": "s8UjTsDLul0D",
        "outputId": "2ffce5c6-e64a-439f-d59c-2b74838e5312"
      },
      "outputs": [
        {
          "data": {
            "text/plain": [
              "pydot is needed for network visualisation"
            ]
          },
          "metadata": {},
          "output_type": "display_data"
        }
      ],
      "source": [
        "show(label_smoothing_loss(alpha=0.2), size=2)"
      ]
    },
    {
      "cell_type": "code",
      "execution_count": 20,
      "metadata": {
        "id": "ofLeJMTpbJVc"
      },
      "outputs": [
        {
          "name": "stdout",
          "output_type": "stream",
          "text": [
            "         run        epoch   train time   train loss    train acc   valid time   valid loss    valid acc   total time\n"
          ]
        },
        {
          "ename": "KeyboardInterrupt",
          "evalue": "",
          "output_type": "error",
          "traceback": [
            "\u001b[0;31m---------------------------------------------------------------------------\u001b[0m",
            "\u001b[0;31mKeyboardInterrupt\u001b[0m                         Traceback (most recent call last)",
            "\u001b[0;32m<ipython-input-20-6998557aa37d>\u001b[0m in \u001b[0;36m<module>\u001b[0;34m()\u001b[0m\n\u001b[1;32m      8\u001b[0m     \u001b[0mstate\u001b[0m\u001b[0;34m,\u001b[0m \u001b[0mtimer\u001b[0m \u001b[0;34m=\u001b[0m \u001b[0;34m{\u001b[0m\u001b[0mMODEL\u001b[0m\u001b[0;34m:\u001b[0m \u001b[0mmodel\u001b[0m\u001b[0;34m,\u001b[0m \u001b[0mOPTS\u001b[0m\u001b[0;34m:\u001b[0m \u001b[0;34m[\u001b[0m\u001b[0mSGD\u001b[0m\u001b[0;34m(\u001b[0m\u001b[0mtrainable_params\u001b[0m\u001b[0;34m(\u001b[0m\u001b[0mmodel\u001b[0m\u001b[0;34m)\u001b[0m\u001b[0;34m.\u001b[0m\u001b[0mvalues\u001b[0m\u001b[0;34m(\u001b[0m\u001b[0;34m)\u001b[0m\u001b[0;34m,\u001b[0m \u001b[0mopt_params\u001b[0m\u001b[0;34m)\u001b[0m\u001b[0;34m]\u001b[0m\u001b[0;34m}\u001b[0m\u001b[0;34m,\u001b[0m \u001b[0mTimer\u001b[0m\u001b[0;34m(\u001b[0m\u001b[0mtorch\u001b[0m\u001b[0;34m.\u001b[0m\u001b[0mcuda\u001b[0m\u001b[0;34m.\u001b[0m\u001b[0msynchronize\u001b[0m\u001b[0;34m)\u001b[0m\u001b[0;34m\u001b[0m\u001b[0;34m\u001b[0m\u001b[0m\n\u001b[1;32m      9\u001b[0m     \u001b[0;32mfor\u001b[0m \u001b[0mepoch\u001b[0m \u001b[0;32min\u001b[0m \u001b[0mrange\u001b[0m\u001b[0;34m(\u001b[0m\u001b[0mepochs\u001b[0m\u001b[0;34m)\u001b[0m\u001b[0;34m:\u001b[0m\u001b[0;34m\u001b[0m\u001b[0;34m\u001b[0m\u001b[0m\n\u001b[0;32m---> 10\u001b[0;31m         \u001b[0mlogs\u001b[0m\u001b[0;34m.\u001b[0m\u001b[0mappend\u001b[0m\u001b[0;34m(\u001b[0m\u001b[0munion\u001b[0m\u001b[0;34m(\u001b[0m\u001b[0;34m{\u001b[0m\u001b[0;34m'run'\u001b[0m\u001b[0;34m:\u001b[0m \u001b[0mrun\u001b[0m\u001b[0;34m+\u001b[0m\u001b[0;36m1\u001b[0m\u001b[0;34m,\u001b[0m \u001b[0;34m'epoch'\u001b[0m\u001b[0;34m:\u001b[0m \u001b[0mepoch\u001b[0m\u001b[0;34m+\u001b[0m\u001b[0;36m1\u001b[0m\u001b[0;34m}\u001b[0m\u001b[0;34m,\u001b[0m \u001b[0mtrain_epoch\u001b[0m\u001b[0;34m(\u001b[0m\u001b[0mstate\u001b[0m\u001b[0;34m,\u001b[0m \u001b[0mtimer\u001b[0m\u001b[0;34m,\u001b[0m \u001b[0mtrain_batches\u001b[0m\u001b[0;34m(\u001b[0m\u001b[0mbatch_size\u001b[0m\u001b[0;34m,\u001b[0m \u001b[0mtransforms\u001b[0m\u001b[0;34m)\u001b[0m\u001b[0;34m,\u001b[0m \u001b[0mvalid_batches\u001b[0m\u001b[0;34m(\u001b[0m\u001b[0mbatch_size\u001b[0m\u001b[0;34m)\u001b[0m\u001b[0;34m)\u001b[0m\u001b[0;34m)\u001b[0m\u001b[0;34m)\u001b[0m\u001b[0;34m\u001b[0m\u001b[0;34m\u001b[0m\u001b[0m\n\u001b[0m\u001b[1;32m     11\u001b[0m \u001b[0msummary\u001b[0m\u001b[0;34m(\u001b[0m\u001b[0mlogs\u001b[0m\u001b[0;34m)\u001b[0m\u001b[0;34m\u001b[0m\u001b[0;34m\u001b[0m\u001b[0m\n",
            "\u001b[0;32m<ipython-input-1-e82a95c2c12e>\u001b[0m in \u001b[0;36mtrain_epoch\u001b[0;34m(state, timer, train_batches, valid_batches, train_steps, valid_steps, on_epoch_end)\u001b[0m\n\u001b[1;32m    533\u001b[0m \u001b[0;34m\u001b[0m\u001b[0m\n\u001b[1;32m    534\u001b[0m \u001b[0;32mdef\u001b[0m \u001b[0mtrain_epoch\u001b[0m\u001b[0;34m(\u001b[0m\u001b[0mstate\u001b[0m\u001b[0;34m,\u001b[0m \u001b[0mtimer\u001b[0m\u001b[0;34m,\u001b[0m \u001b[0mtrain_batches\u001b[0m\u001b[0;34m,\u001b[0m \u001b[0mvalid_batches\u001b[0m\u001b[0;34m,\u001b[0m \u001b[0mtrain_steps\u001b[0m\u001b[0;34m=\u001b[0m\u001b[0mtrain_steps\u001b[0m\u001b[0;34m,\u001b[0m \u001b[0mvalid_steps\u001b[0m\u001b[0;34m=\u001b[0m\u001b[0mvalid_steps\u001b[0m\u001b[0;34m,\u001b[0m \u001b[0mon_epoch_end\u001b[0m\u001b[0;34m=\u001b[0m\u001b[0midentity\u001b[0m\u001b[0;34m)\u001b[0m\u001b[0;34m:\u001b[0m\u001b[0;34m\u001b[0m\u001b[0;34m\u001b[0m\u001b[0m\n\u001b[0;32m--> 535\u001b[0;31m     \u001b[0mtrain_summary\u001b[0m\u001b[0;34m,\u001b[0m \u001b[0mtrain_time\u001b[0m \u001b[0;34m=\u001b[0m \u001b[0mepoch_stats\u001b[0m\u001b[0;34m(\u001b[0m\u001b[0mon_epoch_end\u001b[0m\u001b[0;34m(\u001b[0m\u001b[0mreduce\u001b[0m\u001b[0;34m(\u001b[0m\u001b[0mtrain_batches\u001b[0m\u001b[0;34m,\u001b[0m \u001b[0mstate\u001b[0m\u001b[0;34m,\u001b[0m \u001b[0mtrain_steps\u001b[0m\u001b[0;34m)\u001b[0m\u001b[0;34m)\u001b[0m\u001b[0;34m)\u001b[0m\u001b[0;34m,\u001b[0m \u001b[0mtimer\u001b[0m\u001b[0;34m(\u001b[0m\u001b[0;34m)\u001b[0m\u001b[0;34m\u001b[0m\u001b[0;34m\u001b[0m\u001b[0m\n\u001b[0m\u001b[1;32m    536\u001b[0m     \u001b[0mvalid_summary\u001b[0m\u001b[0;34m,\u001b[0m \u001b[0mvalid_time\u001b[0m \u001b[0;34m=\u001b[0m \u001b[0mepoch_stats\u001b[0m\u001b[0;34m(\u001b[0m\u001b[0mreduce\u001b[0m\u001b[0;34m(\u001b[0m\u001b[0mvalid_batches\u001b[0m\u001b[0;34m,\u001b[0m \u001b[0mstate\u001b[0m\u001b[0;34m,\u001b[0m \u001b[0mvalid_steps\u001b[0m\u001b[0;34m)\u001b[0m\u001b[0;34m)\u001b[0m\u001b[0;34m,\u001b[0m \u001b[0mtimer\u001b[0m\u001b[0;34m(\u001b[0m\u001b[0mupdate_total\u001b[0m\u001b[0;34m=\u001b[0m\u001b[0;32mFalse\u001b[0m\u001b[0;34m)\u001b[0m \u001b[0;31m#DAWNBench rules\u001b[0m\u001b[0;34m\u001b[0m\u001b[0;34m\u001b[0m\u001b[0m\n\u001b[1;32m    537\u001b[0m     return {\n",
            "\u001b[0;32m<ipython-input-1-e82a95c2c12e>\u001b[0m in \u001b[0;36mreduce\u001b[0;34m(batches, state, steps)\u001b[0m\n\u001b[1;32m    460\u001b[0m     \u001b[0;31m#need to do some tidying-up (e.g. log_activations)\u001b[0m\u001b[0;34m\u001b[0m\u001b[0;34m\u001b[0m\u001b[0;34m\u001b[0m\u001b[0m\n\u001b[1;32m    461\u001b[0m         \u001b[0;32mfor\u001b[0m \u001b[0mstep\u001b[0m \u001b[0;32min\u001b[0m \u001b[0msteps\u001b[0m\u001b[0;34m:\u001b[0m\u001b[0;34m\u001b[0m\u001b[0;34m\u001b[0m\u001b[0m\n\u001b[0;32m--> 462\u001b[0;31m             \u001b[0mupdates\u001b[0m \u001b[0;34m=\u001b[0m \u001b[0mstep\u001b[0m\u001b[0;34m(\u001b[0m\u001b[0mbatch\u001b[0m\u001b[0;34m,\u001b[0m \u001b[0mstate\u001b[0m\u001b[0;34m)\u001b[0m\u001b[0;34m\u001b[0m\u001b[0;34m\u001b[0m\u001b[0m\n\u001b[0m\u001b[1;32m    463\u001b[0m             \u001b[0;32mif\u001b[0m \u001b[0mupdates\u001b[0m\u001b[0;34m:\u001b[0m\u001b[0;34m\u001b[0m\u001b[0;34m\u001b[0m\u001b[0m\n\u001b[1;32m    464\u001b[0m                 \u001b[0;32mfor\u001b[0m \u001b[0mk\u001b[0m\u001b[0;34m,\u001b[0m\u001b[0mv\u001b[0m \u001b[0;32min\u001b[0m \u001b[0mupdates\u001b[0m\u001b[0;34m.\u001b[0m\u001b[0mitems\u001b[0m\u001b[0;34m(\u001b[0m\u001b[0;34m)\u001b[0m\u001b[0;34m:\u001b[0m\u001b[0;34m\u001b[0m\u001b[0;34m\u001b[0m\u001b[0m\n",
            "\u001b[0;32m<ipython-input-1-e82a95c2c12e>\u001b[0m in \u001b[0;36mstep\u001b[0;34m(batch, state)\u001b[0m\n\u001b[1;32m    498\u001b[0m         \u001b[0mstate\u001b[0m\u001b[0;34m[\u001b[0m\u001b[0mMODEL\u001b[0m\u001b[0;34m]\u001b[0m\u001b[0;34m.\u001b[0m\u001b[0mzero_grad\u001b[0m\u001b[0;34m(\u001b[0m\u001b[0;34m)\u001b[0m\u001b[0;34m\u001b[0m\u001b[0;34m\u001b[0m\u001b[0m\n\u001b[1;32m    499\u001b[0m         \u001b[0;32mif\u001b[0m \u001b[0;32mnot\u001b[0m \u001b[0mbatch\u001b[0m\u001b[0;34m:\u001b[0m \u001b[0;32mreturn\u001b[0m\u001b[0;34m\u001b[0m\u001b[0;34m\u001b[0m\u001b[0m\n\u001b[0;32m--> 500\u001b[0;31m         \u001b[0mstate\u001b[0m\u001b[0;34m[\u001b[0m\u001b[0mOUTPUT\u001b[0m\u001b[0;34m]\u001b[0m\u001b[0;34m[\u001b[0m\u001b[0;34m'loss'\u001b[0m\u001b[0;34m]\u001b[0m\u001b[0;34m.\u001b[0m\u001b[0mto\u001b[0m\u001b[0;34m(\u001b[0m\u001b[0mdtype\u001b[0m\u001b[0;34m)\u001b[0m\u001b[0;34m.\u001b[0m\u001b[0msum\u001b[0m\u001b[0;34m(\u001b[0m\u001b[0;34m)\u001b[0m\u001b[0;34m.\u001b[0m\u001b[0mbackward\u001b[0m\u001b[0;34m(\u001b[0m\u001b[0;34m)\u001b[0m\u001b[0;34m\u001b[0m\u001b[0;34m\u001b[0m\u001b[0m\n\u001b[0m\u001b[1;32m    501\u001b[0m     \u001b[0;32mreturn\u001b[0m \u001b[0mstep\u001b[0m\u001b[0;34m\u001b[0m\u001b[0;34m\u001b[0m\u001b[0m\n\u001b[1;32m    502\u001b[0m \u001b[0;34m\u001b[0m\u001b[0m\n",
            "\u001b[0;32m~/anaconda3/lib/python3.7/site-packages/torch/tensor.py\u001b[0m in \u001b[0;36mbackward\u001b[0;34m(self, gradient, retain_graph, create_graph)\u001b[0m\n\u001b[1;32m    219\u001b[0m                 \u001b[0mretain_graph\u001b[0m\u001b[0;34m=\u001b[0m\u001b[0mretain_graph\u001b[0m\u001b[0;34m,\u001b[0m\u001b[0;34m\u001b[0m\u001b[0;34m\u001b[0m\u001b[0m\n\u001b[1;32m    220\u001b[0m                 create_graph=create_graph)\n\u001b[0;32m--> 221\u001b[0;31m         \u001b[0mtorch\u001b[0m\u001b[0;34m.\u001b[0m\u001b[0mautograd\u001b[0m\u001b[0;34m.\u001b[0m\u001b[0mbackward\u001b[0m\u001b[0;34m(\u001b[0m\u001b[0mself\u001b[0m\u001b[0;34m,\u001b[0m \u001b[0mgradient\u001b[0m\u001b[0;34m,\u001b[0m \u001b[0mretain_graph\u001b[0m\u001b[0;34m,\u001b[0m \u001b[0mcreate_graph\u001b[0m\u001b[0;34m)\u001b[0m\u001b[0;34m\u001b[0m\u001b[0;34m\u001b[0m\u001b[0m\n\u001b[0m\u001b[1;32m    222\u001b[0m \u001b[0;34m\u001b[0m\u001b[0m\n\u001b[1;32m    223\u001b[0m     \u001b[0;32mdef\u001b[0m \u001b[0mregister_hook\u001b[0m\u001b[0;34m(\u001b[0m\u001b[0mself\u001b[0m\u001b[0;34m,\u001b[0m \u001b[0mhook\u001b[0m\u001b[0;34m)\u001b[0m\u001b[0;34m:\u001b[0m\u001b[0;34m\u001b[0m\u001b[0;34m\u001b[0m\u001b[0m\n",
            "\u001b[0;32m~/anaconda3/lib/python3.7/site-packages/torch/autograd/__init__.py\u001b[0m in \u001b[0;36mbackward\u001b[0;34m(tensors, grad_tensors, retain_graph, create_graph, grad_variables)\u001b[0m\n\u001b[1;32m    130\u001b[0m     Variable._execution_engine.run_backward(\n\u001b[1;32m    131\u001b[0m         \u001b[0mtensors\u001b[0m\u001b[0;34m,\u001b[0m \u001b[0mgrad_tensors_\u001b[0m\u001b[0;34m,\u001b[0m \u001b[0mretain_graph\u001b[0m\u001b[0;34m,\u001b[0m \u001b[0mcreate_graph\u001b[0m\u001b[0;34m,\u001b[0m\u001b[0;34m\u001b[0m\u001b[0;34m\u001b[0m\u001b[0m\n\u001b[0;32m--> 132\u001b[0;31m         allow_unreachable=True)  # allow_unreachable flag\n\u001b[0m\u001b[1;32m    133\u001b[0m \u001b[0;34m\u001b[0m\u001b[0m\n\u001b[1;32m    134\u001b[0m \u001b[0;34m\u001b[0m\u001b[0m\n",
            "\u001b[0;31mKeyboardInterrupt\u001b[0m: "
          ]
        }
      ],
      "source": [
        "epochs, batch_size = 25, 512\n",
        "transforms = (Crop(32, 32), FlipLR(), Cutout(8, 8))\n",
        "opt_params = {'lr': lr_schedule([0, epochs/5, epochs], [0.0, 0.4, 0.0], batch_size), 'weight_decay': Const(5e-4*batch_size), 'momentum': Const(0.9)}\n",
        "\n",
        "logs = Table(report=every(epochs,'epoch'))\n",
        "for run in range(N_RUNS):\n",
        "    model = build_model(maxpool_pre_net, label_smoothing_loss(0.2))\n",
        "    state, timer = {MODEL: model, OPTS: [SGD(trainable_params(model).values(), opt_params)]}, Timer(torch.cuda.synchronize)\n",
        "    for epoch in range(epochs):\n",
        "        logs.append(union({'run': run+1, 'epoch': epoch+1}, train_epoch(state, timer, train_batches(batch_size, transforms), valid_batches(batch_size))))\n",
        "summary(logs)"
      ]
    },
    {
      "cell_type": "markdown",
      "metadata": {
        "id": "nc5w9r2HSof1"
      },
      "source": [
        "Test accuracy improves to 94.2% (mean of 50 runs.) We can trade this for training time by reducing the number of epochs. As a rule of thumb, we reduce training by one epoch for each 0.1% of test accuracy improvement, since this roughly tracks the gain from an extra epoch of training. We reduce the warmup period - during which learning rates increase linearly - in proportion to the overall number of epochs. \n",
        "\n",
        "Accuracy for 23 epochs of training is 94.1% and training time has dipped under a minute!"
      ]
    },
    {
      "cell_type": "markdown",
      "metadata": {
        "id": "1ug1Qk7-YyJW"
      },
      "source": [
        "### CELU activations (52s)"
      ]
    },
    {
      "cell_type": "markdown",
      "metadata": {
        "id": "EyAlk-aa9l8E"
      },
      "source": [
        "We might hope to help the optimisation process by using a smooth activation function, rather than ReLU with its delta-function of curvature at the origin. This may also help generalisation since smoothed functions lead to a less expressive function class - in the large smoothing limit we recover a linear network. \n",
        "\n",
        "We are otherwise happy with ReLU so we're going to pick a simple smoothed-out alternative. Our choice is the Continuously Differentiable Exponential Linear Unit or [CELU](https://arxiv.org/abs/1704.07483) activation since it is smooth (unlike ELU) and the PyTorch implementation is faster than that of the otherwise perfectly adequate Softplus activation. In addition to smoothing, CELU applies an x- and y-shift to ReLU as shown below, but these are largely irrelevant given our use of batch norm."
      ]
    },
    {
      "cell_type": "code",
      "execution_count": 22,
      "metadata": {
        "colab": {
          "base_uri": "https://localhost:8080/",
          "height": 368
        },
        "id": "K7g9dIFu1jB_",
        "outputId": "c9238162-2a23-47f6-88ec-7aad73f62283"
      },
      "outputs": [],
      "source": [
        "alpha = 0.075\n",
        "\n",
        "funcs = {\n",
        "    'CELU(x; α)': nn.CELU(alpha),\n",
        "    'ReLU(x+α)-α': lambda x: torch.nn.functional.relu(x+alpha) - alpha,\n",
        "}\n",
        "\n",
        "xs = torch.tensor(np.arange(-1, 1, 0.01))\n",
        "data = pd.DataFrame([{'func': k, 'x': float(to_numpy(x)), 'y': float(to_numpy(f(x)))} for x in xs for k,f in funcs.items()])\n",
        "# alt.Chart(data).mark_line().encode(x='x', y='y', color='func')"
      ]
    },
    {
      "cell_type": "markdown",
      "metadata": {
        "id": "-28Zj2A3chKd"
      },
      "source": [
        "Let's see how it works  - as usual the smoothing parameter $\\alpha$ has been roughly manually tuned."
      ]
    },
    {
      "cell_type": "code",
      "execution_count": 23,
      "metadata": {
        "colab": {
          "base_uri": "https://localhost:8080/",
          "height": 120
        },
        "id": "x8KwIQjrGQlR",
        "outputId": "ce717079-d602-40c3-c2f3-b43f34685f24"
      },
      "outputs": [
        {
          "data": {
            "text/plain": [
              "pydot is needed for network visualisation"
            ]
          },
          "metadata": {},
          "output_type": "display_data"
        }
      ],
      "source": [
        "celu_net = network(conv_pool_block=conv_pool_block_pre, types={nn.ReLU: partial(nn.CELU, alpha=0.075)})\n",
        "show(celu_net)"
      ]
    },
    {
      "cell_type": "code",
      "execution_count": 24,
      "metadata": {
        "id": "cH7GrPu5dWna"
      },
      "outputs": [
        {
          "name": "stdout",
          "output_type": "stream",
          "text": [
            "         run        epoch   train time   train loss    train acc   valid time   valid loss    valid acc   total time\n"
          ]
        }
      ],
      "source": [
        "epochs, batch_size = 23, 512\n",
        "transforms = (Crop(32, 32), FlipLR(), Cutout(8, 8))\n",
        "opt_params = {'lr': lr_schedule([0, epochs/5, epochs], [0.0, 0.4, 0.0], batch_size), 'weight_decay': Const(5e-4*batch_size), 'momentum': Const(0.9)}\n",
        "\n",
        "logs = Table(report=every(epochs,'epoch'))\n",
        "for run in range(N_RUNS):\n",
        "    model = build_model(celu_net, label_smoothing_loss(0.2))\n",
        "    state, timer = {MODEL: model, OPTS: [SGD(trainable_params(model).values(), opt_params)]}, Timer(torch.cuda.synchronize)\n",
        "    for epoch in range(epochs):\n",
        "        logs.append(union({'run': run+1, 'epoch': epoch+1}, train_epoch(state, timer, train_batches(batch_size, transforms), valid_batches(batch_size))))\n",
        "summary(logs)"
      ]
    },
    {
      "cell_type": "markdown",
      "metadata": {
        "id": "_uu5xtfMc1gK"
      },
      "source": [
        "This gives an impressive improvement to 94.3% test accuracy (mean of 50 runs) allowing a further 3 epoch reduction in training and a 20 epoch time of 52s for 94.1% accuracy."
      ]
    },
    {
      "cell_type": "markdown",
      "metadata": {
        "id": "7HoNA_JwSkC_"
      },
      "source": [
        "### Ghost batch norm (46s)\n",
        "\n"
      ]
    },
    {
      "cell_type": "markdown",
      "metadata": {
        "id": "J1F8M7LfV8dE"
      },
      "source": [
        "Batch norm seems to work best with batch size of around 32. The reasons presumably have to do with noise in the batch statistics and specifically a balance between a beneficial regularising effect at intermediate batch sizes and an excess of noise at small batches.\n",
        "\n",
        "Our batches are of size 512 and we can't afford to reduce them without taking a serious hit on training times, but we can apply batch norm separately to subsets of a training batch. This technique, known as 'ghost' batch norm, is usually used in a distributed setting but is just as useful when using large batches on a single node. It isn't supported directly in PyTorch but we can roll our own easily enough."
      ]
    },
    {
      "cell_type": "code",
      "execution_count": null,
      "metadata": {
        "colab": {
          "base_uri": "https://localhost:8080/",
          "height": 120
        },
        "id": "HwmZ3fJZT6sP",
        "outputId": "faff87b8-5481-4e62-e0df-f989b799ff7d"
      },
      "outputs": [
        {
          "data": {
            "image/svg+xml": "<?xml version=\"1.0\" encoding=\"UTF-8\" standalone=\"no\"?>\n<!DOCTYPE svg PUBLIC \"-//W3C//DTD SVG 1.1//EN\"\n \"http://www.w3.org/Graphics/SVG/1.1/DTD/svg11.dtd\">\n<!-- Generated by graphviz version 2.38.0 (20140413.2041)\n -->\n<!-- Title: G Pages: 1 -->\n<svg width=\"1080pt\" height=\"59pt\"\n viewBox=\"0.00 0.00 1080.00 59.24\" xmlns=\"http://www.w3.org/2000/svg\" xmlns:xlink=\"http://www.w3.org/1999/xlink\">\n<g id=\"graph0\" class=\"graph\" transform=\"scale(0.310167 0.310167) rotate(0) translate(4 187)\">\n<title>G</title>\n<polygon fill=\"white\" stroke=\"none\" points=\"-4,4 -4,-187 3478,-187 3478,4 -4,4\"/>\n<g id=\"clust1\" class=\"cluster\"><title>cluster_prep</title>\n<path fill=\"#777777\" fill-opacity=\"0.266667\" stroke=\"black\" d=\"M94,-48C94,-48 320,-48 320,-48 326,-48 332,-54 332,-60 332,-60 332,-111 332,-111 332,-117 326,-123 320,-123 320,-123 94,-123 94,-123 88,-123 82,-117 82,-111 82,-111 82,-60 82,-60 82,-54 88,-48 94,-48\"/>\n<text text-anchor=\"middle\" x=\"207\" y=\"-107.8\" font-family=\"Times,serif\" font-size=\"14.00\">prep</text>\n</g>\n<g id=\"clust2\" class=\"cluster\"><title>cluster_layer1</title>\n<path fill=\"#777777\" fill-opacity=\"0.266667\" stroke=\"black\" d=\"M364,-12C364,-12 1498,-12 1498,-12 1504,-12 1510,-18 1510,-24 1510,-24 1510,-163 1510,-163 1510,-169 1504,-175 1498,-175 1498,-175 364,-175 364,-175 358,-175 352,-169 352,-163 352,-163 352,-24 352,-24 352,-18 358,-12 364,-12\"/>\n<text text-anchor=\"middle\" x=\"931\" y=\"-159.8\" font-family=\"Times,serif\" font-size=\"14.00\">layer1</text>\n</g>\n<g id=\"clust3\" class=\"cluster\"><title>cluster_layer1_residual</title>\n<path fill=\"#777777\" fill-opacity=\"0.266667\" stroke=\"black\" d=\"M724,-20C724,-20 1490,-20 1490,-20 1496,-20 1502,-26 1502,-32 1502,-32 1502,-132 1502,-132 1502,-138 1496,-144 1490,-144 1490,-144 724,-144 724,-144 718,-144 712,-138 712,-132 712,-132 712,-32 712,-32 712,-26 718,-20 724,-20\"/>\n<text text-anchor=\"middle\" x=\"1107\" y=\"-128.8\" font-family=\"Times,serif\" font-size=\"14.00\">residual</text>\n</g>\n<g id=\"clust4\" class=\"cluster\"><title>cluster_layer1_residual_res1</title>\n<path fill=\"#777777\" fill-opacity=\"0.266667\" stroke=\"black\" d=\"M814,-28C814,-28 1040,-28 1040,-28 1046,-28 1052,-34 1052,-40 1052,-40 1052,-91 1052,-91 1052,-97 1046,-103 1040,-103 1040,-103 814,-103 814,-103 808,-103 802,-97 802,-91 802,-91 802,-40 802,-40 802,-34 808,-28 814,-28\"/>\n<text text-anchor=\"middle\" x=\"927\" y=\"-87.8\" font-family=\"Times,serif\" font-size=\"14.00\">res1</text>\n</g>\n<g id=\"clust5\" class=\"cluster\"><title>cluster_layer1_residual_res2</title>\n<path fill=\"#777777\" fill-opacity=\"0.266667\" stroke=\"black\" d=\"M1084,-28C1084,-28 1310,-28 1310,-28 1316,-28 1322,-34 1322,-40 1322,-40 1322,-91 1322,-91 1322,-97 1316,-103 1310,-103 1310,-103 1084,-103 1084,-103 1078,-103 1072,-97 1072,-91 1072,-91 1072,-40 1072,-40 1072,-34 1078,-28 1084,-28\"/>\n<text text-anchor=\"middle\" x=\"1197\" y=\"-87.8\" font-family=\"Times,serif\" font-size=\"14.00\">res2</text>\n</g>\n<g id=\"clust6\" class=\"cluster\"><title>cluster_layer2</title>\n<path fill=\"#777777\" fill-opacity=\"0.266667\" stroke=\"black\" d=\"M1534,-53C1534,-53 1850,-53 1850,-53 1856,-53 1862,-59 1862,-65 1862,-65 1862,-116 1862,-116 1862,-122 1856,-128 1850,-128 1850,-128 1534,-128 1534,-128 1528,-128 1522,-122 1522,-116 1522,-116 1522,-65 1522,-65 1522,-59 1528,-53 1534,-53\"/>\n<text text-anchor=\"middle\" x=\"1692\" y=\"-112.8\" font-family=\"Times,serif\" font-size=\"14.00\">layer2</text>\n</g>\n<g id=\"clust7\" class=\"cluster\"><title>cluster_layer3</title>\n<path fill=\"#777777\" fill-opacity=\"0.266667\" stroke=\"black\" d=\"M1894,-8C1894,-8 3028,-8 3028,-8 3034,-8 3040,-14 3040,-20 3040,-20 3040,-159 3040,-159 3040,-165 3034,-171 3028,-171 3028,-171 1894,-171 1894,-171 1888,-171 1882,-165 1882,-159 1882,-159 1882,-20 1882,-20 1882,-14 1888,-8 1894,-8\"/>\n<text text-anchor=\"middle\" x=\"2461\" y=\"-155.8\" font-family=\"Times,serif\" font-size=\"14.00\">layer3</text>\n</g>\n<g id=\"clust8\" class=\"cluster\"><title>cluster_layer3_residual</title>\n<path fill=\"#777777\" fill-opacity=\"0.266667\" stroke=\"black\" d=\"M2254,-16C2254,-16 3020,-16 3020,-16 3026,-16 3032,-22 3032,-28 3032,-28 3032,-128 3032,-128 3032,-134 3026,-140 3020,-140 3020,-140 2254,-140 2254,-140 2248,-140 2242,-134 2242,-128 2242,-128 2242,-28 2242,-28 2242,-22 2248,-16 2254,-16\"/>\n<text text-anchor=\"middle\" x=\"2637\" y=\"-124.8\" font-family=\"Times,serif\" font-size=\"14.00\">residual</text>\n</g>\n<g id=\"clust9\" class=\"cluster\"><title>cluster_layer3_residual_res1</title>\n<path fill=\"#777777\" fill-opacity=\"0.266667\" stroke=\"black\" d=\"M2344,-24C2344,-24 2570,-24 2570,-24 2576,-24 2582,-30 2582,-36 2582,-36 2582,-87 2582,-87 2582,-93 2576,-99 2570,-99 2570,-99 2344,-99 2344,-99 2338,-99 2332,-93 2332,-87 2332,-87 2332,-36 2332,-36 2332,-30 2338,-24 2344,-24\"/>\n<text text-anchor=\"middle\" x=\"2457\" y=\"-83.8\" font-family=\"Times,serif\" font-size=\"14.00\">res1</text>\n</g>\n<g id=\"clust10\" class=\"cluster\"><title>cluster_layer3_residual_res2</title>\n<path fill=\"#777777\" fill-opacity=\"0.266667\" stroke=\"black\" d=\"M2614,-24C2614,-24 2840,-24 2840,-24 2846,-24 2852,-30 2852,-36 2852,-36 2852,-87 2852,-87 2852,-93 2846,-99 2840,-99 2840,-99 2614,-99 2614,-99 2608,-99 2602,-93 2602,-87 2602,-87 2602,-36 2602,-36 2602,-30 2608,-24 2614,-24\"/>\n<text text-anchor=\"middle\" x=\"2727\" y=\"-83.8\" font-family=\"Times,serif\" font-size=\"14.00\">res2</text>\n</g>\n<g id=\"clust11\" class=\"cluster\"><title>cluster_classifier</title>\n<path fill=\"#777777\" fill-opacity=\"0.266667\" stroke=\"black\" d=\"M3154,-49C3154,-49 3380,-49 3380,-49 3386,-49 3392,-55 3392,-61 3392,-61 3392,-112 3392,-112 3392,-118 3386,-124 3380,-124 3380,-124 3154,-124 3154,-124 3148,-124 3142,-118 3142,-112 3142,-112 3142,-61 3142,-61 3142,-55 3148,-49 3154,-49\"/>\n<text text-anchor=\"middle\" x=\"3267\" y=\"-108.8\" font-family=\"Times,serif\" font-size=\"14.00\">classifier</text>\n</g>\n<!-- prep_conv -->\n<g id=\"node1\" class=\"node\"><title>prep_conv</title>\n<g id=\"a_node1\"><a xlink:title=\"&lt;class &#39;torch.nn.modules.conv.Conv2d&#39;&gt; {&#39;in_channels&#39;: 3, &#39;out_channels&#39;: 64, &#39;kernel_size&#39;: (3, 3), &#39;stride&#39;: (1, 1), &#39;padding&#39;: (1, 1), &#39;bias&#39;: False}\">\n<path fill=\"#bebada\" stroke=\"black\" d=\"M132,-92C132,-92 102,-92 102,-92 96,-92 90,-86 90,-80 90,-80 90,-68 90,-68 90,-62 96,-56 102,-56 102,-56 132,-56 132,-56 138,-56 144,-62 144,-68 144,-68 144,-80 144,-80 144,-86 138,-92 132,-92\"/>\n<text text-anchor=\"middle\" x=\"117\" y=\"-70.3\" font-family=\"Times,serif\" font-size=\"14.00\">conv</text>\n</a>\n</g>\n</g>\n<!-- prep_norm -->\n<g id=\"node2\" class=\"node\"><title>prep_norm</title>\n<g id=\"a_node2\"><a xlink:title=\"functools.partial(&lt;class &#39;__main__.GhostBatchNorm&#39;&gt;, num_splits=16) {&#39;num_features&#39;: 64}\">\n<path fill=\"#4dddf8\" stroke=\"black\" d=\"M222,-92C222,-92 192,-92 192,-92 186,-92 180,-86 180,-80 180,-80 180,-68 180,-68 180,-62 186,-56 192,-56 192,-56 222,-56 222,-56 228,-56 234,-62 234,-68 234,-68 234,-80 234,-80 234,-86 228,-92 222,-92\"/>\n<text text-anchor=\"middle\" x=\"207\" y=\"-70.3\" font-family=\"Times,serif\" font-size=\"14.00\">norm</text>\n</a>\n</g>\n</g>\n<!-- prep_conv&#45;&gt;prep_norm -->\n<g id=\"edge2\" class=\"edge\"><title>prep_conv&#45;&gt;prep_norm</title>\n<path fill=\"none\" stroke=\"black\" d=\"M144.403,-74C152.393,-74 161.311,-74 169.824,-74\"/>\n<polygon fill=\"black\" stroke=\"black\" points=\"169.919,-77.5001 179.919,-74 169.919,-70.5001 169.919,-77.5001\"/>\n</g>\n<!-- prep_act -->\n<g id=\"node3\" class=\"node\"><title>prep_act</title>\n<g id=\"a_node3\"><a xlink:title=\"functools.partial(&lt;class &#39;torch.nn.modules.activation.CELU&#39;&gt;, 0.075) {}\">\n<path fill=\"#e66493\" stroke=\"black\" d=\"M312,-92C312,-92 282,-92 282,-92 276,-92 270,-86 270,-80 270,-80 270,-68 270,-68 270,-62 276,-56 282,-56 282,-56 312,-56 312,-56 318,-56 324,-62 324,-68 324,-68 324,-80 324,-80 324,-86 318,-92 312,-92\"/>\n<text text-anchor=\"middle\" x=\"297\" y=\"-70.3\" font-family=\"Times,serif\" font-size=\"14.00\">act</text>\n</a>\n</g>\n</g>\n<!-- prep_norm&#45;&gt;prep_act -->\n<g id=\"edge3\" class=\"edge\"><title>prep_norm&#45;&gt;prep_act</title>\n<path fill=\"none\" stroke=\"black\" d=\"M234.403,-74C242.393,-74 251.311,-74 259.824,-74\"/>\n<polygon fill=\"black\" stroke=\"black\" points=\"259.919,-77.5001 269.919,-74 259.919,-70.5001 259.919,-77.5001\"/>\n</g>\n<!-- layer1_conv -->\n<g id=\"node4\" class=\"node\"><title>layer1_conv</title>\n<g id=\"a_node4\"><a xlink:title=\"&lt;class &#39;torch.nn.modules.conv.Conv2d&#39;&gt; {&#39;in_channels&#39;: 64, &#39;out_channels&#39;: 128, &#39;kernel_size&#39;: (3, 3), &#39;stride&#39;: (1, 1), &#39;padding&#39;: (1, 1), &#39;bias&#39;: False}\">\n<path fill=\"#bebada\" stroke=\"black\" d=\"M402,-92C402,-92 372,-92 372,-92 366,-92 360,-86 360,-80 360,-80 360,-68 360,-68 360,-62 366,-56 372,-56 372,-56 402,-56 402,-56 408,-56 414,-62 414,-68 414,-68 414,-80 414,-80 414,-86 408,-92 402,-92\"/>\n<text text-anchor=\"middle\" x=\"387\" y=\"-70.3\" font-family=\"Times,serif\" font-size=\"14.00\">conv</text>\n</a>\n</g>\n</g>\n<!-- prep_act&#45;&gt;layer1_conv -->\n<g id=\"edge4\" class=\"edge\"><title>prep_act&#45;&gt;layer1_conv</title>\n<path fill=\"none\" stroke=\"black\" d=\"M324.403,-74C332.393,-74 341.311,-74 349.824,-74\"/>\n<polygon fill=\"black\" stroke=\"black\" points=\"349.919,-77.5001 359.919,-74 349.919,-70.5001 349.919,-77.5001\"/>\n</g>\n<!-- layer1_pool -->\n<g id=\"node5\" class=\"node\"><title>layer1_pool</title>\n<g id=\"a_node5\"><a xlink:title=\"&lt;class &#39;torch.nn.modules.pooling.MaxPool2d&#39;&gt; {&#39;kernel_size&#39;: 2}\">\n<path fill=\"#8dd3c7\" stroke=\"black\" d=\"M492,-92C492,-92 462,-92 462,-92 456,-92 450,-86 450,-80 450,-80 450,-68 450,-68 450,-62 456,-56 462,-56 462,-56 492,-56 492,-56 498,-56 504,-62 504,-68 504,-68 504,-80 504,-80 504,-86 498,-92 492,-92\"/>\n<text text-anchor=\"middle\" x=\"477\" y=\"-70.3\" font-family=\"Times,serif\" font-size=\"14.00\">pool</text>\n</a>\n</g>\n</g>\n<!-- layer1_conv&#45;&gt;layer1_pool -->\n<g id=\"edge5\" class=\"edge\"><title>layer1_conv&#45;&gt;layer1_pool</title>\n<path fill=\"none\" stroke=\"black\" d=\"M414.403,-74C422.393,-74 431.311,-74 439.824,-74\"/>\n<polygon fill=\"black\" stroke=\"black\" points=\"439.919,-77.5001 449.919,-74 439.919,-70.5001 439.919,-77.5001\"/>\n</g>\n<!-- layer1_norm -->\n<g id=\"node6\" class=\"node\"><title>layer1_norm</title>\n<g id=\"a_node6\"><a xlink:title=\"functools.partial(&lt;class &#39;__main__.GhostBatchNorm&#39;&gt;, num_splits=16) {&#39;num_features&#39;: 128}\">\n<path fill=\"#4dddf8\" stroke=\"black\" d=\"M582,-92C582,-92 552,-92 552,-92 546,-92 540,-86 540,-80 540,-80 540,-68 540,-68 540,-62 546,-56 552,-56 552,-56 582,-56 582,-56 588,-56 594,-62 594,-68 594,-68 594,-80 594,-80 594,-86 588,-92 582,-92\"/>\n<text text-anchor=\"middle\" x=\"567\" y=\"-70.3\" font-family=\"Times,serif\" font-size=\"14.00\">norm</text>\n</a>\n</g>\n</g>\n<!-- layer1_pool&#45;&gt;layer1_norm -->\n<g id=\"edge6\" class=\"edge\"><title>layer1_pool&#45;&gt;layer1_norm</title>\n<path fill=\"none\" stroke=\"black\" d=\"M504.403,-74C512.393,-74 521.311,-74 529.824,-74\"/>\n<polygon fill=\"black\" stroke=\"black\" points=\"529.919,-77.5001 539.919,-74 529.919,-70.5001 529.919,-77.5001\"/>\n</g>\n<!-- layer1_act -->\n<g id=\"node7\" class=\"node\"><title>layer1_act</title>\n<g id=\"a_node7\"><a xlink:title=\"functools.partial(&lt;class &#39;torch.nn.modules.activation.CELU&#39;&gt;, 0.075) {}\">\n<path fill=\"#e66493\" stroke=\"black\" d=\"M672,-92C672,-92 642,-92 642,-92 636,-92 630,-86 630,-80 630,-80 630,-68 630,-68 630,-62 636,-56 642,-56 642,-56 672,-56 672,-56 678,-56 684,-62 684,-68 684,-68 684,-80 684,-80 684,-86 678,-92 672,-92\"/>\n<text text-anchor=\"middle\" x=\"657\" y=\"-70.3\" font-family=\"Times,serif\" font-size=\"14.00\">act</text>\n</a>\n</g>\n</g>\n<!-- layer1_norm&#45;&gt;layer1_act -->\n<g id=\"edge7\" class=\"edge\"><title>layer1_norm&#45;&gt;layer1_act</title>\n<path fill=\"none\" stroke=\"black\" d=\"M594.403,-74C602.393,-74 611.311,-74 619.824,-74\"/>\n<polygon fill=\"black\" stroke=\"black\" points=\"619.919,-77.5001 629.919,-74 619.919,-70.5001 619.919,-77.5001\"/>\n</g>\n<!-- layer1_residual_in -->\n<g id=\"node8\" class=\"node\"><title>layer1_residual_in</title>\n<g id=\"a_node8\"><a xlink:title=\"&lt;class &#39;__main__.Identity&#39;&gt; {}\">\n<path fill=\"#80b1d3\" stroke=\"black\" d=\"M762,-92C762,-92 732,-92 732,-92 726,-92 720,-86 720,-80 720,-80 720,-68 720,-68 720,-62 726,-56 732,-56 732,-56 762,-56 762,-56 768,-56 774,-62 774,-68 774,-68 774,-80 774,-80 774,-86 768,-92 762,-92\"/>\n<text text-anchor=\"middle\" x=\"747\" y=\"-70.3\" font-family=\"Times,serif\" font-size=\"14.00\">in</text>\n</a>\n</g>\n</g>\n<!-- layer1_act&#45;&gt;layer1_residual_in -->\n<g id=\"edge8\" class=\"edge\"><title>layer1_act&#45;&gt;layer1_residual_in</title>\n<path fill=\"none\" stroke=\"black\" d=\"M684.403,-74C692.393,-74 701.311,-74 709.824,-74\"/>\n<polygon fill=\"black\" stroke=\"black\" points=\"709.919,-77.5001 719.919,-74 709.919,-70.5001 709.919,-77.5001\"/>\n</g>\n<!-- layer1_residual_res1_conv -->\n<g id=\"node9\" class=\"node\"><title>layer1_residual_res1_conv</title>\n<g id=\"a_node9\"><a xlink:title=\"&lt;class &#39;torch.nn.modules.conv.Conv2d&#39;&gt; {&#39;in_channels&#39;: 128, &#39;out_channels&#39;: 128, &#39;kernel_size&#39;: (3, 3), &#39;stride&#39;: (1, 1), &#39;padding&#39;: (1, 1), &#39;bias&#39;: False}\">\n<path fill=\"#bebada\" stroke=\"black\" d=\"M852,-72C852,-72 822,-72 822,-72 816,-72 810,-66 810,-60 810,-60 810,-48 810,-48 810,-42 816,-36 822,-36 822,-36 852,-36 852,-36 858,-36 864,-42 864,-48 864,-48 864,-60 864,-60 864,-66 858,-72 852,-72\"/>\n<text text-anchor=\"middle\" x=\"837\" y=\"-50.3\" font-family=\"Times,serif\" font-size=\"14.00\">conv</text>\n</a>\n</g>\n</g>\n<!-- layer1_residual_in&#45;&gt;layer1_residual_res1_conv -->\n<g id=\"edge9\" class=\"edge\"><title>layer1_residual_in&#45;&gt;layer1_residual_res1_conv</title>\n<path fill=\"none\" stroke=\"black\" d=\"M774.403,-67.9993C782.481,-66.1634 791.507,-64.1121 800.105,-62.158\"/>\n<polygon fill=\"black\" stroke=\"black\" points=\"800.943,-65.5568 809.919,-59.9275 799.392,-58.7308 800.943,-65.5568\"/>\n</g>\n<!-- layer1_residual_add -->\n<g id=\"node16\" class=\"node\"><title>layer1_residual_add</title>\n<g id=\"a_node16\"><a xlink:title=\"&lt;class &#39;__main__.Add&#39;&gt; {}\">\n<path fill=\"#fdb462\" stroke=\"black\" d=\"M1482,-97C1482,-97 1452,-97 1452,-97 1446,-97 1440,-91 1440,-85 1440,-85 1440,-73 1440,-73 1440,-67 1446,-61 1452,-61 1452,-61 1482,-61 1482,-61 1488,-61 1494,-67 1494,-73 1494,-73 1494,-85 1494,-85 1494,-91 1488,-97 1482,-97\"/>\n<text text-anchor=\"middle\" x=\"1467\" y=\"-75.3\" font-family=\"Times,serif\" font-size=\"14.00\">add</text>\n</a>\n</g>\n</g>\n<!-- layer1_residual_in&#45;&gt;layer1_residual_add -->\n<g id=\"edge16\" class=\"edge\"><title>layer1_residual_in&#45;&gt;layer1_residual_add</title>\n<path fill=\"none\" stroke=\"black\" d=\"M771.737,-92.1018C780.735,-97.9639 791.381,-103.78 802,-107 854.782,-123.006 870.844,-112 926,-112 926,-112 926,-112 1288,-112 1337.77,-112 1394.08,-99.3711 1429.8,-89.7384\"/>\n<polygon fill=\"black\" stroke=\"black\" points=\"1431.04,-93.0265 1439.74,-86.9884 1429.17,-86.2796 1431.04,-93.0265\"/>\n</g>\n<!-- layer1_residual_res1_norm -->\n<g id=\"node10\" class=\"node\"><title>layer1_residual_res1_norm</title>\n<g id=\"a_node10\"><a xlink:title=\"functools.partial(&lt;class &#39;__main__.GhostBatchNorm&#39;&gt;, num_splits=16) {&#39;num_features&#39;: 128}\">\n<path fill=\"#4dddf8\" stroke=\"black\" d=\"M942,-72C942,-72 912,-72 912,-72 906,-72 900,-66 900,-60 900,-60 900,-48 900,-48 900,-42 906,-36 912,-36 912,-36 942,-36 942,-36 948,-36 954,-42 954,-48 954,-48 954,-60 954,-60 954,-66 948,-72 942,-72\"/>\n<text text-anchor=\"middle\" x=\"927\" y=\"-50.3\" font-family=\"Times,serif\" font-size=\"14.00\">norm</text>\n</a>\n</g>\n</g>\n<!-- layer1_residual_res1_conv&#45;&gt;layer1_residual_res1_norm -->\n<g id=\"edge10\" class=\"edge\"><title>layer1_residual_res1_conv&#45;&gt;layer1_residual_res1_norm</title>\n<path fill=\"none\" stroke=\"black\" d=\"M864.403,-54C872.393,-54 881.311,-54 889.824,-54\"/>\n<polygon fill=\"black\" stroke=\"black\" points=\"889.919,-57.5001 899.919,-54 889.919,-50.5001 889.919,-57.5001\"/>\n</g>\n<!-- layer1_residual_res1_act -->\n<g id=\"node11\" class=\"node\"><title>layer1_residual_res1_act</title>\n<g id=\"a_node11\"><a xlink:title=\"functools.partial(&lt;class &#39;torch.nn.modules.activation.CELU&#39;&gt;, 0.075) {}\">\n<path fill=\"#e66493\" stroke=\"black\" d=\"M1032,-72C1032,-72 1002,-72 1002,-72 996,-72 990,-66 990,-60 990,-60 990,-48 990,-48 990,-42 996,-36 1002,-36 1002,-36 1032,-36 1032,-36 1038,-36 1044,-42 1044,-48 1044,-48 1044,-60 1044,-60 1044,-66 1038,-72 1032,-72\"/>\n<text text-anchor=\"middle\" x=\"1017\" y=\"-50.3\" font-family=\"Times,serif\" font-size=\"14.00\">act</text>\n</a>\n</g>\n</g>\n<!-- layer1_residual_res1_norm&#45;&gt;layer1_residual_res1_act -->\n<g id=\"edge11\" class=\"edge\"><title>layer1_residual_res1_norm&#45;&gt;layer1_residual_res1_act</title>\n<path fill=\"none\" stroke=\"black\" d=\"M954.403,-54C962.393,-54 971.311,-54 979.824,-54\"/>\n<polygon fill=\"black\" stroke=\"black\" points=\"979.919,-57.5001 989.919,-54 979.919,-50.5001 979.919,-57.5001\"/>\n</g>\n<!-- layer1_residual_res2_conv -->\n<g id=\"node12\" class=\"node\"><title>layer1_residual_res2_conv</title>\n<g id=\"a_node12\"><a xlink:title=\"&lt;class &#39;torch.nn.modules.conv.Conv2d&#39;&gt; {&#39;in_channels&#39;: 128, &#39;out_channels&#39;: 128, &#39;kernel_size&#39;: (3, 3), &#39;stride&#39;: (1, 1), &#39;padding&#39;: (1, 1), &#39;bias&#39;: False}\">\n<path fill=\"#bebada\" stroke=\"black\" d=\"M1122,-72C1122,-72 1092,-72 1092,-72 1086,-72 1080,-66 1080,-60 1080,-60 1080,-48 1080,-48 1080,-42 1086,-36 1092,-36 1092,-36 1122,-36 1122,-36 1128,-36 1134,-42 1134,-48 1134,-48 1134,-60 1134,-60 1134,-66 1128,-72 1122,-72\"/>\n<text text-anchor=\"middle\" x=\"1107\" y=\"-50.3\" font-family=\"Times,serif\" font-size=\"14.00\">conv</text>\n</a>\n</g>\n</g>\n<!-- layer1_residual_res1_act&#45;&gt;layer1_residual_res2_conv -->\n<g id=\"edge12\" class=\"edge\"><title>layer1_residual_res1_act&#45;&gt;layer1_residual_res2_conv</title>\n<path fill=\"none\" stroke=\"black\" d=\"M1044.4,-54C1052.39,-54 1061.31,-54 1069.82,-54\"/>\n<polygon fill=\"black\" stroke=\"black\" points=\"1069.92,-57.5001 1079.92,-54 1069.92,-50.5001 1069.92,-57.5001\"/>\n</g>\n<!-- layer1_residual_res2_norm -->\n<g id=\"node13\" class=\"node\"><title>layer1_residual_res2_norm</title>\n<g id=\"a_node13\"><a xlink:title=\"functools.partial(&lt;class &#39;__main__.GhostBatchNorm&#39;&gt;, num_splits=16) {&#39;num_features&#39;: 128}\">\n<path fill=\"#4dddf8\" stroke=\"black\" d=\"M1212,-72C1212,-72 1182,-72 1182,-72 1176,-72 1170,-66 1170,-60 1170,-60 1170,-48 1170,-48 1170,-42 1176,-36 1182,-36 1182,-36 1212,-36 1212,-36 1218,-36 1224,-42 1224,-48 1224,-48 1224,-60 1224,-60 1224,-66 1218,-72 1212,-72\"/>\n<text text-anchor=\"middle\" x=\"1197\" y=\"-50.3\" font-family=\"Times,serif\" font-size=\"14.00\">norm</text>\n</a>\n</g>\n</g>\n<!-- layer1_residual_res2_conv&#45;&gt;layer1_residual_res2_norm -->\n<g id=\"edge13\" class=\"edge\"><title>layer1_residual_res2_conv&#45;&gt;layer1_residual_res2_norm</title>\n<path fill=\"none\" stroke=\"black\" d=\"M1134.4,-54C1142.39,-54 1151.31,-54 1159.82,-54\"/>\n<polygon fill=\"black\" stroke=\"black\" points=\"1159.92,-57.5001 1169.92,-54 1159.92,-50.5001 1159.92,-57.5001\"/>\n</g>\n<!-- layer1_residual_res2_act -->\n<g id=\"node14\" class=\"node\"><title>layer1_residual_res2_act</title>\n<g id=\"a_node14\"><a xlink:title=\"functools.partial(&lt;class &#39;torch.nn.modules.activation.CELU&#39;&gt;, 0.075) {}\">\n<path fill=\"#e66493\" stroke=\"black\" d=\"M1302,-72C1302,-72 1272,-72 1272,-72 1266,-72 1260,-66 1260,-60 1260,-60 1260,-48 1260,-48 1260,-42 1266,-36 1272,-36 1272,-36 1302,-36 1302,-36 1308,-36 1314,-42 1314,-48 1314,-48 1314,-60 1314,-60 1314,-66 1308,-72 1302,-72\"/>\n<text text-anchor=\"middle\" x=\"1287\" y=\"-50.3\" font-family=\"Times,serif\" font-size=\"14.00\">act</text>\n</a>\n</g>\n</g>\n<!-- layer1_residual_res2_norm&#45;&gt;layer1_residual_res2_act -->\n<g id=\"edge14\" class=\"edge\"><title>layer1_residual_res2_norm&#45;&gt;layer1_residual_res2_act</title>\n<path fill=\"none\" stroke=\"black\" d=\"M1224.4,-54C1232.39,-54 1241.31,-54 1249.82,-54\"/>\n<polygon fill=\"black\" stroke=\"black\" points=\"1249.92,-57.5001 1259.92,-54 1249.92,-50.5001 1249.92,-57.5001\"/>\n</g>\n<!-- layer1_residual_out -->\n<g id=\"node15\" class=\"node\"><title>layer1_residual_out</title>\n<g id=\"a_node15\"><a xlink:title=\"&lt;class &#39;__main__.Identity&#39;&gt; {}\">\n<path fill=\"#80b1d3\" stroke=\"black\" d=\"M1392,-82C1392,-82 1362,-82 1362,-82 1356,-82 1350,-76 1350,-70 1350,-70 1350,-58 1350,-58 1350,-52 1356,-46 1362,-46 1362,-46 1392,-46 1392,-46 1398,-46 1404,-52 1404,-58 1404,-58 1404,-70 1404,-70 1404,-76 1398,-82 1392,-82\"/>\n<text text-anchor=\"middle\" x=\"1377\" y=\"-60.3\" font-family=\"Times,serif\" font-size=\"14.00\">out</text>\n</a>\n</g>\n</g>\n<!-- layer1_residual_res2_act&#45;&gt;layer1_residual_out -->\n<g id=\"edge15\" class=\"edge\"><title>layer1_residual_res2_act&#45;&gt;layer1_residual_out</title>\n<path fill=\"none\" stroke=\"black\" d=\"M1314.4,-57.0003C1322.39,-57.9083 1331.31,-58.9217 1339.82,-59.8891\"/>\n<polygon fill=\"black\" stroke=\"black\" points=\"1339.59,-63.3847 1349.92,-61.0362 1340.38,-56.4294 1339.59,-63.3847\"/>\n</g>\n<!-- layer1_residual_out&#45;&gt;layer1_residual_add -->\n<g id=\"edge17\" class=\"edge\"><title>layer1_residual_out&#45;&gt;layer1_residual_add</title>\n<path fill=\"none\" stroke=\"black\" d=\"M1404.4,-68.5005C1412.39,-69.8625 1421.31,-71.3825 1429.82,-72.8336\"/>\n<polygon fill=\"black\" stroke=\"black\" points=\"1429.47,-76.3242 1439.92,-74.5544 1430.65,-69.4237 1429.47,-76.3242\"/>\n</g>\n<!-- layer2_conv -->\n<g id=\"node17\" class=\"node\"><title>layer2_conv</title>\n<g id=\"a_node17\"><a xlink:title=\"&lt;class &#39;torch.nn.modules.conv.Conv2d&#39;&gt; {&#39;in_channels&#39;: 128, &#39;out_channels&#39;: 256, &#39;kernel_size&#39;: (3, 3), &#39;stride&#39;: (1, 1), &#39;padding&#39;: (1, 1), &#39;bias&#39;: False}\">\n<path fill=\"#bebada\" stroke=\"black\" d=\"M1572,-97C1572,-97 1542,-97 1542,-97 1536,-97 1530,-91 1530,-85 1530,-85 1530,-73 1530,-73 1530,-67 1536,-61 1542,-61 1542,-61 1572,-61 1572,-61 1578,-61 1584,-67 1584,-73 1584,-73 1584,-85 1584,-85 1584,-91 1578,-97 1572,-97\"/>\n<text text-anchor=\"middle\" x=\"1557\" y=\"-75.3\" font-family=\"Times,serif\" font-size=\"14.00\">conv</text>\n</a>\n</g>\n</g>\n<!-- layer1_residual_add&#45;&gt;layer2_conv -->\n<g id=\"edge18\" class=\"edge\"><title>layer1_residual_add&#45;&gt;layer2_conv</title>\n<path fill=\"none\" stroke=\"black\" d=\"M1494.4,-79C1502.39,-79 1511.31,-79 1519.82,-79\"/>\n<polygon fill=\"black\" stroke=\"black\" points=\"1519.92,-82.5001 1529.92,-79 1519.92,-75.5001 1519.92,-82.5001\"/>\n</g>\n<!-- layer2_pool -->\n<g id=\"node18\" class=\"node\"><title>layer2_pool</title>\n<g id=\"a_node18\"><a xlink:title=\"&lt;class &#39;torch.nn.modules.pooling.MaxPool2d&#39;&gt; {&#39;kernel_size&#39;: 2}\">\n<path fill=\"#8dd3c7\" stroke=\"black\" d=\"M1662,-97C1662,-97 1632,-97 1632,-97 1626,-97 1620,-91 1620,-85 1620,-85 1620,-73 1620,-73 1620,-67 1626,-61 1632,-61 1632,-61 1662,-61 1662,-61 1668,-61 1674,-67 1674,-73 1674,-73 1674,-85 1674,-85 1674,-91 1668,-97 1662,-97\"/>\n<text text-anchor=\"middle\" x=\"1647\" y=\"-75.3\" font-family=\"Times,serif\" font-size=\"14.00\">pool</text>\n</a>\n</g>\n</g>\n<!-- layer2_conv&#45;&gt;layer2_pool -->\n<g id=\"edge19\" class=\"edge\"><title>layer2_conv&#45;&gt;layer2_pool</title>\n<path fill=\"none\" stroke=\"black\" d=\"M1584.4,-79C1592.39,-79 1601.31,-79 1609.82,-79\"/>\n<polygon fill=\"black\" stroke=\"black\" points=\"1609.92,-82.5001 1619.92,-79 1609.92,-75.5001 1609.92,-82.5001\"/>\n</g>\n<!-- layer2_norm -->\n<g id=\"node19\" class=\"node\"><title>layer2_norm</title>\n<g id=\"a_node19\"><a xlink:title=\"functools.partial(&lt;class &#39;__main__.GhostBatchNorm&#39;&gt;, num_splits=16) {&#39;num_features&#39;: 256}\">\n<path fill=\"#4dddf8\" stroke=\"black\" d=\"M1752,-97C1752,-97 1722,-97 1722,-97 1716,-97 1710,-91 1710,-85 1710,-85 1710,-73 1710,-73 1710,-67 1716,-61 1722,-61 1722,-61 1752,-61 1752,-61 1758,-61 1764,-67 1764,-73 1764,-73 1764,-85 1764,-85 1764,-91 1758,-97 1752,-97\"/>\n<text text-anchor=\"middle\" x=\"1737\" y=\"-75.3\" font-family=\"Times,serif\" font-size=\"14.00\">norm</text>\n</a>\n</g>\n</g>\n<!-- layer2_pool&#45;&gt;layer2_norm -->\n<g id=\"edge20\" class=\"edge\"><title>layer2_pool&#45;&gt;layer2_norm</title>\n<path fill=\"none\" stroke=\"black\" d=\"M1674.4,-79C1682.39,-79 1691.31,-79 1699.82,-79\"/>\n<polygon fill=\"black\" stroke=\"black\" points=\"1699.92,-82.5001 1709.92,-79 1699.92,-75.5001 1699.92,-82.5001\"/>\n</g>\n<!-- layer2_act -->\n<g id=\"node20\" class=\"node\"><title>layer2_act</title>\n<g id=\"a_node20\"><a xlink:title=\"functools.partial(&lt;class &#39;torch.nn.modules.activation.CELU&#39;&gt;, 0.075) {}\">\n<path fill=\"#e66493\" stroke=\"black\" d=\"M1842,-97C1842,-97 1812,-97 1812,-97 1806,-97 1800,-91 1800,-85 1800,-85 1800,-73 1800,-73 1800,-67 1806,-61 1812,-61 1812,-61 1842,-61 1842,-61 1848,-61 1854,-67 1854,-73 1854,-73 1854,-85 1854,-85 1854,-91 1848,-97 1842,-97\"/>\n<text text-anchor=\"middle\" x=\"1827\" y=\"-75.3\" font-family=\"Times,serif\" font-size=\"14.00\">act</text>\n</a>\n</g>\n</g>\n<!-- layer2_norm&#45;&gt;layer2_act -->\n<g id=\"edge21\" class=\"edge\"><title>layer2_norm&#45;&gt;layer2_act</title>\n<path fill=\"none\" stroke=\"black\" d=\"M1764.4,-79C1772.39,-79 1781.31,-79 1789.82,-79\"/>\n<polygon fill=\"black\" stroke=\"black\" points=\"1789.92,-82.5001 1799.92,-79 1789.92,-75.5001 1789.92,-82.5001\"/>\n</g>\n<!-- layer3_conv -->\n<g id=\"node21\" class=\"node\"><title>layer3_conv</title>\n<g id=\"a_node21\"><a xlink:title=\"&lt;class &#39;torch.nn.modules.conv.Conv2d&#39;&gt; {&#39;in_channels&#39;: 256, &#39;out_channels&#39;: 512, &#39;kernel_size&#39;: (3, 3), &#39;stride&#39;: (1, 1), &#39;padding&#39;: (1, 1), &#39;bias&#39;: False}\">\n<path fill=\"#bebada\" stroke=\"black\" d=\"M1932,-97C1932,-97 1902,-97 1902,-97 1896,-97 1890,-91 1890,-85 1890,-85 1890,-73 1890,-73 1890,-67 1896,-61 1902,-61 1902,-61 1932,-61 1932,-61 1938,-61 1944,-67 1944,-73 1944,-73 1944,-85 1944,-85 1944,-91 1938,-97 1932,-97\"/>\n<text text-anchor=\"middle\" x=\"1917\" y=\"-75.3\" font-family=\"Times,serif\" font-size=\"14.00\">conv</text>\n</a>\n</g>\n</g>\n<!-- layer2_act&#45;&gt;layer3_conv -->\n<g id=\"edge22\" class=\"edge\"><title>layer2_act&#45;&gt;layer3_conv</title>\n<path fill=\"none\" stroke=\"black\" d=\"M1854.4,-79C1862.39,-79 1871.31,-79 1879.82,-79\"/>\n<polygon fill=\"black\" stroke=\"black\" points=\"1879.92,-82.5001 1889.92,-79 1879.92,-75.5001 1879.92,-82.5001\"/>\n</g>\n<!-- layer3_pool -->\n<g id=\"node22\" class=\"node\"><title>layer3_pool</title>\n<g id=\"a_node22\"><a xlink:title=\"&lt;class &#39;torch.nn.modules.pooling.MaxPool2d&#39;&gt; {&#39;kernel_size&#39;: 2}\">\n<path fill=\"#8dd3c7\" stroke=\"black\" d=\"M2022,-97C2022,-97 1992,-97 1992,-97 1986,-97 1980,-91 1980,-85 1980,-85 1980,-73 1980,-73 1980,-67 1986,-61 1992,-61 1992,-61 2022,-61 2022,-61 2028,-61 2034,-67 2034,-73 2034,-73 2034,-85 2034,-85 2034,-91 2028,-97 2022,-97\"/>\n<text text-anchor=\"middle\" x=\"2007\" y=\"-75.3\" font-family=\"Times,serif\" font-size=\"14.00\">pool</text>\n</a>\n</g>\n</g>\n<!-- layer3_conv&#45;&gt;layer3_pool -->\n<g id=\"edge23\" class=\"edge\"><title>layer3_conv&#45;&gt;layer3_pool</title>\n<path fill=\"none\" stroke=\"black\" d=\"M1944.4,-79C1952.39,-79 1961.31,-79 1969.82,-79\"/>\n<polygon fill=\"black\" stroke=\"black\" points=\"1969.92,-82.5001 1979.92,-79 1969.92,-75.5001 1969.92,-82.5001\"/>\n</g>\n<!-- layer3_norm -->\n<g id=\"node23\" class=\"node\"><title>layer3_norm</title>\n<g id=\"a_node23\"><a xlink:title=\"functools.partial(&lt;class &#39;__main__.GhostBatchNorm&#39;&gt;, num_splits=16) {&#39;num_features&#39;: 512}\">\n<path fill=\"#4dddf8\" stroke=\"black\" d=\"M2112,-97C2112,-97 2082,-97 2082,-97 2076,-97 2070,-91 2070,-85 2070,-85 2070,-73 2070,-73 2070,-67 2076,-61 2082,-61 2082,-61 2112,-61 2112,-61 2118,-61 2124,-67 2124,-73 2124,-73 2124,-85 2124,-85 2124,-91 2118,-97 2112,-97\"/>\n<text text-anchor=\"middle\" x=\"2097\" y=\"-75.3\" font-family=\"Times,serif\" font-size=\"14.00\">norm</text>\n</a>\n</g>\n</g>\n<!-- layer3_pool&#45;&gt;layer3_norm -->\n<g id=\"edge24\" class=\"edge\"><title>layer3_pool&#45;&gt;layer3_norm</title>\n<path fill=\"none\" stroke=\"black\" d=\"M2034.4,-79C2042.39,-79 2051.31,-79 2059.82,-79\"/>\n<polygon fill=\"black\" stroke=\"black\" points=\"2059.92,-82.5001 2069.92,-79 2059.92,-75.5001 2059.92,-82.5001\"/>\n</g>\n<!-- layer3_act -->\n<g id=\"node24\" class=\"node\"><title>layer3_act</title>\n<g id=\"a_node24\"><a xlink:title=\"functools.partial(&lt;class &#39;torch.nn.modules.activation.CELU&#39;&gt;, 0.075) {}\">\n<path fill=\"#e66493\" stroke=\"black\" d=\"M2202,-97C2202,-97 2172,-97 2172,-97 2166,-97 2160,-91 2160,-85 2160,-85 2160,-73 2160,-73 2160,-67 2166,-61 2172,-61 2172,-61 2202,-61 2202,-61 2208,-61 2214,-67 2214,-73 2214,-73 2214,-85 2214,-85 2214,-91 2208,-97 2202,-97\"/>\n<text text-anchor=\"middle\" x=\"2187\" y=\"-75.3\" font-family=\"Times,serif\" font-size=\"14.00\">act</text>\n</a>\n</g>\n</g>\n<!-- layer3_norm&#45;&gt;layer3_act -->\n<g id=\"edge25\" class=\"edge\"><title>layer3_norm&#45;&gt;layer3_act</title>\n<path fill=\"none\" stroke=\"black\" d=\"M2124.4,-79C2132.39,-79 2141.31,-79 2149.82,-79\"/>\n<polygon fill=\"black\" stroke=\"black\" points=\"2149.92,-82.5001 2159.92,-79 2149.92,-75.5001 2149.92,-82.5001\"/>\n</g>\n<!-- layer3_residual_in -->\n<g id=\"node25\" class=\"node\"><title>layer3_residual_in</title>\n<g id=\"a_node25\"><a xlink:title=\"&lt;class &#39;__main__.Identity&#39;&gt; {}\">\n<path fill=\"#80b1d3\" stroke=\"black\" d=\"M2292,-97C2292,-97 2262,-97 2262,-97 2256,-97 2250,-91 2250,-85 2250,-85 2250,-73 2250,-73 2250,-67 2256,-61 2262,-61 2262,-61 2292,-61 2292,-61 2298,-61 2304,-67 2304,-73 2304,-73 2304,-85 2304,-85 2304,-91 2298,-97 2292,-97\"/>\n<text text-anchor=\"middle\" x=\"2277\" y=\"-75.3\" font-family=\"Times,serif\" font-size=\"14.00\">in</text>\n</a>\n</g>\n</g>\n<!-- layer3_act&#45;&gt;layer3_residual_in -->\n<g id=\"edge26\" class=\"edge\"><title>layer3_act&#45;&gt;layer3_residual_in</title>\n<path fill=\"none\" stroke=\"black\" d=\"M2214.4,-79C2222.39,-79 2231.31,-79 2239.82,-79\"/>\n<polygon fill=\"black\" stroke=\"black\" points=\"2239.92,-82.5001 2249.92,-79 2239.92,-75.5001 2239.92,-82.5001\"/>\n</g>\n<!-- layer3_residual_res1_conv -->\n<g id=\"node26\" class=\"node\"><title>layer3_residual_res1_conv</title>\n<g id=\"a_node26\"><a xlink:title=\"&lt;class &#39;torch.nn.modules.conv.Conv2d&#39;&gt; {&#39;in_channels&#39;: 512, &#39;out_channels&#39;: 512, &#39;kernel_size&#39;: (3, 3), &#39;stride&#39;: (1, 1), &#39;padding&#39;: (1, 1), &#39;bias&#39;: False}\">\n<path fill=\"#bebada\" stroke=\"black\" d=\"M2382,-68C2382,-68 2352,-68 2352,-68 2346,-68 2340,-62 2340,-56 2340,-56 2340,-44 2340,-44 2340,-38 2346,-32 2352,-32 2352,-32 2382,-32 2382,-32 2388,-32 2394,-38 2394,-44 2394,-44 2394,-56 2394,-56 2394,-62 2388,-68 2382,-68\"/>\n<text text-anchor=\"middle\" x=\"2367\" y=\"-46.3\" font-family=\"Times,serif\" font-size=\"14.00\">conv</text>\n</a>\n</g>\n</g>\n<!-- layer3_residual_in&#45;&gt;layer3_residual_res1_conv -->\n<g id=\"edge27\" class=\"edge\"><title>layer3_residual_in&#45;&gt;layer3_residual_res1_conv</title>\n<path fill=\"none\" stroke=\"black\" d=\"M2304.4,-70.299C2312.57,-67.608 2321.7,-64.5979 2330.38,-61.7368\"/>\n<polygon fill=\"black\" stroke=\"black\" points=\"2331.52,-65.049 2339.92,-58.5949 2329.33,-58.4007 2331.52,-65.049\"/>\n</g>\n<!-- layer3_residual_add -->\n<g id=\"node33\" class=\"node\"><title>layer3_residual_add</title>\n<g id=\"a_node33\"><a xlink:title=\"&lt;class &#39;__main__.Add&#39;&gt; {}\">\n<path fill=\"#fdb462\" stroke=\"black\" d=\"M3012,-93C3012,-93 2982,-93 2982,-93 2976,-93 2970,-87 2970,-81 2970,-81 2970,-69 2970,-69 2970,-63 2976,-57 2982,-57 2982,-57 3012,-57 3012,-57 3018,-57 3024,-63 3024,-69 3024,-69 3024,-81 3024,-81 3024,-87 3018,-93 3012,-93\"/>\n<text text-anchor=\"middle\" x=\"2997\" y=\"-71.3\" font-family=\"Times,serif\" font-size=\"14.00\">add</text>\n</a>\n</g>\n</g>\n<!-- layer3_residual_in&#45;&gt;layer3_residual_add -->\n<g id=\"edge34\" class=\"edge\"><title>layer3_residual_in&#45;&gt;layer3_residual_add</title>\n<path fill=\"none\" stroke=\"black\" d=\"M2304.22,-93.0359C2312.83,-96.9904 2322.61,-100.808 2332,-103 2385.71,-115.535 2400.84,-108 2456,-108 2456,-108 2456,-108 2818,-108 2867.77,-108 2924.08,-95.3711 2959.8,-85.7384\"/>\n<polygon fill=\"black\" stroke=\"black\" points=\"2961.04,-89.0265 2969.74,-82.9884 2959.17,-82.2796 2961.04,-89.0265\"/>\n</g>\n<!-- layer3_residual_res1_norm -->\n<g id=\"node27\" class=\"node\"><title>layer3_residual_res1_norm</title>\n<g id=\"a_node27\"><a xlink:title=\"functools.partial(&lt;class &#39;__main__.GhostBatchNorm&#39;&gt;, num_splits=16) {&#39;num_features&#39;: 512}\">\n<path fill=\"#4dddf8\" stroke=\"black\" d=\"M2472,-68C2472,-68 2442,-68 2442,-68 2436,-68 2430,-62 2430,-56 2430,-56 2430,-44 2430,-44 2430,-38 2436,-32 2442,-32 2442,-32 2472,-32 2472,-32 2478,-32 2484,-38 2484,-44 2484,-44 2484,-56 2484,-56 2484,-62 2478,-68 2472,-68\"/>\n<text text-anchor=\"middle\" x=\"2457\" y=\"-46.3\" font-family=\"Times,serif\" font-size=\"14.00\">norm</text>\n</a>\n</g>\n</g>\n<!-- layer3_residual_res1_conv&#45;&gt;layer3_residual_res1_norm -->\n<g id=\"edge28\" class=\"edge\"><title>layer3_residual_res1_conv&#45;&gt;layer3_residual_res1_norm</title>\n<path fill=\"none\" stroke=\"black\" d=\"M2394.4,-50C2402.39,-50 2411.31,-50 2419.82,-50\"/>\n<polygon fill=\"black\" stroke=\"black\" points=\"2419.92,-53.5001 2429.92,-50 2419.92,-46.5001 2419.92,-53.5001\"/>\n</g>\n<!-- layer3_residual_res1_act -->\n<g id=\"node28\" class=\"node\"><title>layer3_residual_res1_act</title>\n<g id=\"a_node28\"><a xlink:title=\"functools.partial(&lt;class &#39;torch.nn.modules.activation.CELU&#39;&gt;, 0.075) {}\">\n<path fill=\"#e66493\" stroke=\"black\" d=\"M2562,-68C2562,-68 2532,-68 2532,-68 2526,-68 2520,-62 2520,-56 2520,-56 2520,-44 2520,-44 2520,-38 2526,-32 2532,-32 2532,-32 2562,-32 2562,-32 2568,-32 2574,-38 2574,-44 2574,-44 2574,-56 2574,-56 2574,-62 2568,-68 2562,-68\"/>\n<text text-anchor=\"middle\" x=\"2547\" y=\"-46.3\" font-family=\"Times,serif\" font-size=\"14.00\">act</text>\n</a>\n</g>\n</g>\n<!-- layer3_residual_res1_norm&#45;&gt;layer3_residual_res1_act -->\n<g id=\"edge29\" class=\"edge\"><title>layer3_residual_res1_norm&#45;&gt;layer3_residual_res1_act</title>\n<path fill=\"none\" stroke=\"black\" d=\"M2484.4,-50C2492.39,-50 2501.31,-50 2509.82,-50\"/>\n<polygon fill=\"black\" stroke=\"black\" points=\"2509.92,-53.5001 2519.92,-50 2509.92,-46.5001 2509.92,-53.5001\"/>\n</g>\n<!-- layer3_residual_res2_conv -->\n<g id=\"node29\" class=\"node\"><title>layer3_residual_res2_conv</title>\n<g id=\"a_node29\"><a xlink:title=\"&lt;class &#39;torch.nn.modules.conv.Conv2d&#39;&gt; {&#39;in_channels&#39;: 512, &#39;out_channels&#39;: 512, &#39;kernel_size&#39;: (3, 3), &#39;stride&#39;: (1, 1), &#39;padding&#39;: (1, 1), &#39;bias&#39;: False}\">\n<path fill=\"#bebada\" stroke=\"black\" d=\"M2652,-68C2652,-68 2622,-68 2622,-68 2616,-68 2610,-62 2610,-56 2610,-56 2610,-44 2610,-44 2610,-38 2616,-32 2622,-32 2622,-32 2652,-32 2652,-32 2658,-32 2664,-38 2664,-44 2664,-44 2664,-56 2664,-56 2664,-62 2658,-68 2652,-68\"/>\n<text text-anchor=\"middle\" x=\"2637\" y=\"-46.3\" font-family=\"Times,serif\" font-size=\"14.00\">conv</text>\n</a>\n</g>\n</g>\n<!-- layer3_residual_res1_act&#45;&gt;layer3_residual_res2_conv -->\n<g id=\"edge30\" class=\"edge\"><title>layer3_residual_res1_act&#45;&gt;layer3_residual_res2_conv</title>\n<path fill=\"none\" stroke=\"black\" d=\"M2574.4,-50C2582.39,-50 2591.31,-50 2599.82,-50\"/>\n<polygon fill=\"black\" stroke=\"black\" points=\"2599.92,-53.5001 2609.92,-50 2599.92,-46.5001 2599.92,-53.5001\"/>\n</g>\n<!-- layer3_residual_res2_norm -->\n<g id=\"node30\" class=\"node\"><title>layer3_residual_res2_norm</title>\n<g id=\"a_node30\"><a xlink:title=\"functools.partial(&lt;class &#39;__main__.GhostBatchNorm&#39;&gt;, num_splits=16) {&#39;num_features&#39;: 512}\">\n<path fill=\"#4dddf8\" stroke=\"black\" d=\"M2742,-68C2742,-68 2712,-68 2712,-68 2706,-68 2700,-62 2700,-56 2700,-56 2700,-44 2700,-44 2700,-38 2706,-32 2712,-32 2712,-32 2742,-32 2742,-32 2748,-32 2754,-38 2754,-44 2754,-44 2754,-56 2754,-56 2754,-62 2748,-68 2742,-68\"/>\n<text text-anchor=\"middle\" x=\"2727\" y=\"-46.3\" font-family=\"Times,serif\" font-size=\"14.00\">norm</text>\n</a>\n</g>\n</g>\n<!-- layer3_residual_res2_conv&#45;&gt;layer3_residual_res2_norm -->\n<g id=\"edge31\" class=\"edge\"><title>layer3_residual_res2_conv&#45;&gt;layer3_residual_res2_norm</title>\n<path fill=\"none\" stroke=\"black\" d=\"M2664.4,-50C2672.39,-50 2681.31,-50 2689.82,-50\"/>\n<polygon fill=\"black\" stroke=\"black\" points=\"2689.92,-53.5001 2699.92,-50 2689.92,-46.5001 2689.92,-53.5001\"/>\n</g>\n<!-- layer3_residual_res2_act -->\n<g id=\"node31\" class=\"node\"><title>layer3_residual_res2_act</title>\n<g id=\"a_node31\"><a xlink:title=\"functools.partial(&lt;class &#39;torch.nn.modules.activation.CELU&#39;&gt;, 0.075) {}\">\n<path fill=\"#e66493\" stroke=\"black\" d=\"M2832,-68C2832,-68 2802,-68 2802,-68 2796,-68 2790,-62 2790,-56 2790,-56 2790,-44 2790,-44 2790,-38 2796,-32 2802,-32 2802,-32 2832,-32 2832,-32 2838,-32 2844,-38 2844,-44 2844,-44 2844,-56 2844,-56 2844,-62 2838,-68 2832,-68\"/>\n<text text-anchor=\"middle\" x=\"2817\" y=\"-46.3\" font-family=\"Times,serif\" font-size=\"14.00\">act</text>\n</a>\n</g>\n</g>\n<!-- layer3_residual_res2_norm&#45;&gt;layer3_residual_res2_act -->\n<g id=\"edge32\" class=\"edge\"><title>layer3_residual_res2_norm&#45;&gt;layer3_residual_res2_act</title>\n<path fill=\"none\" stroke=\"black\" d=\"M2754.4,-50C2762.39,-50 2771.31,-50 2779.82,-50\"/>\n<polygon fill=\"black\" stroke=\"black\" points=\"2779.92,-53.5001 2789.92,-50 2779.92,-46.5001 2779.92,-53.5001\"/>\n</g>\n<!-- layer3_residual_out -->\n<g id=\"node32\" class=\"node\"><title>layer3_residual_out</title>\n<g id=\"a_node32\"><a xlink:title=\"&lt;class &#39;__main__.Identity&#39;&gt; {}\">\n<path fill=\"#80b1d3\" stroke=\"black\" d=\"M2922,-78C2922,-78 2892,-78 2892,-78 2886,-78 2880,-72 2880,-66 2880,-66 2880,-54 2880,-54 2880,-48 2886,-42 2892,-42 2892,-42 2922,-42 2922,-42 2928,-42 2934,-48 2934,-54 2934,-54 2934,-66 2934,-66 2934,-72 2928,-78 2922,-78\"/>\n<text text-anchor=\"middle\" x=\"2907\" y=\"-56.3\" font-family=\"Times,serif\" font-size=\"14.00\">out</text>\n</a>\n</g>\n</g>\n<!-- layer3_residual_res2_act&#45;&gt;layer3_residual_out -->\n<g id=\"edge33\" class=\"edge\"><title>layer3_residual_res2_act&#45;&gt;layer3_residual_out</title>\n<path fill=\"none\" stroke=\"black\" d=\"M2844.4,-53.0003C2852.39,-53.9083 2861.31,-54.9217 2869.82,-55.8891\"/>\n<polygon fill=\"black\" stroke=\"black\" points=\"2869.59,-59.3847 2879.92,-57.0362 2870.38,-52.4294 2869.59,-59.3847\"/>\n</g>\n<!-- layer3_residual_out&#45;&gt;layer3_residual_add -->\n<g id=\"edge35\" class=\"edge\"><title>layer3_residual_out&#45;&gt;layer3_residual_add</title>\n<path fill=\"none\" stroke=\"black\" d=\"M2934.4,-64.5005C2942.39,-65.8625 2951.31,-67.3825 2959.82,-68.8336\"/>\n<polygon fill=\"black\" stroke=\"black\" points=\"2959.47,-72.3242 2969.92,-70.5544 2960.65,-65.4237 2959.47,-72.3242\"/>\n</g>\n<!-- pool -->\n<g id=\"node34\" class=\"node\"><title>pool</title>\n<g id=\"a_node34\"><a xlink:title=\"&lt;class &#39;torch.nn.modules.pooling.MaxPool2d&#39;&gt; {&#39;kernel_size&#39;: 4}\">\n<path fill=\"#8dd3c7\" stroke=\"black\" d=\"M3102,-93C3102,-93 3072,-93 3072,-93 3066,-93 3060,-87 3060,-81 3060,-81 3060,-69 3060,-69 3060,-63 3066,-57 3072,-57 3072,-57 3102,-57 3102,-57 3108,-57 3114,-63 3114,-69 3114,-69 3114,-81 3114,-81 3114,-87 3108,-93 3102,-93\"/>\n<text text-anchor=\"middle\" x=\"3087\" y=\"-71.3\" font-family=\"Times,serif\" font-size=\"14.00\">pool</text>\n</a>\n</g>\n</g>\n<!-- layer3_residual_add&#45;&gt;pool -->\n<g id=\"edge36\" class=\"edge\"><title>layer3_residual_add&#45;&gt;pool</title>\n<path fill=\"none\" stroke=\"black\" d=\"M3024.4,-75C3032.39,-75 3041.31,-75 3049.82,-75\"/>\n<polygon fill=\"black\" stroke=\"black\" points=\"3049.92,-78.5001 3059.92,-75 3049.92,-71.5001 3049.92,-78.5001\"/>\n</g>\n<!-- classifier_flatten -->\n<g id=\"node35\" class=\"node\"><title>classifier_flatten</title>\n<g id=\"a_node35\"><a xlink:title=\"&lt;class &#39;__main__.Flatten&#39;&gt; {}\">\n<path fill=\"#b3de69\" stroke=\"black\" d=\"M3192,-93C3192,-93 3162,-93 3162,-93 3156,-93 3150,-87 3150,-81 3150,-81 3150,-69 3150,-69 3150,-63 3156,-57 3162,-57 3162,-57 3192,-57 3192,-57 3198,-57 3204,-63 3204,-69 3204,-69 3204,-81 3204,-81 3204,-87 3198,-93 3192,-93\"/>\n<text text-anchor=\"middle\" x=\"3177\" y=\"-71.3\" font-family=\"Times,serif\" font-size=\"14.00\">flatten</text>\n</a>\n</g>\n</g>\n<!-- pool&#45;&gt;classifier_flatten -->\n<g id=\"edge37\" class=\"edge\"><title>pool&#45;&gt;classifier_flatten</title>\n<path fill=\"none\" stroke=\"black\" d=\"M3114.4,-75C3122.39,-75 3131.31,-75 3139.82,-75\"/>\n<polygon fill=\"black\" stroke=\"black\" points=\"3139.92,-78.5001 3149.92,-75 3139.92,-71.5001 3139.92,-78.5001\"/>\n</g>\n<!-- classifier_conv -->\n<g id=\"node36\" class=\"node\"><title>classifier_conv</title>\n<g id=\"a_node36\"><a xlink:title=\"&lt;class &#39;torch.nn.modules.linear.Linear&#39;&gt; {&#39;in_features&#39;: 512, &#39;out_features&#39;: 10, &#39;bias&#39;: False}\">\n<path fill=\"#fccde5\" stroke=\"black\" d=\"M3282,-93C3282,-93 3252,-93 3252,-93 3246,-93 3240,-87 3240,-81 3240,-81 3240,-69 3240,-69 3240,-63 3246,-57 3252,-57 3252,-57 3282,-57 3282,-57 3288,-57 3294,-63 3294,-69 3294,-69 3294,-81 3294,-81 3294,-87 3288,-93 3282,-93\"/>\n<text text-anchor=\"middle\" x=\"3267\" y=\"-71.3\" font-family=\"Times,serif\" font-size=\"14.00\">conv</text>\n</a>\n</g>\n</g>\n<!-- classifier_flatten&#45;&gt;classifier_conv -->\n<g id=\"edge38\" class=\"edge\"><title>classifier_flatten&#45;&gt;classifier_conv</title>\n<path fill=\"none\" stroke=\"black\" d=\"M3204.4,-75C3212.39,-75 3221.31,-75 3229.82,-75\"/>\n<polygon fill=\"black\" stroke=\"black\" points=\"3229.92,-78.5001 3239.92,-75 3229.92,-71.5001 3229.92,-78.5001\"/>\n</g>\n<!-- classifier_scale -->\n<g id=\"node37\" class=\"node\"><title>classifier_scale</title>\n<g id=\"a_node37\"><a xlink:title=\"&lt;class &#39;__main__.Mul&#39;&gt; {&#39;weight&#39;: 0.125}\">\n<path fill=\"#bc80bd\" stroke=\"black\" d=\"M3372,-93C3372,-93 3342,-93 3342,-93 3336,-93 3330,-87 3330,-81 3330,-81 3330,-69 3330,-69 3330,-63 3336,-57 3342,-57 3342,-57 3372,-57 3372,-57 3378,-57 3384,-63 3384,-69 3384,-69 3384,-81 3384,-81 3384,-87 3378,-93 3372,-93\"/>\n<text text-anchor=\"middle\" x=\"3357\" y=\"-71.3\" font-family=\"Times,serif\" font-size=\"14.00\">scale</text>\n</a>\n</g>\n</g>\n<!-- classifier_conv&#45;&gt;classifier_scale -->\n<g id=\"edge39\" class=\"edge\"><title>classifier_conv&#45;&gt;classifier_scale</title>\n<path fill=\"none\" stroke=\"black\" d=\"M3294.4,-75C3302.39,-75 3311.31,-75 3319.82,-75\"/>\n<polygon fill=\"black\" stroke=\"black\" points=\"3319.92,-78.5001 3329.92,-75 3319.92,-71.5001 3319.92,-78.5001\"/>\n</g>\n<!-- logits -->\n<g id=\"node38\" class=\"node\"><title>logits</title>\n<g id=\"a_node38\"><a xlink:title=\"&lt;class &#39;__main__.Identity&#39;&gt; {}\">\n<path fill=\"#80b1d3\" stroke=\"black\" d=\"M3462,-93C3462,-93 3432,-93 3432,-93 3426,-93 3420,-87 3420,-81 3420,-81 3420,-69 3420,-69 3420,-63 3426,-57 3432,-57 3432,-57 3462,-57 3462,-57 3468,-57 3474,-63 3474,-69 3474,-69 3474,-81 3474,-81 3474,-87 3468,-93 3462,-93\"/>\n<text text-anchor=\"middle\" x=\"3447\" y=\"-71.3\" font-family=\"Times,serif\" font-size=\"14.00\">logits</text>\n</a>\n</g>\n</g>\n<!-- classifier_scale&#45;&gt;logits -->\n<g id=\"edge40\" class=\"edge\"><title>classifier_scale&#45;&gt;logits</title>\n<path fill=\"none\" stroke=\"black\" d=\"M3384.4,-75C3392.39,-75 3401.31,-75 3409.82,-75\"/>\n<polygon fill=\"black\" stroke=\"black\" points=\"3409.92,-78.5001 3419.92,-75 3409.92,-71.5001 3409.92,-78.5001\"/>\n</g>\n<!-- input -->\n<g id=\"node39\" class=\"node\"><title>input</title>\n<path fill=\"#ffffff\" stroke=\"black\" d=\"M42,-92C42,-92 12,-92 12,-92 6,-92 0,-86 0,-80 0,-80 0,-68 0,-68 0,-62 6,-56 12,-56 12,-56 42,-56 42,-56 48,-56 54,-62 54,-68 54,-68 54,-80 54,-80 54,-86 48,-92 42,-92\"/>\n<text text-anchor=\"middle\" x=\"27\" y=\"-70.3\" font-family=\"Times,serif\" font-size=\"14.00\">input</text>\n</g>\n<!-- input&#45;&gt;prep_conv -->\n<g id=\"edge1\" class=\"edge\"><title>input&#45;&gt;prep_conv</title>\n<path fill=\"none\" stroke=\"black\" d=\"M54.4029,-74C62.3932,-74 71.3106,-74 79.8241,-74\"/>\n<polygon fill=\"black\" stroke=\"black\" points=\"79.919,-77.5001 89.919,-74 79.919,-70.5001 79.919,-77.5001\"/>\n</g>\n</g>\n</svg>\n",
            "text/plain": [
              "<__main__.DotGraph at 0x7f4140a9ba58>"
            ]
          },
          "metadata": {
            "tags": []
          },
          "output_type": "display_data"
        }
      ],
      "source": [
        "ghost_bn_net = network(conv_pool_block=conv_pool_block_pre, types={\n",
        "    nn.ReLU: partial(nn.CELU, 0.075), \n",
        "    BatchNorm: partial(GhostBatchNorm, num_splits=16)\n",
        "})\n",
        "show(ghost_bn_net)"
      ]
    },
    {
      "cell_type": "code",
      "execution_count": null,
      "metadata": {
        "id": "YAUyBrtqN7gj"
      },
      "outputs": [],
      "source": [
        "epochs, batch_size = 20, 512\n",
        "transforms = (Crop(32, 32), FlipLR(), Cutout(8, 8))\n",
        "opt_params = {'lr': lr_schedule([0, epochs/5, epochs], [0.0, 0.4, 0.0], batch_size), 'weight_decay': Const(5e-4*batch_size), 'momentum': Const(0.9)}\n",
        "\n",
        "logs = Table(report=every(epochs, 'epoch'))\n",
        "for run in range(N_RUNS):\n",
        "    model = build_model(ghost_bn_net, label_smoothing_loss(0.2))\n",
        "    state, timer = {MODEL: model, OPTS: [SGD(trainable_params(model).values(), opt_params)]}, Timer(torch.cuda.synchronize)\n",
        "    for epoch in range(epochs):\n",
        "        logs.append(union({'run': run+1, 'epoch': epoch+1}, train_epoch(state, timer, train_batches(batch_size, transforms), valid_batches(batch_size))))\n",
        "summary(logs)"
      ]
    },
    {
      "cell_type": "markdown",
      "metadata": {
        "id": "NyvPyD2xc77U"
      },
      "source": [
        "This gives a healthy boost to the 20 epoch test accuracy of 94.2%. As training becomes ever shorter, it is occasionally helpful to increase the learning rate to compensate. If we raise the max learning rate by 50% we can achieve 94.1% accuracy in 18 epochs and a training time of 46s."
      ]
    },
    {
      "cell_type": "code",
      "execution_count": null,
      "metadata": {
        "id": "4-gEHrSYp94Z"
      },
      "outputs": [],
      "source": [
        "epochs, batch_size = 18, 512\n",
        "transforms = (Crop(32, 32), FlipLR(), Cutout(8, 8))\n",
        "opt_params = {'lr': lr_schedule([0, epochs/5, epochs], [0.0, 0.6, 0.0], batch_size), 'weight_decay': Const(5e-4*batch_size), 'momentum': Const(0.9)}\n",
        "\n",
        "logs = Table(report=every(epochs, 'epoch'))\n",
        "for run in range(N_RUNS):\n",
        "    model = build_model(ghost_bn_net, label_smoothing_loss(0.2))\n",
        "    state, timer = {MODEL: model, OPTS: [SGD(trainable_params(model).values(), opt_params)]}, Timer(torch.cuda.synchronize)\n",
        "    for epoch in range(epochs):\n",
        "        logs.append(union({'run': run+1, 'epoch': epoch+1}, train_epoch(state, timer, train_batches(batch_size, transforms), valid_batches(batch_size))))\n",
        "summary(logs)"
      ]
    },
    {
      "cell_type": "markdown",
      "metadata": {
        "id": "nRrXu8g5eoQ1"
      },
      "source": [
        "### Frozen batch norm scales (43s)"
      ]
    },
    {
      "cell_type": "markdown",
      "metadata": {
        "id": "vbafQdo_er-7"
      },
      "source": [
        "Batch norm standardises the mean and variance of each channel but is followed by a learnable scale and bias. Our batch norm layers are succeeded by ReLUs, so the learnable biases could allow the network to optimise the level of sparsity per channel. On the other hand, if channel scales vary substantially this might reduce the effective number of channels and introduce a bottleneck. Let's have a look at the dynamics of these parameters during training:"
      ]
    },
    {
      "cell_type": "code",
      "execution_count": null,
      "metadata": {
        "id": "3KbCvLxqq8VI"
      },
      "outputs": [],
      "source": [
        "epochs, batch_size = 18, 512\n",
        "transforms = (Crop(32, 32), FlipLR(), Cutout(8, 8))\n",
        "opt_params = {'lr': lr_schedule([0, epochs/5, epochs], [0.0, 0.6, 0.0], batch_size), 'weight_decay': Const(5e-4*batch_size), 'momentum': Const(0.9)}\n",
        "\n",
        "model = build_model(ghost_bn_net, label_smoothing_loss(0.2))\n",
        "state, timer, logs = {MODEL: model, OPTS: [SGD(trainable_params(model).values(), opt_params)]}, Timer(torch.cuda.synchronize), Table(report=every(epochs, 'epoch'))\n",
        "for epoch in range(epochs):\n",
        "    logs.append(union({'epoch': epoch+1}, train_epoch(state, timer, train_batches(batch_size, transforms), valid_batches(batch_size), \n",
        "                                                      on_epoch_end=partial(log_weights, weights={k: v for k,v in trainable_params(model).items() if 'norm' in k}))))\n",
        "data = pd.DataFrame([{'epoch': epoch, 'type': weight.split('.')[1], 'layer': weight.split('_norm')[0], 'channel': channel, 'value': value} \n",
        "                     for epoch, epoch_vals in enumerate(state[WEIGHT_LOG], 1) \n",
        "                     for weight, weight_vals in epoch_vals.items() \n",
        "                     for channel, value in enumerate(weight_vals[:8], 1)])\n",
        "\n",
        "alt.Chart(data).mark_line(opacity=0.7).encode(x='epoch', y='value', color=alt.Color('layer', sort=['prep']), detail='channel', column='type').resolve_scale(y='independent')"
      ]
    },
    {
      "cell_type": "markdown",
      "metadata": {
        "id": "gMvagTTwx1wO"
      },
      "source": [
        "There's a lot going on in these plots, but one thing that sticks out is that the scales are not doing much learning and evolve largely under the control of weight decay. Let's try freezing these at a constant value of $1/4$ - roughly their average at the midpoint of training. The learnable scale for the final layer is somewhat larger but we can adjust the scaling of the network output to compensate. \n",
        "\n",
        "Actually we can fix the batch norm scales to $1$ instead if we rescale the $\\alpha$ parameter of CELU by a compensating factor of $4$ and the learning rate and weight decay for the batch norm biases by $4^2$ and $1/4^2$ respectively. We prefer to do things this way since it makes the impact of the channel scales on the learning rate dynamics of the biases more explicit."
      ]
    },
    {
      "cell_type": "code",
      "execution_count": null,
      "metadata": {
        "colab": {
          "base_uri": "https://localhost:8080/",
          "height": 120
        },
        "id": "lkSuchyvLSa4",
        "outputId": "10f9be49-cf0a-4d94-b740-0b846d436c85"
      },
      "outputs": [
        {
          "data": {
            "image/svg+xml": "<?xml version=\"1.0\" encoding=\"UTF-8\" standalone=\"no\"?>\n<!DOCTYPE svg PUBLIC \"-//W3C//DTD SVG 1.1//EN\"\n \"http://www.w3.org/Graphics/SVG/1.1/DTD/svg11.dtd\">\n<!-- Generated by graphviz version 2.38.0 (20140413.2041)\n -->\n<!-- Title: G Pages: 1 -->\n<svg width=\"1080pt\" height=\"59pt\"\n viewBox=\"0.00 0.00 1080.00 59.24\" xmlns=\"http://www.w3.org/2000/svg\" xmlns:xlink=\"http://www.w3.org/1999/xlink\">\n<g id=\"graph0\" class=\"graph\" transform=\"scale(0.310167 0.310167) rotate(0) translate(4 187)\">\n<title>G</title>\n<polygon fill=\"white\" stroke=\"none\" points=\"-4,4 -4,-187 3478,-187 3478,4 -4,4\"/>\n<g id=\"clust1\" class=\"cluster\"><title>cluster_prep</title>\n<path fill=\"#777777\" fill-opacity=\"0.266667\" stroke=\"black\" d=\"M94,-48C94,-48 320,-48 320,-48 326,-48 332,-54 332,-60 332,-60 332,-111 332,-111 332,-117 326,-123 320,-123 320,-123 94,-123 94,-123 88,-123 82,-117 82,-111 82,-111 82,-60 82,-60 82,-54 88,-48 94,-48\"/>\n<text text-anchor=\"middle\" x=\"207\" y=\"-107.8\" font-family=\"Times,serif\" font-size=\"14.00\">prep</text>\n</g>\n<g id=\"clust2\" class=\"cluster\"><title>cluster_layer1</title>\n<path fill=\"#777777\" fill-opacity=\"0.266667\" stroke=\"black\" d=\"M364,-12C364,-12 1498,-12 1498,-12 1504,-12 1510,-18 1510,-24 1510,-24 1510,-163 1510,-163 1510,-169 1504,-175 1498,-175 1498,-175 364,-175 364,-175 358,-175 352,-169 352,-163 352,-163 352,-24 352,-24 352,-18 358,-12 364,-12\"/>\n<text text-anchor=\"middle\" x=\"931\" y=\"-159.8\" font-family=\"Times,serif\" font-size=\"14.00\">layer1</text>\n</g>\n<g id=\"clust3\" class=\"cluster\"><title>cluster_layer1_residual</title>\n<path fill=\"#777777\" fill-opacity=\"0.266667\" stroke=\"black\" d=\"M724,-20C724,-20 1490,-20 1490,-20 1496,-20 1502,-26 1502,-32 1502,-32 1502,-132 1502,-132 1502,-138 1496,-144 1490,-144 1490,-144 724,-144 724,-144 718,-144 712,-138 712,-132 712,-132 712,-32 712,-32 712,-26 718,-20 724,-20\"/>\n<text text-anchor=\"middle\" x=\"1107\" y=\"-128.8\" font-family=\"Times,serif\" font-size=\"14.00\">residual</text>\n</g>\n<g id=\"clust4\" class=\"cluster\"><title>cluster_layer1_residual_res1</title>\n<path fill=\"#777777\" fill-opacity=\"0.266667\" stroke=\"black\" d=\"M814,-28C814,-28 1040,-28 1040,-28 1046,-28 1052,-34 1052,-40 1052,-40 1052,-91 1052,-91 1052,-97 1046,-103 1040,-103 1040,-103 814,-103 814,-103 808,-103 802,-97 802,-91 802,-91 802,-40 802,-40 802,-34 808,-28 814,-28\"/>\n<text text-anchor=\"middle\" x=\"927\" y=\"-87.8\" font-family=\"Times,serif\" font-size=\"14.00\">res1</text>\n</g>\n<g id=\"clust5\" class=\"cluster\"><title>cluster_layer1_residual_res2</title>\n<path fill=\"#777777\" fill-opacity=\"0.266667\" stroke=\"black\" d=\"M1084,-28C1084,-28 1310,-28 1310,-28 1316,-28 1322,-34 1322,-40 1322,-40 1322,-91 1322,-91 1322,-97 1316,-103 1310,-103 1310,-103 1084,-103 1084,-103 1078,-103 1072,-97 1072,-91 1072,-91 1072,-40 1072,-40 1072,-34 1078,-28 1084,-28\"/>\n<text text-anchor=\"middle\" x=\"1197\" y=\"-87.8\" font-family=\"Times,serif\" font-size=\"14.00\">res2</text>\n</g>\n<g id=\"clust6\" class=\"cluster\"><title>cluster_layer2</title>\n<path fill=\"#777777\" fill-opacity=\"0.266667\" stroke=\"black\" d=\"M1534,-53C1534,-53 1850,-53 1850,-53 1856,-53 1862,-59 1862,-65 1862,-65 1862,-116 1862,-116 1862,-122 1856,-128 1850,-128 1850,-128 1534,-128 1534,-128 1528,-128 1522,-122 1522,-116 1522,-116 1522,-65 1522,-65 1522,-59 1528,-53 1534,-53\"/>\n<text text-anchor=\"middle\" x=\"1692\" y=\"-112.8\" font-family=\"Times,serif\" font-size=\"14.00\">layer2</text>\n</g>\n<g id=\"clust7\" class=\"cluster\"><title>cluster_layer3</title>\n<path fill=\"#777777\" fill-opacity=\"0.266667\" stroke=\"black\" d=\"M1894,-8C1894,-8 3028,-8 3028,-8 3034,-8 3040,-14 3040,-20 3040,-20 3040,-159 3040,-159 3040,-165 3034,-171 3028,-171 3028,-171 1894,-171 1894,-171 1888,-171 1882,-165 1882,-159 1882,-159 1882,-20 1882,-20 1882,-14 1888,-8 1894,-8\"/>\n<text text-anchor=\"middle\" x=\"2461\" y=\"-155.8\" font-family=\"Times,serif\" font-size=\"14.00\">layer3</text>\n</g>\n<g id=\"clust8\" class=\"cluster\"><title>cluster_layer3_residual</title>\n<path fill=\"#777777\" fill-opacity=\"0.266667\" stroke=\"black\" d=\"M2254,-16C2254,-16 3020,-16 3020,-16 3026,-16 3032,-22 3032,-28 3032,-28 3032,-128 3032,-128 3032,-134 3026,-140 3020,-140 3020,-140 2254,-140 2254,-140 2248,-140 2242,-134 2242,-128 2242,-128 2242,-28 2242,-28 2242,-22 2248,-16 2254,-16\"/>\n<text text-anchor=\"middle\" x=\"2637\" y=\"-124.8\" font-family=\"Times,serif\" font-size=\"14.00\">residual</text>\n</g>\n<g id=\"clust9\" class=\"cluster\"><title>cluster_layer3_residual_res1</title>\n<path fill=\"#777777\" fill-opacity=\"0.266667\" stroke=\"black\" d=\"M2344,-24C2344,-24 2570,-24 2570,-24 2576,-24 2582,-30 2582,-36 2582,-36 2582,-87 2582,-87 2582,-93 2576,-99 2570,-99 2570,-99 2344,-99 2344,-99 2338,-99 2332,-93 2332,-87 2332,-87 2332,-36 2332,-36 2332,-30 2338,-24 2344,-24\"/>\n<text text-anchor=\"middle\" x=\"2457\" y=\"-83.8\" font-family=\"Times,serif\" font-size=\"14.00\">res1</text>\n</g>\n<g id=\"clust10\" class=\"cluster\"><title>cluster_layer3_residual_res2</title>\n<path fill=\"#777777\" fill-opacity=\"0.266667\" stroke=\"black\" d=\"M2614,-24C2614,-24 2840,-24 2840,-24 2846,-24 2852,-30 2852,-36 2852,-36 2852,-87 2852,-87 2852,-93 2846,-99 2840,-99 2840,-99 2614,-99 2614,-99 2608,-99 2602,-93 2602,-87 2602,-87 2602,-36 2602,-36 2602,-30 2608,-24 2614,-24\"/>\n<text text-anchor=\"middle\" x=\"2727\" y=\"-83.8\" font-family=\"Times,serif\" font-size=\"14.00\">res2</text>\n</g>\n<g id=\"clust11\" class=\"cluster\"><title>cluster_classifier</title>\n<path fill=\"#777777\" fill-opacity=\"0.266667\" stroke=\"black\" d=\"M3154,-49C3154,-49 3380,-49 3380,-49 3386,-49 3392,-55 3392,-61 3392,-61 3392,-112 3392,-112 3392,-118 3386,-124 3380,-124 3380,-124 3154,-124 3154,-124 3148,-124 3142,-118 3142,-112 3142,-112 3142,-61 3142,-61 3142,-55 3148,-49 3154,-49\"/>\n<text text-anchor=\"middle\" x=\"3267\" y=\"-108.8\" font-family=\"Times,serif\" font-size=\"14.00\">classifier</text>\n</g>\n<!-- prep_conv -->\n<g id=\"node1\" class=\"node\"><title>prep_conv</title>\n<g id=\"a_node1\"><a xlink:title=\"&lt;class &#39;torch.nn.modules.conv.Conv2d&#39;&gt; {&#39;in_channels&#39;: 3, &#39;out_channels&#39;: 64, &#39;kernel_size&#39;: (3, 3), &#39;stride&#39;: (1, 1), &#39;padding&#39;: (1, 1), &#39;bias&#39;: False}\">\n<path fill=\"#bebada\" stroke=\"black\" d=\"M132,-92C132,-92 102,-92 102,-92 96,-92 90,-86 90,-80 90,-80 90,-68 90,-68 90,-62 96,-56 102,-56 102,-56 132,-56 132,-56 138,-56 144,-62 144,-68 144,-68 144,-80 144,-80 144,-86 138,-92 132,-92\"/>\n<text text-anchor=\"middle\" x=\"117\" y=\"-70.3\" font-family=\"Times,serif\" font-size=\"14.00\">conv</text>\n</a>\n</g>\n</g>\n<!-- prep_norm -->\n<g id=\"node2\" class=\"node\"><title>prep_norm</title>\n<g id=\"a_node2\"><a xlink:title=\"functools.partial(&lt;class &#39;__main__.GhostBatchNorm&#39;&gt;, num_splits=16, weight=False) {&#39;num_features&#39;: 64}\">\n<path fill=\"#b07b87\" stroke=\"black\" d=\"M222,-92C222,-92 192,-92 192,-92 186,-92 180,-86 180,-80 180,-80 180,-68 180,-68 180,-62 186,-56 192,-56 192,-56 222,-56 222,-56 228,-56 234,-62 234,-68 234,-68 234,-80 234,-80 234,-86 228,-92 222,-92\"/>\n<text text-anchor=\"middle\" x=\"207\" y=\"-70.3\" font-family=\"Times,serif\" font-size=\"14.00\">norm</text>\n</a>\n</g>\n</g>\n<!-- prep_conv&#45;&gt;prep_norm -->\n<g id=\"edge2\" class=\"edge\"><title>prep_conv&#45;&gt;prep_norm</title>\n<path fill=\"none\" stroke=\"black\" d=\"M144.403,-74C152.393,-74 161.311,-74 169.824,-74\"/>\n<polygon fill=\"black\" stroke=\"black\" points=\"169.919,-77.5001 179.919,-74 169.919,-70.5001 169.919,-77.5001\"/>\n</g>\n<!-- prep_act -->\n<g id=\"node3\" class=\"node\"><title>prep_act</title>\n<g id=\"a_node3\"><a xlink:title=\"functools.partial(&lt;class &#39;torch.nn.modules.activation.CELU&#39;&gt;, 0.3) {}\">\n<path fill=\"#4e90e3\" stroke=\"black\" d=\"M312,-92C312,-92 282,-92 282,-92 276,-92 270,-86 270,-80 270,-80 270,-68 270,-68 270,-62 276,-56 282,-56 282,-56 312,-56 312,-56 318,-56 324,-62 324,-68 324,-68 324,-80 324,-80 324,-86 318,-92 312,-92\"/>\n<text text-anchor=\"middle\" x=\"297\" y=\"-70.3\" font-family=\"Times,serif\" font-size=\"14.00\">act</text>\n</a>\n</g>\n</g>\n<!-- prep_norm&#45;&gt;prep_act -->\n<g id=\"edge3\" class=\"edge\"><title>prep_norm&#45;&gt;prep_act</title>\n<path fill=\"none\" stroke=\"black\" d=\"M234.403,-74C242.393,-74 251.311,-74 259.824,-74\"/>\n<polygon fill=\"black\" stroke=\"black\" points=\"259.919,-77.5001 269.919,-74 259.919,-70.5001 259.919,-77.5001\"/>\n</g>\n<!-- layer1_conv -->\n<g id=\"node4\" class=\"node\"><title>layer1_conv</title>\n<g id=\"a_node4\"><a xlink:title=\"&lt;class &#39;torch.nn.modules.conv.Conv2d&#39;&gt; {&#39;in_channels&#39;: 64, &#39;out_channels&#39;: 128, &#39;kernel_size&#39;: (3, 3), &#39;stride&#39;: (1, 1), &#39;padding&#39;: (1, 1), &#39;bias&#39;: False}\">\n<path fill=\"#bebada\" stroke=\"black\" d=\"M402,-92C402,-92 372,-92 372,-92 366,-92 360,-86 360,-80 360,-80 360,-68 360,-68 360,-62 366,-56 372,-56 372,-56 402,-56 402,-56 408,-56 414,-62 414,-68 414,-68 414,-80 414,-80 414,-86 408,-92 402,-92\"/>\n<text text-anchor=\"middle\" x=\"387\" y=\"-70.3\" font-family=\"Times,serif\" font-size=\"14.00\">conv</text>\n</a>\n</g>\n</g>\n<!-- prep_act&#45;&gt;layer1_conv -->\n<g id=\"edge4\" class=\"edge\"><title>prep_act&#45;&gt;layer1_conv</title>\n<path fill=\"none\" stroke=\"black\" d=\"M324.403,-74C332.393,-74 341.311,-74 349.824,-74\"/>\n<polygon fill=\"black\" stroke=\"black\" points=\"349.919,-77.5001 359.919,-74 349.919,-70.5001 349.919,-77.5001\"/>\n</g>\n<!-- layer1_pool -->\n<g id=\"node5\" class=\"node\"><title>layer1_pool</title>\n<g id=\"a_node5\"><a xlink:title=\"&lt;class &#39;torch.nn.modules.pooling.MaxPool2d&#39;&gt; {&#39;kernel_size&#39;: 2}\">\n<path fill=\"#8dd3c7\" stroke=\"black\" d=\"M492,-92C492,-92 462,-92 462,-92 456,-92 450,-86 450,-80 450,-80 450,-68 450,-68 450,-62 456,-56 462,-56 462,-56 492,-56 492,-56 498,-56 504,-62 504,-68 504,-68 504,-80 504,-80 504,-86 498,-92 492,-92\"/>\n<text text-anchor=\"middle\" x=\"477\" y=\"-70.3\" font-family=\"Times,serif\" font-size=\"14.00\">pool</text>\n</a>\n</g>\n</g>\n<!-- layer1_conv&#45;&gt;layer1_pool -->\n<g id=\"edge5\" class=\"edge\"><title>layer1_conv&#45;&gt;layer1_pool</title>\n<path fill=\"none\" stroke=\"black\" d=\"M414.403,-74C422.393,-74 431.311,-74 439.824,-74\"/>\n<polygon fill=\"black\" stroke=\"black\" points=\"439.919,-77.5001 449.919,-74 439.919,-70.5001 439.919,-77.5001\"/>\n</g>\n<!-- layer1_norm -->\n<g id=\"node6\" class=\"node\"><title>layer1_norm</title>\n<g id=\"a_node6\"><a xlink:title=\"functools.partial(&lt;class &#39;__main__.GhostBatchNorm&#39;&gt;, num_splits=16, weight=False) {&#39;num_features&#39;: 128}\">\n<path fill=\"#b07b87\" stroke=\"black\" d=\"M582,-92C582,-92 552,-92 552,-92 546,-92 540,-86 540,-80 540,-80 540,-68 540,-68 540,-62 546,-56 552,-56 552,-56 582,-56 582,-56 588,-56 594,-62 594,-68 594,-68 594,-80 594,-80 594,-86 588,-92 582,-92\"/>\n<text text-anchor=\"middle\" x=\"567\" y=\"-70.3\" font-family=\"Times,serif\" font-size=\"14.00\">norm</text>\n</a>\n</g>\n</g>\n<!-- layer1_pool&#45;&gt;layer1_norm -->\n<g id=\"edge6\" class=\"edge\"><title>layer1_pool&#45;&gt;layer1_norm</title>\n<path fill=\"none\" stroke=\"black\" d=\"M504.403,-74C512.393,-74 521.311,-74 529.824,-74\"/>\n<polygon fill=\"black\" stroke=\"black\" points=\"529.919,-77.5001 539.919,-74 529.919,-70.5001 529.919,-77.5001\"/>\n</g>\n<!-- layer1_act -->\n<g id=\"node7\" class=\"node\"><title>layer1_act</title>\n<g id=\"a_node7\"><a xlink:title=\"functools.partial(&lt;class &#39;torch.nn.modules.activation.CELU&#39;&gt;, 0.3) {}\">\n<path fill=\"#4e90e3\" stroke=\"black\" d=\"M672,-92C672,-92 642,-92 642,-92 636,-92 630,-86 630,-80 630,-80 630,-68 630,-68 630,-62 636,-56 642,-56 642,-56 672,-56 672,-56 678,-56 684,-62 684,-68 684,-68 684,-80 684,-80 684,-86 678,-92 672,-92\"/>\n<text text-anchor=\"middle\" x=\"657\" y=\"-70.3\" font-family=\"Times,serif\" font-size=\"14.00\">act</text>\n</a>\n</g>\n</g>\n<!-- layer1_norm&#45;&gt;layer1_act -->\n<g id=\"edge7\" class=\"edge\"><title>layer1_norm&#45;&gt;layer1_act</title>\n<path fill=\"none\" stroke=\"black\" d=\"M594.403,-74C602.393,-74 611.311,-74 619.824,-74\"/>\n<polygon fill=\"black\" stroke=\"black\" points=\"619.919,-77.5001 629.919,-74 619.919,-70.5001 619.919,-77.5001\"/>\n</g>\n<!-- layer1_residual_in -->\n<g id=\"node8\" class=\"node\"><title>layer1_residual_in</title>\n<g id=\"a_node8\"><a xlink:title=\"&lt;class &#39;__main__.Identity&#39;&gt; {}\">\n<path fill=\"#80b1d3\" stroke=\"black\" d=\"M762,-92C762,-92 732,-92 732,-92 726,-92 720,-86 720,-80 720,-80 720,-68 720,-68 720,-62 726,-56 732,-56 732,-56 762,-56 762,-56 768,-56 774,-62 774,-68 774,-68 774,-80 774,-80 774,-86 768,-92 762,-92\"/>\n<text text-anchor=\"middle\" x=\"747\" y=\"-70.3\" font-family=\"Times,serif\" font-size=\"14.00\">in</text>\n</a>\n</g>\n</g>\n<!-- layer1_act&#45;&gt;layer1_residual_in -->\n<g id=\"edge8\" class=\"edge\"><title>layer1_act&#45;&gt;layer1_residual_in</title>\n<path fill=\"none\" stroke=\"black\" d=\"M684.403,-74C692.393,-74 701.311,-74 709.824,-74\"/>\n<polygon fill=\"black\" stroke=\"black\" points=\"709.919,-77.5001 719.919,-74 709.919,-70.5001 709.919,-77.5001\"/>\n</g>\n<!-- layer1_residual_res1_conv -->\n<g id=\"node9\" class=\"node\"><title>layer1_residual_res1_conv</title>\n<g id=\"a_node9\"><a xlink:title=\"&lt;class &#39;torch.nn.modules.conv.Conv2d&#39;&gt; {&#39;in_channels&#39;: 128, &#39;out_channels&#39;: 128, &#39;kernel_size&#39;: (3, 3), &#39;stride&#39;: (1, 1), &#39;padding&#39;: (1, 1), &#39;bias&#39;: False}\">\n<path fill=\"#bebada\" stroke=\"black\" d=\"M852,-72C852,-72 822,-72 822,-72 816,-72 810,-66 810,-60 810,-60 810,-48 810,-48 810,-42 816,-36 822,-36 822,-36 852,-36 852,-36 858,-36 864,-42 864,-48 864,-48 864,-60 864,-60 864,-66 858,-72 852,-72\"/>\n<text text-anchor=\"middle\" x=\"837\" y=\"-50.3\" font-family=\"Times,serif\" font-size=\"14.00\">conv</text>\n</a>\n</g>\n</g>\n<!-- layer1_residual_in&#45;&gt;layer1_residual_res1_conv -->\n<g id=\"edge9\" class=\"edge\"><title>layer1_residual_in&#45;&gt;layer1_residual_res1_conv</title>\n<path fill=\"none\" stroke=\"black\" d=\"M774.403,-67.9993C782.481,-66.1634 791.507,-64.1121 800.105,-62.158\"/>\n<polygon fill=\"black\" stroke=\"black\" points=\"800.943,-65.5568 809.919,-59.9275 799.392,-58.7308 800.943,-65.5568\"/>\n</g>\n<!-- layer1_residual_add -->\n<g id=\"node16\" class=\"node\"><title>layer1_residual_add</title>\n<g id=\"a_node16\"><a xlink:title=\"&lt;class &#39;__main__.Add&#39;&gt; {}\">\n<path fill=\"#fdb462\" stroke=\"black\" d=\"M1482,-97C1482,-97 1452,-97 1452,-97 1446,-97 1440,-91 1440,-85 1440,-85 1440,-73 1440,-73 1440,-67 1446,-61 1452,-61 1452,-61 1482,-61 1482,-61 1488,-61 1494,-67 1494,-73 1494,-73 1494,-85 1494,-85 1494,-91 1488,-97 1482,-97\"/>\n<text text-anchor=\"middle\" x=\"1467\" y=\"-75.3\" font-family=\"Times,serif\" font-size=\"14.00\">add</text>\n</a>\n</g>\n</g>\n<!-- layer1_residual_in&#45;&gt;layer1_residual_add -->\n<g id=\"edge16\" class=\"edge\"><title>layer1_residual_in&#45;&gt;layer1_residual_add</title>\n<path fill=\"none\" stroke=\"black\" d=\"M771.737,-92.1018C780.735,-97.9639 791.381,-103.78 802,-107 854.782,-123.006 870.844,-112 926,-112 926,-112 926,-112 1288,-112 1337.77,-112 1394.08,-99.3711 1429.8,-89.7384\"/>\n<polygon fill=\"black\" stroke=\"black\" points=\"1431.04,-93.0265 1439.74,-86.9884 1429.17,-86.2796 1431.04,-93.0265\"/>\n</g>\n<!-- layer1_residual_res1_norm -->\n<g id=\"node10\" class=\"node\"><title>layer1_residual_res1_norm</title>\n<g id=\"a_node10\"><a xlink:title=\"functools.partial(&lt;class &#39;__main__.GhostBatchNorm&#39;&gt;, num_splits=16, weight=False) {&#39;num_features&#39;: 128}\">\n<path fill=\"#b07b87\" stroke=\"black\" d=\"M942,-72C942,-72 912,-72 912,-72 906,-72 900,-66 900,-60 900,-60 900,-48 900,-48 900,-42 906,-36 912,-36 912,-36 942,-36 942,-36 948,-36 954,-42 954,-48 954,-48 954,-60 954,-60 954,-66 948,-72 942,-72\"/>\n<text text-anchor=\"middle\" x=\"927\" y=\"-50.3\" font-family=\"Times,serif\" font-size=\"14.00\">norm</text>\n</a>\n</g>\n</g>\n<!-- layer1_residual_res1_conv&#45;&gt;layer1_residual_res1_norm -->\n<g id=\"edge10\" class=\"edge\"><title>layer1_residual_res1_conv&#45;&gt;layer1_residual_res1_norm</title>\n<path fill=\"none\" stroke=\"black\" d=\"M864.403,-54C872.393,-54 881.311,-54 889.824,-54\"/>\n<polygon fill=\"black\" stroke=\"black\" points=\"889.919,-57.5001 899.919,-54 889.919,-50.5001 889.919,-57.5001\"/>\n</g>\n<!-- layer1_residual_res1_act -->\n<g id=\"node11\" class=\"node\"><title>layer1_residual_res1_act</title>\n<g id=\"a_node11\"><a xlink:title=\"functools.partial(&lt;class &#39;torch.nn.modules.activation.CELU&#39;&gt;, 0.3) {}\">\n<path fill=\"#4e90e3\" stroke=\"black\" d=\"M1032,-72C1032,-72 1002,-72 1002,-72 996,-72 990,-66 990,-60 990,-60 990,-48 990,-48 990,-42 996,-36 1002,-36 1002,-36 1032,-36 1032,-36 1038,-36 1044,-42 1044,-48 1044,-48 1044,-60 1044,-60 1044,-66 1038,-72 1032,-72\"/>\n<text text-anchor=\"middle\" x=\"1017\" y=\"-50.3\" font-family=\"Times,serif\" font-size=\"14.00\">act</text>\n</a>\n</g>\n</g>\n<!-- layer1_residual_res1_norm&#45;&gt;layer1_residual_res1_act -->\n<g id=\"edge11\" class=\"edge\"><title>layer1_residual_res1_norm&#45;&gt;layer1_residual_res1_act</title>\n<path fill=\"none\" stroke=\"black\" d=\"M954.403,-54C962.393,-54 971.311,-54 979.824,-54\"/>\n<polygon fill=\"black\" stroke=\"black\" points=\"979.919,-57.5001 989.919,-54 979.919,-50.5001 979.919,-57.5001\"/>\n</g>\n<!-- layer1_residual_res2_conv -->\n<g id=\"node12\" class=\"node\"><title>layer1_residual_res2_conv</title>\n<g id=\"a_node12\"><a xlink:title=\"&lt;class &#39;torch.nn.modules.conv.Conv2d&#39;&gt; {&#39;in_channels&#39;: 128, &#39;out_channels&#39;: 128, &#39;kernel_size&#39;: (3, 3), &#39;stride&#39;: (1, 1), &#39;padding&#39;: (1, 1), &#39;bias&#39;: False}\">\n<path fill=\"#bebada\" stroke=\"black\" d=\"M1122,-72C1122,-72 1092,-72 1092,-72 1086,-72 1080,-66 1080,-60 1080,-60 1080,-48 1080,-48 1080,-42 1086,-36 1092,-36 1092,-36 1122,-36 1122,-36 1128,-36 1134,-42 1134,-48 1134,-48 1134,-60 1134,-60 1134,-66 1128,-72 1122,-72\"/>\n<text text-anchor=\"middle\" x=\"1107\" y=\"-50.3\" font-family=\"Times,serif\" font-size=\"14.00\">conv</text>\n</a>\n</g>\n</g>\n<!-- layer1_residual_res1_act&#45;&gt;layer1_residual_res2_conv -->\n<g id=\"edge12\" class=\"edge\"><title>layer1_residual_res1_act&#45;&gt;layer1_residual_res2_conv</title>\n<path fill=\"none\" stroke=\"black\" d=\"M1044.4,-54C1052.39,-54 1061.31,-54 1069.82,-54\"/>\n<polygon fill=\"black\" stroke=\"black\" points=\"1069.92,-57.5001 1079.92,-54 1069.92,-50.5001 1069.92,-57.5001\"/>\n</g>\n<!-- layer1_residual_res2_norm -->\n<g id=\"node13\" class=\"node\"><title>layer1_residual_res2_norm</title>\n<g id=\"a_node13\"><a xlink:title=\"functools.partial(&lt;class &#39;__main__.GhostBatchNorm&#39;&gt;, num_splits=16, weight=False) {&#39;num_features&#39;: 128}\">\n<path fill=\"#b07b87\" stroke=\"black\" d=\"M1212,-72C1212,-72 1182,-72 1182,-72 1176,-72 1170,-66 1170,-60 1170,-60 1170,-48 1170,-48 1170,-42 1176,-36 1182,-36 1182,-36 1212,-36 1212,-36 1218,-36 1224,-42 1224,-48 1224,-48 1224,-60 1224,-60 1224,-66 1218,-72 1212,-72\"/>\n<text text-anchor=\"middle\" x=\"1197\" y=\"-50.3\" font-family=\"Times,serif\" font-size=\"14.00\">norm</text>\n</a>\n</g>\n</g>\n<!-- layer1_residual_res2_conv&#45;&gt;layer1_residual_res2_norm -->\n<g id=\"edge13\" class=\"edge\"><title>layer1_residual_res2_conv&#45;&gt;layer1_residual_res2_norm</title>\n<path fill=\"none\" stroke=\"black\" d=\"M1134.4,-54C1142.39,-54 1151.31,-54 1159.82,-54\"/>\n<polygon fill=\"black\" stroke=\"black\" points=\"1159.92,-57.5001 1169.92,-54 1159.92,-50.5001 1159.92,-57.5001\"/>\n</g>\n<!-- layer1_residual_res2_act -->\n<g id=\"node14\" class=\"node\"><title>layer1_residual_res2_act</title>\n<g id=\"a_node14\"><a xlink:title=\"functools.partial(&lt;class &#39;torch.nn.modules.activation.CELU&#39;&gt;, 0.3) {}\">\n<path fill=\"#4e90e3\" stroke=\"black\" d=\"M1302,-72C1302,-72 1272,-72 1272,-72 1266,-72 1260,-66 1260,-60 1260,-60 1260,-48 1260,-48 1260,-42 1266,-36 1272,-36 1272,-36 1302,-36 1302,-36 1308,-36 1314,-42 1314,-48 1314,-48 1314,-60 1314,-60 1314,-66 1308,-72 1302,-72\"/>\n<text text-anchor=\"middle\" x=\"1287\" y=\"-50.3\" font-family=\"Times,serif\" font-size=\"14.00\">act</text>\n</a>\n</g>\n</g>\n<!-- layer1_residual_res2_norm&#45;&gt;layer1_residual_res2_act -->\n<g id=\"edge14\" class=\"edge\"><title>layer1_residual_res2_norm&#45;&gt;layer1_residual_res2_act</title>\n<path fill=\"none\" stroke=\"black\" d=\"M1224.4,-54C1232.39,-54 1241.31,-54 1249.82,-54\"/>\n<polygon fill=\"black\" stroke=\"black\" points=\"1249.92,-57.5001 1259.92,-54 1249.92,-50.5001 1249.92,-57.5001\"/>\n</g>\n<!-- layer1_residual_out -->\n<g id=\"node15\" class=\"node\"><title>layer1_residual_out</title>\n<g id=\"a_node15\"><a xlink:title=\"&lt;class &#39;__main__.Identity&#39;&gt; {}\">\n<path fill=\"#80b1d3\" stroke=\"black\" d=\"M1392,-82C1392,-82 1362,-82 1362,-82 1356,-82 1350,-76 1350,-70 1350,-70 1350,-58 1350,-58 1350,-52 1356,-46 1362,-46 1362,-46 1392,-46 1392,-46 1398,-46 1404,-52 1404,-58 1404,-58 1404,-70 1404,-70 1404,-76 1398,-82 1392,-82\"/>\n<text text-anchor=\"middle\" x=\"1377\" y=\"-60.3\" font-family=\"Times,serif\" font-size=\"14.00\">out</text>\n</a>\n</g>\n</g>\n<!-- layer1_residual_res2_act&#45;&gt;layer1_residual_out -->\n<g id=\"edge15\" class=\"edge\"><title>layer1_residual_res2_act&#45;&gt;layer1_residual_out</title>\n<path fill=\"none\" stroke=\"black\" d=\"M1314.4,-57.0003C1322.39,-57.9083 1331.31,-58.9217 1339.82,-59.8891\"/>\n<polygon fill=\"black\" stroke=\"black\" points=\"1339.59,-63.3847 1349.92,-61.0362 1340.38,-56.4294 1339.59,-63.3847\"/>\n</g>\n<!-- layer1_residual_out&#45;&gt;layer1_residual_add -->\n<g id=\"edge17\" class=\"edge\"><title>layer1_residual_out&#45;&gt;layer1_residual_add</title>\n<path fill=\"none\" stroke=\"black\" d=\"M1404.4,-68.5005C1412.39,-69.8625 1421.31,-71.3825 1429.82,-72.8336\"/>\n<polygon fill=\"black\" stroke=\"black\" points=\"1429.47,-76.3242 1439.92,-74.5544 1430.65,-69.4237 1429.47,-76.3242\"/>\n</g>\n<!-- layer2_conv -->\n<g id=\"node17\" class=\"node\"><title>layer2_conv</title>\n<g id=\"a_node17\"><a xlink:title=\"&lt;class &#39;torch.nn.modules.conv.Conv2d&#39;&gt; {&#39;in_channels&#39;: 128, &#39;out_channels&#39;: 256, &#39;kernel_size&#39;: (3, 3), &#39;stride&#39;: (1, 1), &#39;padding&#39;: (1, 1), &#39;bias&#39;: False}\">\n<path fill=\"#bebada\" stroke=\"black\" d=\"M1572,-97C1572,-97 1542,-97 1542,-97 1536,-97 1530,-91 1530,-85 1530,-85 1530,-73 1530,-73 1530,-67 1536,-61 1542,-61 1542,-61 1572,-61 1572,-61 1578,-61 1584,-67 1584,-73 1584,-73 1584,-85 1584,-85 1584,-91 1578,-97 1572,-97\"/>\n<text text-anchor=\"middle\" x=\"1557\" y=\"-75.3\" font-family=\"Times,serif\" font-size=\"14.00\">conv</text>\n</a>\n</g>\n</g>\n<!-- layer1_residual_add&#45;&gt;layer2_conv -->\n<g id=\"edge18\" class=\"edge\"><title>layer1_residual_add&#45;&gt;layer2_conv</title>\n<path fill=\"none\" stroke=\"black\" d=\"M1494.4,-79C1502.39,-79 1511.31,-79 1519.82,-79\"/>\n<polygon fill=\"black\" stroke=\"black\" points=\"1519.92,-82.5001 1529.92,-79 1519.92,-75.5001 1519.92,-82.5001\"/>\n</g>\n<!-- layer2_pool -->\n<g id=\"node18\" class=\"node\"><title>layer2_pool</title>\n<g id=\"a_node18\"><a xlink:title=\"&lt;class &#39;torch.nn.modules.pooling.MaxPool2d&#39;&gt; {&#39;kernel_size&#39;: 2}\">\n<path fill=\"#8dd3c7\" stroke=\"black\" d=\"M1662,-97C1662,-97 1632,-97 1632,-97 1626,-97 1620,-91 1620,-85 1620,-85 1620,-73 1620,-73 1620,-67 1626,-61 1632,-61 1632,-61 1662,-61 1662,-61 1668,-61 1674,-67 1674,-73 1674,-73 1674,-85 1674,-85 1674,-91 1668,-97 1662,-97\"/>\n<text text-anchor=\"middle\" x=\"1647\" y=\"-75.3\" font-family=\"Times,serif\" font-size=\"14.00\">pool</text>\n</a>\n</g>\n</g>\n<!-- layer2_conv&#45;&gt;layer2_pool -->\n<g id=\"edge19\" class=\"edge\"><title>layer2_conv&#45;&gt;layer2_pool</title>\n<path fill=\"none\" stroke=\"black\" d=\"M1584.4,-79C1592.39,-79 1601.31,-79 1609.82,-79\"/>\n<polygon fill=\"black\" stroke=\"black\" points=\"1609.92,-82.5001 1619.92,-79 1609.92,-75.5001 1609.92,-82.5001\"/>\n</g>\n<!-- layer2_norm -->\n<g id=\"node19\" class=\"node\"><title>layer2_norm</title>\n<g id=\"a_node19\"><a xlink:title=\"functools.partial(&lt;class &#39;__main__.GhostBatchNorm&#39;&gt;, num_splits=16, weight=False) {&#39;num_features&#39;: 256}\">\n<path fill=\"#b07b87\" stroke=\"black\" d=\"M1752,-97C1752,-97 1722,-97 1722,-97 1716,-97 1710,-91 1710,-85 1710,-85 1710,-73 1710,-73 1710,-67 1716,-61 1722,-61 1722,-61 1752,-61 1752,-61 1758,-61 1764,-67 1764,-73 1764,-73 1764,-85 1764,-85 1764,-91 1758,-97 1752,-97\"/>\n<text text-anchor=\"middle\" x=\"1737\" y=\"-75.3\" font-family=\"Times,serif\" font-size=\"14.00\">norm</text>\n</a>\n</g>\n</g>\n<!-- layer2_pool&#45;&gt;layer2_norm -->\n<g id=\"edge20\" class=\"edge\"><title>layer2_pool&#45;&gt;layer2_norm</title>\n<path fill=\"none\" stroke=\"black\" d=\"M1674.4,-79C1682.39,-79 1691.31,-79 1699.82,-79\"/>\n<polygon fill=\"black\" stroke=\"black\" points=\"1699.92,-82.5001 1709.92,-79 1699.92,-75.5001 1699.92,-82.5001\"/>\n</g>\n<!-- layer2_act -->\n<g id=\"node20\" class=\"node\"><title>layer2_act</title>\n<g id=\"a_node20\"><a xlink:title=\"functools.partial(&lt;class &#39;torch.nn.modules.activation.CELU&#39;&gt;, 0.3) {}\">\n<path fill=\"#4e90e3\" stroke=\"black\" d=\"M1842,-97C1842,-97 1812,-97 1812,-97 1806,-97 1800,-91 1800,-85 1800,-85 1800,-73 1800,-73 1800,-67 1806,-61 1812,-61 1812,-61 1842,-61 1842,-61 1848,-61 1854,-67 1854,-73 1854,-73 1854,-85 1854,-85 1854,-91 1848,-97 1842,-97\"/>\n<text text-anchor=\"middle\" x=\"1827\" y=\"-75.3\" font-family=\"Times,serif\" font-size=\"14.00\">act</text>\n</a>\n</g>\n</g>\n<!-- layer2_norm&#45;&gt;layer2_act -->\n<g id=\"edge21\" class=\"edge\"><title>layer2_norm&#45;&gt;layer2_act</title>\n<path fill=\"none\" stroke=\"black\" d=\"M1764.4,-79C1772.39,-79 1781.31,-79 1789.82,-79\"/>\n<polygon fill=\"black\" stroke=\"black\" points=\"1789.92,-82.5001 1799.92,-79 1789.92,-75.5001 1789.92,-82.5001\"/>\n</g>\n<!-- layer3_conv -->\n<g id=\"node21\" class=\"node\"><title>layer3_conv</title>\n<g id=\"a_node21\"><a xlink:title=\"&lt;class &#39;torch.nn.modules.conv.Conv2d&#39;&gt; {&#39;in_channels&#39;: 256, &#39;out_channels&#39;: 512, &#39;kernel_size&#39;: (3, 3), &#39;stride&#39;: (1, 1), &#39;padding&#39;: (1, 1), &#39;bias&#39;: False}\">\n<path fill=\"#bebada\" stroke=\"black\" d=\"M1932,-97C1932,-97 1902,-97 1902,-97 1896,-97 1890,-91 1890,-85 1890,-85 1890,-73 1890,-73 1890,-67 1896,-61 1902,-61 1902,-61 1932,-61 1932,-61 1938,-61 1944,-67 1944,-73 1944,-73 1944,-85 1944,-85 1944,-91 1938,-97 1932,-97\"/>\n<text text-anchor=\"middle\" x=\"1917\" y=\"-75.3\" font-family=\"Times,serif\" font-size=\"14.00\">conv</text>\n</a>\n</g>\n</g>\n<!-- layer2_act&#45;&gt;layer3_conv -->\n<g id=\"edge22\" class=\"edge\"><title>layer2_act&#45;&gt;layer3_conv</title>\n<path fill=\"none\" stroke=\"black\" d=\"M1854.4,-79C1862.39,-79 1871.31,-79 1879.82,-79\"/>\n<polygon fill=\"black\" stroke=\"black\" points=\"1879.92,-82.5001 1889.92,-79 1879.92,-75.5001 1879.92,-82.5001\"/>\n</g>\n<!-- layer3_pool -->\n<g id=\"node22\" class=\"node\"><title>layer3_pool</title>\n<g id=\"a_node22\"><a xlink:title=\"&lt;class &#39;torch.nn.modules.pooling.MaxPool2d&#39;&gt; {&#39;kernel_size&#39;: 2}\">\n<path fill=\"#8dd3c7\" stroke=\"black\" d=\"M2022,-97C2022,-97 1992,-97 1992,-97 1986,-97 1980,-91 1980,-85 1980,-85 1980,-73 1980,-73 1980,-67 1986,-61 1992,-61 1992,-61 2022,-61 2022,-61 2028,-61 2034,-67 2034,-73 2034,-73 2034,-85 2034,-85 2034,-91 2028,-97 2022,-97\"/>\n<text text-anchor=\"middle\" x=\"2007\" y=\"-75.3\" font-family=\"Times,serif\" font-size=\"14.00\">pool</text>\n</a>\n</g>\n</g>\n<!-- layer3_conv&#45;&gt;layer3_pool -->\n<g id=\"edge23\" class=\"edge\"><title>layer3_conv&#45;&gt;layer3_pool</title>\n<path fill=\"none\" stroke=\"black\" d=\"M1944.4,-79C1952.39,-79 1961.31,-79 1969.82,-79\"/>\n<polygon fill=\"black\" stroke=\"black\" points=\"1969.92,-82.5001 1979.92,-79 1969.92,-75.5001 1969.92,-82.5001\"/>\n</g>\n<!-- layer3_norm -->\n<g id=\"node23\" class=\"node\"><title>layer3_norm</title>\n<g id=\"a_node23\"><a xlink:title=\"functools.partial(&lt;class &#39;__main__.GhostBatchNorm&#39;&gt;, num_splits=16, weight=False) {&#39;num_features&#39;: 512}\">\n<path fill=\"#b07b87\" stroke=\"black\" d=\"M2112,-97C2112,-97 2082,-97 2082,-97 2076,-97 2070,-91 2070,-85 2070,-85 2070,-73 2070,-73 2070,-67 2076,-61 2082,-61 2082,-61 2112,-61 2112,-61 2118,-61 2124,-67 2124,-73 2124,-73 2124,-85 2124,-85 2124,-91 2118,-97 2112,-97\"/>\n<text text-anchor=\"middle\" x=\"2097\" y=\"-75.3\" font-family=\"Times,serif\" font-size=\"14.00\">norm</text>\n</a>\n</g>\n</g>\n<!-- layer3_pool&#45;&gt;layer3_norm -->\n<g id=\"edge24\" class=\"edge\"><title>layer3_pool&#45;&gt;layer3_norm</title>\n<path fill=\"none\" stroke=\"black\" d=\"M2034.4,-79C2042.39,-79 2051.31,-79 2059.82,-79\"/>\n<polygon fill=\"black\" stroke=\"black\" points=\"2059.92,-82.5001 2069.92,-79 2059.92,-75.5001 2059.92,-82.5001\"/>\n</g>\n<!-- layer3_act -->\n<g id=\"node24\" class=\"node\"><title>layer3_act</title>\n<g id=\"a_node24\"><a xlink:title=\"functools.partial(&lt;class &#39;torch.nn.modules.activation.CELU&#39;&gt;, 0.3) {}\">\n<path fill=\"#4e90e3\" stroke=\"black\" d=\"M2202,-97C2202,-97 2172,-97 2172,-97 2166,-97 2160,-91 2160,-85 2160,-85 2160,-73 2160,-73 2160,-67 2166,-61 2172,-61 2172,-61 2202,-61 2202,-61 2208,-61 2214,-67 2214,-73 2214,-73 2214,-85 2214,-85 2214,-91 2208,-97 2202,-97\"/>\n<text text-anchor=\"middle\" x=\"2187\" y=\"-75.3\" font-family=\"Times,serif\" font-size=\"14.00\">act</text>\n</a>\n</g>\n</g>\n<!-- layer3_norm&#45;&gt;layer3_act -->\n<g id=\"edge25\" class=\"edge\"><title>layer3_norm&#45;&gt;layer3_act</title>\n<path fill=\"none\" stroke=\"black\" d=\"M2124.4,-79C2132.39,-79 2141.31,-79 2149.82,-79\"/>\n<polygon fill=\"black\" stroke=\"black\" points=\"2149.92,-82.5001 2159.92,-79 2149.92,-75.5001 2149.92,-82.5001\"/>\n</g>\n<!-- layer3_residual_in -->\n<g id=\"node25\" class=\"node\"><title>layer3_residual_in</title>\n<g id=\"a_node25\"><a xlink:title=\"&lt;class &#39;__main__.Identity&#39;&gt; {}\">\n<path fill=\"#80b1d3\" stroke=\"black\" d=\"M2292,-97C2292,-97 2262,-97 2262,-97 2256,-97 2250,-91 2250,-85 2250,-85 2250,-73 2250,-73 2250,-67 2256,-61 2262,-61 2262,-61 2292,-61 2292,-61 2298,-61 2304,-67 2304,-73 2304,-73 2304,-85 2304,-85 2304,-91 2298,-97 2292,-97\"/>\n<text text-anchor=\"middle\" x=\"2277\" y=\"-75.3\" font-family=\"Times,serif\" font-size=\"14.00\">in</text>\n</a>\n</g>\n</g>\n<!-- layer3_act&#45;&gt;layer3_residual_in -->\n<g id=\"edge26\" class=\"edge\"><title>layer3_act&#45;&gt;layer3_residual_in</title>\n<path fill=\"none\" stroke=\"black\" d=\"M2214.4,-79C2222.39,-79 2231.31,-79 2239.82,-79\"/>\n<polygon fill=\"black\" stroke=\"black\" points=\"2239.92,-82.5001 2249.92,-79 2239.92,-75.5001 2239.92,-82.5001\"/>\n</g>\n<!-- layer3_residual_res1_conv -->\n<g id=\"node26\" class=\"node\"><title>layer3_residual_res1_conv</title>\n<g id=\"a_node26\"><a xlink:title=\"&lt;class &#39;torch.nn.modules.conv.Conv2d&#39;&gt; {&#39;in_channels&#39;: 512, &#39;out_channels&#39;: 512, &#39;kernel_size&#39;: (3, 3), &#39;stride&#39;: (1, 1), &#39;padding&#39;: (1, 1), &#39;bias&#39;: False}\">\n<path fill=\"#bebada\" stroke=\"black\" d=\"M2382,-68C2382,-68 2352,-68 2352,-68 2346,-68 2340,-62 2340,-56 2340,-56 2340,-44 2340,-44 2340,-38 2346,-32 2352,-32 2352,-32 2382,-32 2382,-32 2388,-32 2394,-38 2394,-44 2394,-44 2394,-56 2394,-56 2394,-62 2388,-68 2382,-68\"/>\n<text text-anchor=\"middle\" x=\"2367\" y=\"-46.3\" font-family=\"Times,serif\" font-size=\"14.00\">conv</text>\n</a>\n</g>\n</g>\n<!-- layer3_residual_in&#45;&gt;layer3_residual_res1_conv -->\n<g id=\"edge27\" class=\"edge\"><title>layer3_residual_in&#45;&gt;layer3_residual_res1_conv</title>\n<path fill=\"none\" stroke=\"black\" d=\"M2304.4,-70.299C2312.57,-67.608 2321.7,-64.5979 2330.38,-61.7368\"/>\n<polygon fill=\"black\" stroke=\"black\" points=\"2331.52,-65.049 2339.92,-58.5949 2329.33,-58.4007 2331.52,-65.049\"/>\n</g>\n<!-- layer3_residual_add -->\n<g id=\"node33\" class=\"node\"><title>layer3_residual_add</title>\n<g id=\"a_node33\"><a xlink:title=\"&lt;class &#39;__main__.Add&#39;&gt; {}\">\n<path fill=\"#fdb462\" stroke=\"black\" d=\"M3012,-93C3012,-93 2982,-93 2982,-93 2976,-93 2970,-87 2970,-81 2970,-81 2970,-69 2970,-69 2970,-63 2976,-57 2982,-57 2982,-57 3012,-57 3012,-57 3018,-57 3024,-63 3024,-69 3024,-69 3024,-81 3024,-81 3024,-87 3018,-93 3012,-93\"/>\n<text text-anchor=\"middle\" x=\"2997\" y=\"-71.3\" font-family=\"Times,serif\" font-size=\"14.00\">add</text>\n</a>\n</g>\n</g>\n<!-- layer3_residual_in&#45;&gt;layer3_residual_add -->\n<g id=\"edge34\" class=\"edge\"><title>layer3_residual_in&#45;&gt;layer3_residual_add</title>\n<path fill=\"none\" stroke=\"black\" d=\"M2304.22,-93.0359C2312.83,-96.9904 2322.61,-100.808 2332,-103 2385.71,-115.535 2400.84,-108 2456,-108 2456,-108 2456,-108 2818,-108 2867.77,-108 2924.08,-95.3711 2959.8,-85.7384\"/>\n<polygon fill=\"black\" stroke=\"black\" points=\"2961.04,-89.0265 2969.74,-82.9884 2959.17,-82.2796 2961.04,-89.0265\"/>\n</g>\n<!-- layer3_residual_res1_norm -->\n<g id=\"node27\" class=\"node\"><title>layer3_residual_res1_norm</title>\n<g id=\"a_node27\"><a xlink:title=\"functools.partial(&lt;class &#39;__main__.GhostBatchNorm&#39;&gt;, num_splits=16, weight=False) {&#39;num_features&#39;: 512}\">\n<path fill=\"#b07b87\" stroke=\"black\" d=\"M2472,-68C2472,-68 2442,-68 2442,-68 2436,-68 2430,-62 2430,-56 2430,-56 2430,-44 2430,-44 2430,-38 2436,-32 2442,-32 2442,-32 2472,-32 2472,-32 2478,-32 2484,-38 2484,-44 2484,-44 2484,-56 2484,-56 2484,-62 2478,-68 2472,-68\"/>\n<text text-anchor=\"middle\" x=\"2457\" y=\"-46.3\" font-family=\"Times,serif\" font-size=\"14.00\">norm</text>\n</a>\n</g>\n</g>\n<!-- layer3_residual_res1_conv&#45;&gt;layer3_residual_res1_norm -->\n<g id=\"edge28\" class=\"edge\"><title>layer3_residual_res1_conv&#45;&gt;layer3_residual_res1_norm</title>\n<path fill=\"none\" stroke=\"black\" d=\"M2394.4,-50C2402.39,-50 2411.31,-50 2419.82,-50\"/>\n<polygon fill=\"black\" stroke=\"black\" points=\"2419.92,-53.5001 2429.92,-50 2419.92,-46.5001 2419.92,-53.5001\"/>\n</g>\n<!-- layer3_residual_res1_act -->\n<g id=\"node28\" class=\"node\"><title>layer3_residual_res1_act</title>\n<g id=\"a_node28\"><a xlink:title=\"functools.partial(&lt;class &#39;torch.nn.modules.activation.CELU&#39;&gt;, 0.3) {}\">\n<path fill=\"#4e90e3\" stroke=\"black\" d=\"M2562,-68C2562,-68 2532,-68 2532,-68 2526,-68 2520,-62 2520,-56 2520,-56 2520,-44 2520,-44 2520,-38 2526,-32 2532,-32 2532,-32 2562,-32 2562,-32 2568,-32 2574,-38 2574,-44 2574,-44 2574,-56 2574,-56 2574,-62 2568,-68 2562,-68\"/>\n<text text-anchor=\"middle\" x=\"2547\" y=\"-46.3\" font-family=\"Times,serif\" font-size=\"14.00\">act</text>\n</a>\n</g>\n</g>\n<!-- layer3_residual_res1_norm&#45;&gt;layer3_residual_res1_act -->\n<g id=\"edge29\" class=\"edge\"><title>layer3_residual_res1_norm&#45;&gt;layer3_residual_res1_act</title>\n<path fill=\"none\" stroke=\"black\" d=\"M2484.4,-50C2492.39,-50 2501.31,-50 2509.82,-50\"/>\n<polygon fill=\"black\" stroke=\"black\" points=\"2509.92,-53.5001 2519.92,-50 2509.92,-46.5001 2509.92,-53.5001\"/>\n</g>\n<!-- layer3_residual_res2_conv -->\n<g id=\"node29\" class=\"node\"><title>layer3_residual_res2_conv</title>\n<g id=\"a_node29\"><a xlink:title=\"&lt;class &#39;torch.nn.modules.conv.Conv2d&#39;&gt; {&#39;in_channels&#39;: 512, &#39;out_channels&#39;: 512, &#39;kernel_size&#39;: (3, 3), &#39;stride&#39;: (1, 1), &#39;padding&#39;: (1, 1), &#39;bias&#39;: False}\">\n<path fill=\"#bebada\" stroke=\"black\" d=\"M2652,-68C2652,-68 2622,-68 2622,-68 2616,-68 2610,-62 2610,-56 2610,-56 2610,-44 2610,-44 2610,-38 2616,-32 2622,-32 2622,-32 2652,-32 2652,-32 2658,-32 2664,-38 2664,-44 2664,-44 2664,-56 2664,-56 2664,-62 2658,-68 2652,-68\"/>\n<text text-anchor=\"middle\" x=\"2637\" y=\"-46.3\" font-family=\"Times,serif\" font-size=\"14.00\">conv</text>\n</a>\n</g>\n</g>\n<!-- layer3_residual_res1_act&#45;&gt;layer3_residual_res2_conv -->\n<g id=\"edge30\" class=\"edge\"><title>layer3_residual_res1_act&#45;&gt;layer3_residual_res2_conv</title>\n<path fill=\"none\" stroke=\"black\" d=\"M2574.4,-50C2582.39,-50 2591.31,-50 2599.82,-50\"/>\n<polygon fill=\"black\" stroke=\"black\" points=\"2599.92,-53.5001 2609.92,-50 2599.92,-46.5001 2599.92,-53.5001\"/>\n</g>\n<!-- layer3_residual_res2_norm -->\n<g id=\"node30\" class=\"node\"><title>layer3_residual_res2_norm</title>\n<g id=\"a_node30\"><a xlink:title=\"functools.partial(&lt;class &#39;__main__.GhostBatchNorm&#39;&gt;, num_splits=16, weight=False) {&#39;num_features&#39;: 512}\">\n<path fill=\"#b07b87\" stroke=\"black\" d=\"M2742,-68C2742,-68 2712,-68 2712,-68 2706,-68 2700,-62 2700,-56 2700,-56 2700,-44 2700,-44 2700,-38 2706,-32 2712,-32 2712,-32 2742,-32 2742,-32 2748,-32 2754,-38 2754,-44 2754,-44 2754,-56 2754,-56 2754,-62 2748,-68 2742,-68\"/>\n<text text-anchor=\"middle\" x=\"2727\" y=\"-46.3\" font-family=\"Times,serif\" font-size=\"14.00\">norm</text>\n</a>\n</g>\n</g>\n<!-- layer3_residual_res2_conv&#45;&gt;layer3_residual_res2_norm -->\n<g id=\"edge31\" class=\"edge\"><title>layer3_residual_res2_conv&#45;&gt;layer3_residual_res2_norm</title>\n<path fill=\"none\" stroke=\"black\" d=\"M2664.4,-50C2672.39,-50 2681.31,-50 2689.82,-50\"/>\n<polygon fill=\"black\" stroke=\"black\" points=\"2689.92,-53.5001 2699.92,-50 2689.92,-46.5001 2689.92,-53.5001\"/>\n</g>\n<!-- layer3_residual_res2_act -->\n<g id=\"node31\" class=\"node\"><title>layer3_residual_res2_act</title>\n<g id=\"a_node31\"><a xlink:title=\"functools.partial(&lt;class &#39;torch.nn.modules.activation.CELU&#39;&gt;, 0.3) {}\">\n<path fill=\"#4e90e3\" stroke=\"black\" d=\"M2832,-68C2832,-68 2802,-68 2802,-68 2796,-68 2790,-62 2790,-56 2790,-56 2790,-44 2790,-44 2790,-38 2796,-32 2802,-32 2802,-32 2832,-32 2832,-32 2838,-32 2844,-38 2844,-44 2844,-44 2844,-56 2844,-56 2844,-62 2838,-68 2832,-68\"/>\n<text text-anchor=\"middle\" x=\"2817\" y=\"-46.3\" font-family=\"Times,serif\" font-size=\"14.00\">act</text>\n</a>\n</g>\n</g>\n<!-- layer3_residual_res2_norm&#45;&gt;layer3_residual_res2_act -->\n<g id=\"edge32\" class=\"edge\"><title>layer3_residual_res2_norm&#45;&gt;layer3_residual_res2_act</title>\n<path fill=\"none\" stroke=\"black\" d=\"M2754.4,-50C2762.39,-50 2771.31,-50 2779.82,-50\"/>\n<polygon fill=\"black\" stroke=\"black\" points=\"2779.92,-53.5001 2789.92,-50 2779.92,-46.5001 2779.92,-53.5001\"/>\n</g>\n<!-- layer3_residual_out -->\n<g id=\"node32\" class=\"node\"><title>layer3_residual_out</title>\n<g id=\"a_node32\"><a xlink:title=\"&lt;class &#39;__main__.Identity&#39;&gt; {}\">\n<path fill=\"#80b1d3\" stroke=\"black\" d=\"M2922,-78C2922,-78 2892,-78 2892,-78 2886,-78 2880,-72 2880,-66 2880,-66 2880,-54 2880,-54 2880,-48 2886,-42 2892,-42 2892,-42 2922,-42 2922,-42 2928,-42 2934,-48 2934,-54 2934,-54 2934,-66 2934,-66 2934,-72 2928,-78 2922,-78\"/>\n<text text-anchor=\"middle\" x=\"2907\" y=\"-56.3\" font-family=\"Times,serif\" font-size=\"14.00\">out</text>\n</a>\n</g>\n</g>\n<!-- layer3_residual_res2_act&#45;&gt;layer3_residual_out -->\n<g id=\"edge33\" class=\"edge\"><title>layer3_residual_res2_act&#45;&gt;layer3_residual_out</title>\n<path fill=\"none\" stroke=\"black\" d=\"M2844.4,-53.0003C2852.39,-53.9083 2861.31,-54.9217 2869.82,-55.8891\"/>\n<polygon fill=\"black\" stroke=\"black\" points=\"2869.59,-59.3847 2879.92,-57.0362 2870.38,-52.4294 2869.59,-59.3847\"/>\n</g>\n<!-- layer3_residual_out&#45;&gt;layer3_residual_add -->\n<g id=\"edge35\" class=\"edge\"><title>layer3_residual_out&#45;&gt;layer3_residual_add</title>\n<path fill=\"none\" stroke=\"black\" d=\"M2934.4,-64.5005C2942.39,-65.8625 2951.31,-67.3825 2959.82,-68.8336\"/>\n<polygon fill=\"black\" stroke=\"black\" points=\"2959.47,-72.3242 2969.92,-70.5544 2960.65,-65.4237 2959.47,-72.3242\"/>\n</g>\n<!-- pool -->\n<g id=\"node34\" class=\"node\"><title>pool</title>\n<g id=\"a_node34\"><a xlink:title=\"&lt;class &#39;torch.nn.modules.pooling.MaxPool2d&#39;&gt; {&#39;kernel_size&#39;: 4}\">\n<path fill=\"#8dd3c7\" stroke=\"black\" d=\"M3102,-93C3102,-93 3072,-93 3072,-93 3066,-93 3060,-87 3060,-81 3060,-81 3060,-69 3060,-69 3060,-63 3066,-57 3072,-57 3072,-57 3102,-57 3102,-57 3108,-57 3114,-63 3114,-69 3114,-69 3114,-81 3114,-81 3114,-87 3108,-93 3102,-93\"/>\n<text text-anchor=\"middle\" x=\"3087\" y=\"-71.3\" font-family=\"Times,serif\" font-size=\"14.00\">pool</text>\n</a>\n</g>\n</g>\n<!-- layer3_residual_add&#45;&gt;pool -->\n<g id=\"edge36\" class=\"edge\"><title>layer3_residual_add&#45;&gt;pool</title>\n<path fill=\"none\" stroke=\"black\" d=\"M3024.4,-75C3032.39,-75 3041.31,-75 3049.82,-75\"/>\n<polygon fill=\"black\" stroke=\"black\" points=\"3049.92,-78.5001 3059.92,-75 3049.92,-71.5001 3049.92,-78.5001\"/>\n</g>\n<!-- classifier_flatten -->\n<g id=\"node35\" class=\"node\"><title>classifier_flatten</title>\n<g id=\"a_node35\"><a xlink:title=\"&lt;class &#39;__main__.Flatten&#39;&gt; {}\">\n<path fill=\"#b3de69\" stroke=\"black\" d=\"M3192,-93C3192,-93 3162,-93 3162,-93 3156,-93 3150,-87 3150,-81 3150,-81 3150,-69 3150,-69 3150,-63 3156,-57 3162,-57 3162,-57 3192,-57 3192,-57 3198,-57 3204,-63 3204,-69 3204,-69 3204,-81 3204,-81 3204,-87 3198,-93 3192,-93\"/>\n<text text-anchor=\"middle\" x=\"3177\" y=\"-71.3\" font-family=\"Times,serif\" font-size=\"14.00\">flatten</text>\n</a>\n</g>\n</g>\n<!-- pool&#45;&gt;classifier_flatten -->\n<g id=\"edge37\" class=\"edge\"><title>pool&#45;&gt;classifier_flatten</title>\n<path fill=\"none\" stroke=\"black\" d=\"M3114.4,-75C3122.39,-75 3131.31,-75 3139.82,-75\"/>\n<polygon fill=\"black\" stroke=\"black\" points=\"3139.92,-78.5001 3149.92,-75 3139.92,-71.5001 3139.92,-78.5001\"/>\n</g>\n<!-- classifier_conv -->\n<g id=\"node36\" class=\"node\"><title>classifier_conv</title>\n<g id=\"a_node36\"><a xlink:title=\"&lt;class &#39;torch.nn.modules.linear.Linear&#39;&gt; {&#39;in_features&#39;: 512, &#39;out_features&#39;: 10, &#39;bias&#39;: False}\">\n<path fill=\"#fccde5\" stroke=\"black\" d=\"M3282,-93C3282,-93 3252,-93 3252,-93 3246,-93 3240,-87 3240,-81 3240,-81 3240,-69 3240,-69 3240,-63 3246,-57 3252,-57 3252,-57 3282,-57 3282,-57 3288,-57 3294,-63 3294,-69 3294,-69 3294,-81 3294,-81 3294,-87 3288,-93 3282,-93\"/>\n<text text-anchor=\"middle\" x=\"3267\" y=\"-71.3\" font-family=\"Times,serif\" font-size=\"14.00\">conv</text>\n</a>\n</g>\n</g>\n<!-- classifier_flatten&#45;&gt;classifier_conv -->\n<g id=\"edge38\" class=\"edge\"><title>classifier_flatten&#45;&gt;classifier_conv</title>\n<path fill=\"none\" stroke=\"black\" d=\"M3204.4,-75C3212.39,-75 3221.31,-75 3229.82,-75\"/>\n<polygon fill=\"black\" stroke=\"black\" points=\"3229.92,-78.5001 3239.92,-75 3229.92,-71.5001 3229.92,-78.5001\"/>\n</g>\n<!-- classifier_scale -->\n<g id=\"node37\" class=\"node\"><title>classifier_scale</title>\n<g id=\"a_node37\"><a xlink:title=\"&lt;class &#39;__main__.Mul&#39;&gt; {&#39;weight&#39;: 0.0625}\">\n<path fill=\"#bc80bd\" stroke=\"black\" d=\"M3372,-93C3372,-93 3342,-93 3342,-93 3336,-93 3330,-87 3330,-81 3330,-81 3330,-69 3330,-69 3330,-63 3336,-57 3342,-57 3342,-57 3372,-57 3372,-57 3378,-57 3384,-63 3384,-69 3384,-69 3384,-81 3384,-81 3384,-87 3378,-93 3372,-93\"/>\n<text text-anchor=\"middle\" x=\"3357\" y=\"-71.3\" font-family=\"Times,serif\" font-size=\"14.00\">scale</text>\n</a>\n</g>\n</g>\n<!-- classifier_conv&#45;&gt;classifier_scale -->\n<g id=\"edge39\" class=\"edge\"><title>classifier_conv&#45;&gt;classifier_scale</title>\n<path fill=\"none\" stroke=\"black\" d=\"M3294.4,-75C3302.39,-75 3311.31,-75 3319.82,-75\"/>\n<polygon fill=\"black\" stroke=\"black\" points=\"3319.92,-78.5001 3329.92,-75 3319.92,-71.5001 3319.92,-78.5001\"/>\n</g>\n<!-- logits -->\n<g id=\"node38\" class=\"node\"><title>logits</title>\n<g id=\"a_node38\"><a xlink:title=\"&lt;class &#39;__main__.Identity&#39;&gt; {}\">\n<path fill=\"#80b1d3\" stroke=\"black\" d=\"M3462,-93C3462,-93 3432,-93 3432,-93 3426,-93 3420,-87 3420,-81 3420,-81 3420,-69 3420,-69 3420,-63 3426,-57 3432,-57 3432,-57 3462,-57 3462,-57 3468,-57 3474,-63 3474,-69 3474,-69 3474,-81 3474,-81 3474,-87 3468,-93 3462,-93\"/>\n<text text-anchor=\"middle\" x=\"3447\" y=\"-71.3\" font-family=\"Times,serif\" font-size=\"14.00\">logits</text>\n</a>\n</g>\n</g>\n<!-- classifier_scale&#45;&gt;logits -->\n<g id=\"edge40\" class=\"edge\"><title>classifier_scale&#45;&gt;logits</title>\n<path fill=\"none\" stroke=\"black\" d=\"M3384.4,-75C3392.39,-75 3401.31,-75 3409.82,-75\"/>\n<polygon fill=\"black\" stroke=\"black\" points=\"3409.92,-78.5001 3419.92,-75 3409.92,-71.5001 3409.92,-78.5001\"/>\n</g>\n<!-- input -->\n<g id=\"node39\" class=\"node\"><title>input</title>\n<path fill=\"#ffffff\" stroke=\"black\" d=\"M42,-92C42,-92 12,-92 12,-92 6,-92 0,-86 0,-80 0,-80 0,-68 0,-68 0,-62 6,-56 12,-56 12,-56 42,-56 42,-56 48,-56 54,-62 54,-68 54,-68 54,-80 54,-80 54,-86 48,-92 42,-92\"/>\n<text text-anchor=\"middle\" x=\"27\" y=\"-70.3\" font-family=\"Times,serif\" font-size=\"14.00\">input</text>\n</g>\n<!-- input&#45;&gt;prep_conv -->\n<g id=\"edge1\" class=\"edge\"><title>input&#45;&gt;prep_conv</title>\n<path fill=\"none\" stroke=\"black\" d=\"M54.4029,-74C62.3932,-74 71.3106,-74 79.8241,-74\"/>\n<polygon fill=\"black\" stroke=\"black\" points=\"79.919,-77.5001 89.919,-74 79.919,-70.5001 79.919,-77.5001\"/>\n</g>\n</g>\n</svg>\n",
            "text/plain": [
              "<__main__.DotGraph at 0x7f4140a82128>"
            ]
          },
          "metadata": {
            "tags": []
          },
          "output_type": "display_data"
        }
      ],
      "source": [
        "frozen_bn_scale_net = network(conv_pool_block=conv_pool_block_pre, scale=1/16, types={\n",
        "    nn.ReLU: partial(nn.CELU, 0.3),\n",
        "    BatchNorm: partial(GhostBatchNorm, num_splits=16, weight=False)\n",
        "})\n",
        "show(frozen_bn_scale_net)"
      ]
    },
    {
      "cell_type": "code",
      "execution_count": null,
      "metadata": {
        "id": "oe5ByKdin8ZX"
      },
      "outputs": [],
      "source": [
        "epochs, batch_size = 18, 512\n",
        "transforms = (Crop(32, 32), FlipLR(), Cutout(8, 8))\n",
        "opt_params = {'lr': lr_schedule([0, epochs/5, epochs], [0.0, 0.6, 0.0], batch_size), 'weight_decay': Const(5e-4*batch_size), 'momentum': Const(0.9)}\n",
        "opt_params_bias = {'lr': lr_schedule([0, epochs/5, epochs], [0.0, 0.6*16, 0.0], batch_size), 'weight_decay': Const(5e-4*batch_size/16), 'momentum': Const(0.9)}\n",
        "\n",
        "logs = Table(report=every(epochs,'epoch'))\n",
        "for run in range(N_RUNS):\n",
        "    model = build_model(frozen_bn_scale_net, label_smoothing_loss(0.2))\n",
        "    is_bias = group_by_key(('bias' in k, v) for k, v in trainable_params(model).items())\n",
        "    state, timer = {MODEL: model, OPTS: [SGD(is_bias[False], opt_params), SGD(is_bias[True], opt_params_bias)]}, Timer(torch.cuda.synchronize)\n",
        "    for epoch in range(epochs):\n",
        "        logs.append(union({'run': run+1, 'epoch': epoch+1}, train_epoch(state, timer, train_batches(batch_size, transforms), valid_batches(batch_size))))\n",
        "summary(logs)"
      ]
    },
    {
      "cell_type": "markdown",
      "metadata": {
        "id": "F29j8KyvenL_"
      },
      "source": [
        "Test accuracy improves to 94.2%. Interestingly, had we not increased the learning rate of the batch norm biases, we would have achieved a substantially lower accuracy as the reader can verify. This suggests that the learnable biases are indeed doing something useful - either learning appropriate levels of sparsity or perhaps just adding regularisation noise. Indeed we can improve things slightly by increasing the learning rate of the biases even further:\n",
        "\n"
      ]
    },
    {
      "cell_type": "code",
      "execution_count": null,
      "metadata": {
        "id": "USqjaYDnpogJ"
      },
      "outputs": [],
      "source": [
        "epochs, batch_size = 18, 512\n",
        "transforms = (Crop(32, 32), FlipLR(), Cutout(8, 8))\n",
        "opt_params = {'lr': lr_schedule([0, epochs/5, epochs], [0.0, 0.6, 0.0], batch_size), 'weight_decay': Const(5e-4*batch_size), 'momentum': Const(0.9)}\n",
        "opt_params_bias = {'lr': lr_schedule([0, epochs/5, epochs], [0.0, 0.6*64, 0.0], batch_size), 'weight_decay': Const(5e-4*batch_size/64), 'momentum': Const(0.9)}\n",
        "\n",
        "logs = Table(report=every(epochs,'epoch'))\n",
        "for run in range(N_RUNS):\n",
        "    model = build_model(frozen_bn_scale_net, label_smoothing_loss(0.2))\n",
        "    is_bias = group_by_key(('bias' in k, v) for k, v in trainable_params(model).items())\n",
        "    state, timer = {MODEL: model, OPTS: [SGD(is_bias[False], opt_params), SGD(is_bias[True], opt_params_bias)]}, Timer(torch.cuda.synchronize)\n",
        "    for epoch in range(epochs):\n",
        "        logs.append(union({'run': run+1, 'epoch': epoch+1}, train_epoch(state, timer, train_batches(batch_size, transforms), valid_batches(batch_size))))\n",
        "summary(logs)"
      ]
    },
    {
      "cell_type": "markdown",
      "metadata": {
        "id": "WpwXfP3sRIgU"
      },
      "source": [
        "Finally we can use the increased accuracy to reduce training to 17 epochs. The new test accuracy is 94.1% and most importantly we've overtaken the 8 GPUs of BaiduNet9P with a time of 43s, placing us second on the leaderboard!"
      ]
    },
    {
      "cell_type": "markdown",
      "metadata": {
        "id": "MDGYbRmvQVts"
      },
      "source": [
        "### Input patch whitening (36s)"
      ]
    },
    {
      "cell_type": "markdown",
      "metadata": {
        "id": "gmfdPrAIVhUE"
      },
      "source": [
        "Batch norm does a good job at controlling distributions of individual channels but doesn't tackle covariance between channels and pixels. Controlling the covariance at internal layers, using a 'whitening' version of batch norm, might be helpful but would entail extra computation as well as non-trivial implementation effort. We are going to focus on the easier problem at the input layer.\n",
        "\n",
        "The classic way to remove input correlations is to perform global PCA (or ZCA) whitening. We propose a patch-based approach which is agnostic to the total image size and more in keeping with the structure of a conv net. We are going to apply PCA whitening to 3×3 patches of inputs as an initial 3×3 convolution with fixed (non-learnable) weights. We will follow this with a learnable 1×1 convolution. The 27 input channels to this layer are a transformed version of the original 3×3×3 input patches whose covariance matrix is approximately the identity, which should make optimisation easier.\n",
        "\n",
        "First let's plot the leading eigenvectors of the covariance matrix of 3×3 patches of the input data. The numbers in brackets are the square root of the corresponding eigenvalues to show the relative scales of variation along these directions and we plot the eigenvector with both signs to illustrate the direction of variation. As we might expect, variations in local brightness dominate.\n"
      ]
    },
    {
      "cell_type": "code",
      "execution_count": null,
      "metadata": {
        "colab": {
          "base_uri": "https://localhost:8080/",
          "height": 190
        },
        "id": "zY1hEAoONY0P",
        "outputId": "7f148b17-14fe-4a7a-a00a-bfd5052c44cc"
      },
      "outputs": [
        {
          "data": {
            "image/png": "[encoded data removed]",
            "text/plain": [
              "<Figure size 1944x144 with 54 Axes>"
            ]
          },
          "metadata": {
            "needs_background": "light",
            "tags": []
          },
          "output_type": "display_data"
        }
      ],
      "source": [
        "def cov(X):\n",
        "    X = X/np.sqrt(X.size(0) - 1)\n",
        "    return X.t() @ X\n",
        "\n",
        "def patches(data, patch_size=(3, 3), dtype=torch.float32):\n",
        "    h, w = patch_size\n",
        "    c = data.size(1)\n",
        "    return data.unfold(2,h,1).unfold(3,w,1).transpose(1,3).reshape(-1, c, h, w).to(dtype)\n",
        "\n",
        "def eigens(patches):\n",
        "    n,c,h,w = patches.shape\n",
        "    Σ = cov(patches.reshape(n, c*h*w))\n",
        "    Λ, V = torch.symeig(Σ, eigenvectors=True)\n",
        "    return Λ.flip(0), V.t().reshape(c*h*w, c, h, w).flip(0)\n",
        "\n",
        "Λ, V = eigens(patches(train_set['data'][:10000,:,4:-4,4:-4])) #center crop to remove padding\n",
        "\n",
        "layout([\n",
        "    [partial(image_plot, img=V[i].to(torch.float16)*3, title=f'{i+1} ({torch.sqrt(Λ[i]):.2f})') for i in range(len(V))],\n",
        "    [partial(image_plot, img=-V[i].to(torch.float16)*3, title='') for i in range(len(V))],\n",
        "], col_width=1.0, row_height=1.0\n",
        ");"
      ]
    },
    {
      "cell_type": "markdown",
      "metadata": {
        "id": "j6qlex4zYaGm"
      },
      "source": [
        "Now let's replace the first 3×3 convolution of the network with a fixed 3×3 whitening convolution to equalise the scales of the eigenpatches above, followed by a learnable 1×1 convolution. "
      ]
    },
    {
      "cell_type": "code",
      "execution_count": null,
      "metadata": {
        "colab": {
          "base_uri": "https://localhost:8080/",
          "height": 119
        },
        "id": "ckzKy37AY1gq",
        "outputId": "b63310fe-2ae7-4fce-883e-c99f2ac3204c"
      },
      "outputs": [
        {
          "data": {
            "image/svg+xml": "<?xml version=\"1.0\" encoding=\"UTF-8\" standalone=\"no\"?>\n<!DOCTYPE svg PUBLIC \"-//W3C//DTD SVG 1.1//EN\"\n \"http://www.w3.org/Graphics/SVG/1.1/DTD/svg11.dtd\">\n<!-- Generated by graphviz version 2.38.0 (20140413.2041)\n -->\n<!-- Title: G Pages: 1 -->\n<svg width=\"1080pt\" height=\"58pt\"\n viewBox=\"0.00 0.00 1080.00 57.75\" xmlns=\"http://www.w3.org/2000/svg\" xmlns:xlink=\"http://www.w3.org/1999/xlink\">\n<g id=\"graph0\" class=\"graph\" transform=\"scale(0.302352 0.302352) rotate(0) translate(4 187)\">\n<title>G</title>\n<polygon fill=\"white\" stroke=\"none\" points=\"-4,4 -4,-187 3568,-187 3568,4 -4,4\"/>\n<g id=\"clust1\" class=\"cluster\"><title>cluster_prep</title>\n<path fill=\"#777777\" fill-opacity=\"0.266667\" stroke=\"black\" d=\"M94,-48C94,-48 410,-48 410,-48 416,-48 422,-54 422,-60 422,-60 422,-111 422,-111 422,-117 416,-123 410,-123 410,-123 94,-123 94,-123 88,-123 82,-117 82,-111 82,-111 82,-60 82,-60 82,-54 88,-48 94,-48\"/>\n<text text-anchor=\"middle\" x=\"252\" y=\"-107.8\" font-family=\"Times,serif\" font-size=\"14.00\">prep</text>\n</g>\n<g id=\"clust2\" class=\"cluster\"><title>cluster_layer1</title>\n<path fill=\"#777777\" fill-opacity=\"0.266667\" stroke=\"black\" d=\"M454,-12C454,-12 1588,-12 1588,-12 1594,-12 1600,-18 1600,-24 1600,-24 1600,-163 1600,-163 1600,-169 1594,-175 1588,-175 1588,-175 454,-175 454,-175 448,-175 442,-169 442,-163 442,-163 442,-24 442,-24 442,-18 448,-12 454,-12\"/>\n<text text-anchor=\"middle\" x=\"1021\" y=\"-159.8\" font-family=\"Times,serif\" font-size=\"14.00\">layer1</text>\n</g>\n<g id=\"clust3\" class=\"cluster\"><title>cluster_layer1_residual</title>\n<path fill=\"#777777\" fill-opacity=\"0.266667\" stroke=\"black\" d=\"M814,-20C814,-20 1580,-20 1580,-20 1586,-20 1592,-26 1592,-32 1592,-32 1592,-132 1592,-132 1592,-138 1586,-144 1580,-144 1580,-144 814,-144 814,-144 808,-144 802,-138 802,-132 802,-132 802,-32 802,-32 802,-26 808,-20 814,-20\"/>\n<text text-anchor=\"middle\" x=\"1197\" y=\"-128.8\" font-family=\"Times,serif\" font-size=\"14.00\">residual</text>\n</g>\n<g id=\"clust4\" class=\"cluster\"><title>cluster_layer1_residual_res1</title>\n<path fill=\"#777777\" fill-opacity=\"0.266667\" stroke=\"black\" d=\"M904,-28C904,-28 1130,-28 1130,-28 1136,-28 1142,-34 1142,-40 1142,-40 1142,-91 1142,-91 1142,-97 1136,-103 1130,-103 1130,-103 904,-103 904,-103 898,-103 892,-97 892,-91 892,-91 892,-40 892,-40 892,-34 898,-28 904,-28\"/>\n<text text-anchor=\"middle\" x=\"1017\" y=\"-87.8\" font-family=\"Times,serif\" font-size=\"14.00\">res1</text>\n</g>\n<g id=\"clust5\" class=\"cluster\"><title>cluster_layer1_residual_res2</title>\n<path fill=\"#777777\" fill-opacity=\"0.266667\" stroke=\"black\" d=\"M1174,-28C1174,-28 1400,-28 1400,-28 1406,-28 1412,-34 1412,-40 1412,-40 1412,-91 1412,-91 1412,-97 1406,-103 1400,-103 1400,-103 1174,-103 1174,-103 1168,-103 1162,-97 1162,-91 1162,-91 1162,-40 1162,-40 1162,-34 1168,-28 1174,-28\"/>\n<text text-anchor=\"middle\" x=\"1287\" y=\"-87.8\" font-family=\"Times,serif\" font-size=\"14.00\">res2</text>\n</g>\n<g id=\"clust6\" class=\"cluster\"><title>cluster_layer2</title>\n<path fill=\"#777777\" fill-opacity=\"0.266667\" stroke=\"black\" d=\"M1624,-53C1624,-53 1940,-53 1940,-53 1946,-53 1952,-59 1952,-65 1952,-65 1952,-116 1952,-116 1952,-122 1946,-128 1940,-128 1940,-128 1624,-128 1624,-128 1618,-128 1612,-122 1612,-116 1612,-116 1612,-65 1612,-65 1612,-59 1618,-53 1624,-53\"/>\n<text text-anchor=\"middle\" x=\"1782\" y=\"-112.8\" font-family=\"Times,serif\" font-size=\"14.00\">layer2</text>\n</g>\n<g id=\"clust7\" class=\"cluster\"><title>cluster_layer3</title>\n<path fill=\"#777777\" fill-opacity=\"0.266667\" stroke=\"black\" d=\"M1984,-8C1984,-8 3118,-8 3118,-8 3124,-8 3130,-14 3130,-20 3130,-20 3130,-159 3130,-159 3130,-165 3124,-171 3118,-171 3118,-171 1984,-171 1984,-171 1978,-171 1972,-165 1972,-159 1972,-159 1972,-20 1972,-20 1972,-14 1978,-8 1984,-8\"/>\n<text text-anchor=\"middle\" x=\"2551\" y=\"-155.8\" font-family=\"Times,serif\" font-size=\"14.00\">layer3</text>\n</g>\n<g id=\"clust8\" class=\"cluster\"><title>cluster_layer3_residual</title>\n<path fill=\"#777777\" fill-opacity=\"0.266667\" stroke=\"black\" d=\"M2344,-16C2344,-16 3110,-16 3110,-16 3116,-16 3122,-22 3122,-28 3122,-28 3122,-128 3122,-128 3122,-134 3116,-140 3110,-140 3110,-140 2344,-140 2344,-140 2338,-140 2332,-134 2332,-128 2332,-128 2332,-28 2332,-28 2332,-22 2338,-16 2344,-16\"/>\n<text text-anchor=\"middle\" x=\"2727\" y=\"-124.8\" font-family=\"Times,serif\" font-size=\"14.00\">residual</text>\n</g>\n<g id=\"clust9\" class=\"cluster\"><title>cluster_layer3_residual_res1</title>\n<path fill=\"#777777\" fill-opacity=\"0.266667\" stroke=\"black\" d=\"M2434,-24C2434,-24 2660,-24 2660,-24 2666,-24 2672,-30 2672,-36 2672,-36 2672,-87 2672,-87 2672,-93 2666,-99 2660,-99 2660,-99 2434,-99 2434,-99 2428,-99 2422,-93 2422,-87 2422,-87 2422,-36 2422,-36 2422,-30 2428,-24 2434,-24\"/>\n<text text-anchor=\"middle\" x=\"2547\" y=\"-83.8\" font-family=\"Times,serif\" font-size=\"14.00\">res1</text>\n</g>\n<g id=\"clust10\" class=\"cluster\"><title>cluster_layer3_residual_res2</title>\n<path fill=\"#777777\" fill-opacity=\"0.266667\" stroke=\"black\" d=\"M2704,-24C2704,-24 2930,-24 2930,-24 2936,-24 2942,-30 2942,-36 2942,-36 2942,-87 2942,-87 2942,-93 2936,-99 2930,-99 2930,-99 2704,-99 2704,-99 2698,-99 2692,-93 2692,-87 2692,-87 2692,-36 2692,-36 2692,-30 2698,-24 2704,-24\"/>\n<text text-anchor=\"middle\" x=\"2817\" y=\"-83.8\" font-family=\"Times,serif\" font-size=\"14.00\">res2</text>\n</g>\n<g id=\"clust11\" class=\"cluster\"><title>cluster_classifier</title>\n<path fill=\"#777777\" fill-opacity=\"0.266667\" stroke=\"black\" d=\"M3244,-49C3244,-49 3470,-49 3470,-49 3476,-49 3482,-55 3482,-61 3482,-61 3482,-112 3482,-112 3482,-118 3476,-124 3470,-124 3470,-124 3244,-124 3244,-124 3238,-124 3232,-118 3232,-112 3232,-112 3232,-61 3232,-61 3232,-55 3238,-49 3244,-49\"/>\n<text text-anchor=\"middle\" x=\"3357\" y=\"-108.8\" font-family=\"Times,serif\" font-size=\"14.00\">classifier</text>\n</g>\n<!-- prep_whiten -->\n<g id=\"node1\" class=\"node\"><title>prep_whiten</title>\n<g id=\"a_node1\"><a xlink:title=\"&lt;function identity at 0x7f414a26c6a8&gt; {&#39;value&#39;: Conv2d(3, 27, kernel_size=(3, 3), stride=(1, 1), padding=(1, 1), bias=False)}\">\n<path fill=\"#dea05e\" stroke=\"black\" d=\"M132,-92C132,-92 102,-92 102,-92 96,-92 90,-86 90,-80 90,-80 90,-68 90,-68 90,-62 96,-56 102,-56 102,-56 132,-56 132,-56 138,-56 144,-62 144,-68 144,-68 144,-80 144,-80 144,-86 138,-92 132,-92\"/>\n<text text-anchor=\"middle\" x=\"117\" y=\"-70.3\" font-family=\"Times,serif\" font-size=\"14.00\">whiten</text>\n</a>\n</g>\n</g>\n<!-- prep_conv -->\n<g id=\"node2\" class=\"node\"><title>prep_conv</title>\n<g id=\"a_node2\"><a xlink:title=\"&lt;class &#39;torch.nn.modules.conv.Conv2d&#39;&gt; {&#39;in_channels&#39;: 27, &#39;out_channels&#39;: 64, &#39;kernel_size&#39;: (1, 1), &#39;bias&#39;: False}\">\n<path fill=\"#bebada\" stroke=\"black\" d=\"M222,-92C222,-92 192,-92 192,-92 186,-92 180,-86 180,-80 180,-80 180,-68 180,-68 180,-62 186,-56 192,-56 192,-56 222,-56 222,-56 228,-56 234,-62 234,-68 234,-68 234,-80 234,-80 234,-86 228,-92 222,-92\"/>\n<text text-anchor=\"middle\" x=\"207\" y=\"-70.3\" font-family=\"Times,serif\" font-size=\"14.00\">conv</text>\n</a>\n</g>\n</g>\n<!-- prep_whiten&#45;&gt;prep_conv -->\n<g id=\"edge2\" class=\"edge\"><title>prep_whiten&#45;&gt;prep_conv</title>\n<path fill=\"none\" stroke=\"black\" d=\"M144.403,-74C152.393,-74 161.311,-74 169.824,-74\"/>\n<polygon fill=\"black\" stroke=\"black\" points=\"169.919,-77.5001 179.919,-74 169.919,-70.5001 169.919,-77.5001\"/>\n</g>\n<!-- prep_norm -->\n<g id=\"node3\" class=\"node\"><title>prep_norm</title>\n<g id=\"a_node3\"><a xlink:title=\"functools.partial(&lt;class &#39;__main__.GhostBatchNorm&#39;&gt;, num_splits=16, weight=False) {&#39;num_features&#39;: 64}\">\n<path fill=\"#d0c281\" stroke=\"black\" d=\"M312,-92C312,-92 282,-92 282,-92 276,-92 270,-86 270,-80 270,-80 270,-68 270,-68 270,-62 276,-56 282,-56 282,-56 312,-56 312,-56 318,-56 324,-62 324,-68 324,-68 324,-80 324,-80 324,-86 318,-92 312,-92\"/>\n<text text-anchor=\"middle\" x=\"297\" y=\"-70.3\" font-family=\"Times,serif\" font-size=\"14.00\">norm</text>\n</a>\n</g>\n</g>\n<!-- prep_conv&#45;&gt;prep_norm -->\n<g id=\"edge3\" class=\"edge\"><title>prep_conv&#45;&gt;prep_norm</title>\n<path fill=\"none\" stroke=\"black\" d=\"M234.403,-74C242.393,-74 251.311,-74 259.824,-74\"/>\n<polygon fill=\"black\" stroke=\"black\" points=\"259.919,-77.5001 269.919,-74 259.919,-70.5001 259.919,-77.5001\"/>\n</g>\n<!-- prep_act -->\n<g id=\"node4\" class=\"node\"><title>prep_act</title>\n<g id=\"a_node4\"><a xlink:title=\"functools.partial(&lt;class &#39;torch.nn.modules.activation.CELU&#39;&gt;, 0.3) {}\">\n<path fill=\"#f0e189\" stroke=\"black\" d=\"M402,-92C402,-92 372,-92 372,-92 366,-92 360,-86 360,-80 360,-80 360,-68 360,-68 360,-62 366,-56 372,-56 372,-56 402,-56 402,-56 408,-56 414,-62 414,-68 414,-68 414,-80 414,-80 414,-86 408,-92 402,-92\"/>\n<text text-anchor=\"middle\" x=\"387\" y=\"-70.3\" font-family=\"Times,serif\" font-size=\"14.00\">act</text>\n</a>\n</g>\n</g>\n<!-- prep_norm&#45;&gt;prep_act -->\n<g id=\"edge4\" class=\"edge\"><title>prep_norm&#45;&gt;prep_act</title>\n<path fill=\"none\" stroke=\"black\" d=\"M324.403,-74C332.393,-74 341.311,-74 349.824,-74\"/>\n<polygon fill=\"black\" stroke=\"black\" points=\"349.919,-77.5001 359.919,-74 349.919,-70.5001 349.919,-77.5001\"/>\n</g>\n<!-- layer1_conv -->\n<g id=\"node5\" class=\"node\"><title>layer1_conv</title>\n<g id=\"a_node5\"><a xlink:title=\"&lt;class &#39;torch.nn.modules.conv.Conv2d&#39;&gt; {&#39;in_channels&#39;: 64, &#39;out_channels&#39;: 128, &#39;kernel_size&#39;: (3, 3), &#39;stride&#39;: (1, 1), &#39;padding&#39;: (1, 1), &#39;bias&#39;: False}\">\n<path fill=\"#bebada\" stroke=\"black\" d=\"M492,-92C492,-92 462,-92 462,-92 456,-92 450,-86 450,-80 450,-80 450,-68 450,-68 450,-62 456,-56 462,-56 462,-56 492,-56 492,-56 498,-56 504,-62 504,-68 504,-68 504,-80 504,-80 504,-86 498,-92 492,-92\"/>\n<text text-anchor=\"middle\" x=\"477\" y=\"-70.3\" font-family=\"Times,serif\" font-size=\"14.00\">conv</text>\n</a>\n</g>\n</g>\n<!-- prep_act&#45;&gt;layer1_conv -->\n<g id=\"edge5\" class=\"edge\"><title>prep_act&#45;&gt;layer1_conv</title>\n<path fill=\"none\" stroke=\"black\" d=\"M414.403,-74C422.393,-74 431.311,-74 439.824,-74\"/>\n<polygon fill=\"black\" stroke=\"black\" points=\"439.919,-77.5001 449.919,-74 439.919,-70.5001 439.919,-77.5001\"/>\n</g>\n<!-- layer1_pool -->\n<g id=\"node6\" class=\"node\"><title>layer1_pool</title>\n<g id=\"a_node6\"><a xlink:title=\"&lt;class &#39;torch.nn.modules.pooling.MaxPool2d&#39;&gt; {&#39;kernel_size&#39;: 2}\">\n<path fill=\"#8dd3c7\" stroke=\"black\" d=\"M582,-92C582,-92 552,-92 552,-92 546,-92 540,-86 540,-80 540,-80 540,-68 540,-68 540,-62 546,-56 552,-56 552,-56 582,-56 582,-56 588,-56 594,-62 594,-68 594,-68 594,-80 594,-80 594,-86 588,-92 582,-92\"/>\n<text text-anchor=\"middle\" x=\"567\" y=\"-70.3\" font-family=\"Times,serif\" font-size=\"14.00\">pool</text>\n</a>\n</g>\n</g>\n<!-- layer1_conv&#45;&gt;layer1_pool -->\n<g id=\"edge6\" class=\"edge\"><title>layer1_conv&#45;&gt;layer1_pool</title>\n<path fill=\"none\" stroke=\"black\" d=\"M504.403,-74C512.393,-74 521.311,-74 529.824,-74\"/>\n<polygon fill=\"black\" stroke=\"black\" points=\"529.919,-77.5001 539.919,-74 529.919,-70.5001 529.919,-77.5001\"/>\n</g>\n<!-- layer1_norm -->\n<g id=\"node7\" class=\"node\"><title>layer1_norm</title>\n<g id=\"a_node7\"><a xlink:title=\"functools.partial(&lt;class &#39;__main__.GhostBatchNorm&#39;&gt;, num_splits=16, weight=False) {&#39;num_features&#39;: 128}\">\n<path fill=\"#d0c281\" stroke=\"black\" d=\"M672,-92C672,-92 642,-92 642,-92 636,-92 630,-86 630,-80 630,-80 630,-68 630,-68 630,-62 636,-56 642,-56 642,-56 672,-56 672,-56 678,-56 684,-62 684,-68 684,-68 684,-80 684,-80 684,-86 678,-92 672,-92\"/>\n<text text-anchor=\"middle\" x=\"657\" y=\"-70.3\" font-family=\"Times,serif\" font-size=\"14.00\">norm</text>\n</a>\n</g>\n</g>\n<!-- layer1_pool&#45;&gt;layer1_norm -->\n<g id=\"edge7\" class=\"edge\"><title>layer1_pool&#45;&gt;layer1_norm</title>\n<path fill=\"none\" stroke=\"black\" d=\"M594.403,-74C602.393,-74 611.311,-74 619.824,-74\"/>\n<polygon fill=\"black\" stroke=\"black\" points=\"619.919,-77.5001 629.919,-74 619.919,-70.5001 619.919,-77.5001\"/>\n</g>\n<!-- layer1_act -->\n<g id=\"node8\" class=\"node\"><title>layer1_act</title>\n<g id=\"a_node8\"><a xlink:title=\"functools.partial(&lt;class &#39;torch.nn.modules.activation.CELU&#39;&gt;, 0.3) {}\">\n<path fill=\"#f0e189\" stroke=\"black\" d=\"M762,-92C762,-92 732,-92 732,-92 726,-92 720,-86 720,-80 720,-80 720,-68 720,-68 720,-62 726,-56 732,-56 732,-56 762,-56 762,-56 768,-56 774,-62 774,-68 774,-68 774,-80 774,-80 774,-86 768,-92 762,-92\"/>\n<text text-anchor=\"middle\" x=\"747\" y=\"-70.3\" font-family=\"Times,serif\" font-size=\"14.00\">act</text>\n</a>\n</g>\n</g>\n<!-- layer1_norm&#45;&gt;layer1_act -->\n<g id=\"edge8\" class=\"edge\"><title>layer1_norm&#45;&gt;layer1_act</title>\n<path fill=\"none\" stroke=\"black\" d=\"M684.403,-74C692.393,-74 701.311,-74 709.824,-74\"/>\n<polygon fill=\"black\" stroke=\"black\" points=\"709.919,-77.5001 719.919,-74 709.919,-70.5001 709.919,-77.5001\"/>\n</g>\n<!-- layer1_residual_in -->\n<g id=\"node9\" class=\"node\"><title>layer1_residual_in</title>\n<g id=\"a_node9\"><a xlink:title=\"&lt;class &#39;__main__.Identity&#39;&gt; {}\">\n<path fill=\"#80b1d3\" stroke=\"black\" d=\"M852,-92C852,-92 822,-92 822,-92 816,-92 810,-86 810,-80 810,-80 810,-68 810,-68 810,-62 816,-56 822,-56 822,-56 852,-56 852,-56 858,-56 864,-62 864,-68 864,-68 864,-80 864,-80 864,-86 858,-92 852,-92\"/>\n<text text-anchor=\"middle\" x=\"837\" y=\"-70.3\" font-family=\"Times,serif\" font-size=\"14.00\">in</text>\n</a>\n</g>\n</g>\n<!-- layer1_act&#45;&gt;layer1_residual_in -->\n<g id=\"edge9\" class=\"edge\"><title>layer1_act&#45;&gt;layer1_residual_in</title>\n<path fill=\"none\" stroke=\"black\" d=\"M774.403,-74C782.393,-74 791.311,-74 799.824,-74\"/>\n<polygon fill=\"black\" stroke=\"black\" points=\"799.919,-77.5001 809.919,-74 799.919,-70.5001 799.919,-77.5001\"/>\n</g>\n<!-- layer1_residual_res1_conv -->\n<g id=\"node10\" class=\"node\"><title>layer1_residual_res1_conv</title>\n<g id=\"a_node10\"><a xlink:title=\"&lt;class &#39;torch.nn.modules.conv.Conv2d&#39;&gt; {&#39;in_channels&#39;: 128, &#39;out_channels&#39;: 128, &#39;kernel_size&#39;: (3, 3), &#39;stride&#39;: (1, 1), &#39;padding&#39;: (1, 1), &#39;bias&#39;: False}\">\n<path fill=\"#bebada\" stroke=\"black\" d=\"M942,-72C942,-72 912,-72 912,-72 906,-72 900,-66 900,-60 900,-60 900,-48 900,-48 900,-42 906,-36 912,-36 912,-36 942,-36 942,-36 948,-36 954,-42 954,-48 954,-48 954,-60 954,-60 954,-66 948,-72 942,-72\"/>\n<text text-anchor=\"middle\" x=\"927\" y=\"-50.3\" font-family=\"Times,serif\" font-size=\"14.00\">conv</text>\n</a>\n</g>\n</g>\n<!-- layer1_residual_in&#45;&gt;layer1_residual_res1_conv -->\n<g id=\"edge10\" class=\"edge\"><title>layer1_residual_in&#45;&gt;layer1_residual_res1_conv</title>\n<path fill=\"none\" stroke=\"black\" d=\"M864.403,-67.9993C872.481,-66.1634 881.507,-64.1121 890.105,-62.158\"/>\n<polygon fill=\"black\" stroke=\"black\" points=\"890.943,-65.5568 899.919,-59.9275 889.392,-58.7308 890.943,-65.5568\"/>\n</g>\n<!-- layer1_residual_add -->\n<g id=\"node17\" class=\"node\"><title>layer1_residual_add</title>\n<g id=\"a_node17\"><a xlink:title=\"&lt;class &#39;__main__.Add&#39;&gt; {}\">\n<path fill=\"#fdb462\" stroke=\"black\" d=\"M1572,-97C1572,-97 1542,-97 1542,-97 1536,-97 1530,-91 1530,-85 1530,-85 1530,-73 1530,-73 1530,-67 1536,-61 1542,-61 1542,-61 1572,-61 1572,-61 1578,-61 1584,-67 1584,-73 1584,-73 1584,-85 1584,-85 1584,-91 1578,-97 1572,-97\"/>\n<text text-anchor=\"middle\" x=\"1557\" y=\"-75.3\" font-family=\"Times,serif\" font-size=\"14.00\">add</text>\n</a>\n</g>\n</g>\n<!-- layer1_residual_in&#45;&gt;layer1_residual_add -->\n<g id=\"edge17\" class=\"edge\"><title>layer1_residual_in&#45;&gt;layer1_residual_add</title>\n<path fill=\"none\" stroke=\"black\" d=\"M861.737,-92.1018C870.735,-97.9639 881.381,-103.78 892,-107 944.782,-123.006 960.844,-112 1016,-112 1016,-112 1016,-112 1378,-112 1427.77,-112 1484.08,-99.3711 1519.8,-89.7384\"/>\n<polygon fill=\"black\" stroke=\"black\" points=\"1521.04,-93.0265 1529.74,-86.9884 1519.17,-86.2796 1521.04,-93.0265\"/>\n</g>\n<!-- layer1_residual_res1_norm -->\n<g id=\"node11\" class=\"node\"><title>layer1_residual_res1_norm</title>\n<g id=\"a_node11\"><a xlink:title=\"functools.partial(&lt;class &#39;__main__.GhostBatchNorm&#39;&gt;, num_splits=16, weight=False) {&#39;num_features&#39;: 128}\">\n<path fill=\"#d0c281\" stroke=\"black\" d=\"M1032,-72C1032,-72 1002,-72 1002,-72 996,-72 990,-66 990,-60 990,-60 990,-48 990,-48 990,-42 996,-36 1002,-36 1002,-36 1032,-36 1032,-36 1038,-36 1044,-42 1044,-48 1044,-48 1044,-60 1044,-60 1044,-66 1038,-72 1032,-72\"/>\n<text text-anchor=\"middle\" x=\"1017\" y=\"-50.3\" font-family=\"Times,serif\" font-size=\"14.00\">norm</text>\n</a>\n</g>\n</g>\n<!-- layer1_residual_res1_conv&#45;&gt;layer1_residual_res1_norm -->\n<g id=\"edge11\" class=\"edge\"><title>layer1_residual_res1_conv&#45;&gt;layer1_residual_res1_norm</title>\n<path fill=\"none\" stroke=\"black\" d=\"M954.403,-54C962.393,-54 971.311,-54 979.824,-54\"/>\n<polygon fill=\"black\" stroke=\"black\" points=\"979.919,-57.5001 989.919,-54 979.919,-50.5001 979.919,-57.5001\"/>\n</g>\n<!-- layer1_residual_res1_act -->\n<g id=\"node12\" class=\"node\"><title>layer1_residual_res1_act</title>\n<g id=\"a_node12\"><a xlink:title=\"functools.partial(&lt;class &#39;torch.nn.modules.activation.CELU&#39;&gt;, 0.3) {}\">\n<path fill=\"#f0e189\" stroke=\"black\" d=\"M1122,-72C1122,-72 1092,-72 1092,-72 1086,-72 1080,-66 1080,-60 1080,-60 1080,-48 1080,-48 1080,-42 1086,-36 1092,-36 1092,-36 1122,-36 1122,-36 1128,-36 1134,-42 1134,-48 1134,-48 1134,-60 1134,-60 1134,-66 1128,-72 1122,-72\"/>\n<text text-anchor=\"middle\" x=\"1107\" y=\"-50.3\" font-family=\"Times,serif\" font-size=\"14.00\">act</text>\n</a>\n</g>\n</g>\n<!-- layer1_residual_res1_norm&#45;&gt;layer1_residual_res1_act -->\n<g id=\"edge12\" class=\"edge\"><title>layer1_residual_res1_norm&#45;&gt;layer1_residual_res1_act</title>\n<path fill=\"none\" stroke=\"black\" d=\"M1044.4,-54C1052.39,-54 1061.31,-54 1069.82,-54\"/>\n<polygon fill=\"black\" stroke=\"black\" points=\"1069.92,-57.5001 1079.92,-54 1069.92,-50.5001 1069.92,-57.5001\"/>\n</g>\n<!-- layer1_residual_res2_conv -->\n<g id=\"node13\" class=\"node\"><title>layer1_residual_res2_conv</title>\n<g id=\"a_node13\"><a xlink:title=\"&lt;class &#39;torch.nn.modules.conv.Conv2d&#39;&gt; {&#39;in_channels&#39;: 128, &#39;out_channels&#39;: 128, &#39;kernel_size&#39;: (3, 3), &#39;stride&#39;: (1, 1), &#39;padding&#39;: (1, 1), &#39;bias&#39;: False}\">\n<path fill=\"#bebada\" stroke=\"black\" d=\"M1212,-72C1212,-72 1182,-72 1182,-72 1176,-72 1170,-66 1170,-60 1170,-60 1170,-48 1170,-48 1170,-42 1176,-36 1182,-36 1182,-36 1212,-36 1212,-36 1218,-36 1224,-42 1224,-48 1224,-48 1224,-60 1224,-60 1224,-66 1218,-72 1212,-72\"/>\n<text text-anchor=\"middle\" x=\"1197\" y=\"-50.3\" font-family=\"Times,serif\" font-size=\"14.00\">conv</text>\n</a>\n</g>\n</g>\n<!-- layer1_residual_res1_act&#45;&gt;layer1_residual_res2_conv -->\n<g id=\"edge13\" class=\"edge\"><title>layer1_residual_res1_act&#45;&gt;layer1_residual_res2_conv</title>\n<path fill=\"none\" stroke=\"black\" d=\"M1134.4,-54C1142.39,-54 1151.31,-54 1159.82,-54\"/>\n<polygon fill=\"black\" stroke=\"black\" points=\"1159.92,-57.5001 1169.92,-54 1159.92,-50.5001 1159.92,-57.5001\"/>\n</g>\n<!-- layer1_residual_res2_norm -->\n<g id=\"node14\" class=\"node\"><title>layer1_residual_res2_norm</title>\n<g id=\"a_node14\"><a xlink:title=\"functools.partial(&lt;class &#39;__main__.GhostBatchNorm&#39;&gt;, num_splits=16, weight=False) {&#39;num_features&#39;: 128}\">\n<path fill=\"#d0c281\" stroke=\"black\" d=\"M1302,-72C1302,-72 1272,-72 1272,-72 1266,-72 1260,-66 1260,-60 1260,-60 1260,-48 1260,-48 1260,-42 1266,-36 1272,-36 1272,-36 1302,-36 1302,-36 1308,-36 1314,-42 1314,-48 1314,-48 1314,-60 1314,-60 1314,-66 1308,-72 1302,-72\"/>\n<text text-anchor=\"middle\" x=\"1287\" y=\"-50.3\" font-family=\"Times,serif\" font-size=\"14.00\">norm</text>\n</a>\n</g>\n</g>\n<!-- layer1_residual_res2_conv&#45;&gt;layer1_residual_res2_norm -->\n<g id=\"edge14\" class=\"edge\"><title>layer1_residual_res2_conv&#45;&gt;layer1_residual_res2_norm</title>\n<path fill=\"none\" stroke=\"black\" d=\"M1224.4,-54C1232.39,-54 1241.31,-54 1249.82,-54\"/>\n<polygon fill=\"black\" stroke=\"black\" points=\"1249.92,-57.5001 1259.92,-54 1249.92,-50.5001 1249.92,-57.5001\"/>\n</g>\n<!-- layer1_residual_res2_act -->\n<g id=\"node15\" class=\"node\"><title>layer1_residual_res2_act</title>\n<g id=\"a_node15\"><a xlink:title=\"functools.partial(&lt;class &#39;torch.nn.modules.activation.CELU&#39;&gt;, 0.3) {}\">\n<path fill=\"#f0e189\" stroke=\"black\" d=\"M1392,-72C1392,-72 1362,-72 1362,-72 1356,-72 1350,-66 1350,-60 1350,-60 1350,-48 1350,-48 1350,-42 1356,-36 1362,-36 1362,-36 1392,-36 1392,-36 1398,-36 1404,-42 1404,-48 1404,-48 1404,-60 1404,-60 1404,-66 1398,-72 1392,-72\"/>\n<text text-anchor=\"middle\" x=\"1377\" y=\"-50.3\" font-family=\"Times,serif\" font-size=\"14.00\">act</text>\n</a>\n</g>\n</g>\n<!-- layer1_residual_res2_norm&#45;&gt;layer1_residual_res2_act -->\n<g id=\"edge15\" class=\"edge\"><title>layer1_residual_res2_norm&#45;&gt;layer1_residual_res2_act</title>\n<path fill=\"none\" stroke=\"black\" d=\"M1314.4,-54C1322.39,-54 1331.31,-54 1339.82,-54\"/>\n<polygon fill=\"black\" stroke=\"black\" points=\"1339.92,-57.5001 1349.92,-54 1339.92,-50.5001 1339.92,-57.5001\"/>\n</g>\n<!-- layer1_residual_out -->\n<g id=\"node16\" class=\"node\"><title>layer1_residual_out</title>\n<g id=\"a_node16\"><a xlink:title=\"&lt;class &#39;__main__.Identity&#39;&gt; {}\">\n<path fill=\"#80b1d3\" stroke=\"black\" d=\"M1482,-82C1482,-82 1452,-82 1452,-82 1446,-82 1440,-76 1440,-70 1440,-70 1440,-58 1440,-58 1440,-52 1446,-46 1452,-46 1452,-46 1482,-46 1482,-46 1488,-46 1494,-52 1494,-58 1494,-58 1494,-70 1494,-70 1494,-76 1488,-82 1482,-82\"/>\n<text text-anchor=\"middle\" x=\"1467\" y=\"-60.3\" font-family=\"Times,serif\" font-size=\"14.00\">out</text>\n</a>\n</g>\n</g>\n<!-- layer1_residual_res2_act&#45;&gt;layer1_residual_out -->\n<g id=\"edge16\" class=\"edge\"><title>layer1_residual_res2_act&#45;&gt;layer1_residual_out</title>\n<path fill=\"none\" stroke=\"black\" d=\"M1404.4,-57.0003C1412.39,-57.9083 1421.31,-58.9217 1429.82,-59.8891\"/>\n<polygon fill=\"black\" stroke=\"black\" points=\"1429.59,-63.3847 1439.92,-61.0362 1430.38,-56.4294 1429.59,-63.3847\"/>\n</g>\n<!-- layer1_residual_out&#45;&gt;layer1_residual_add -->\n<g id=\"edge18\" class=\"edge\"><title>layer1_residual_out&#45;&gt;layer1_residual_add</title>\n<path fill=\"none\" stroke=\"black\" d=\"M1494.4,-68.5005C1502.39,-69.8625 1511.31,-71.3825 1519.82,-72.8336\"/>\n<polygon fill=\"black\" stroke=\"black\" points=\"1519.47,-76.3242 1529.92,-74.5544 1520.65,-69.4237 1519.47,-76.3242\"/>\n</g>\n<!-- layer2_conv -->\n<g id=\"node18\" class=\"node\"><title>layer2_conv</title>\n<g id=\"a_node18\"><a xlink:title=\"&lt;class &#39;torch.nn.modules.conv.Conv2d&#39;&gt; {&#39;in_channels&#39;: 128, &#39;out_channels&#39;: 256, &#39;kernel_size&#39;: (3, 3), &#39;stride&#39;: (1, 1), &#39;padding&#39;: (1, 1), &#39;bias&#39;: False}\">\n<path fill=\"#bebada\" stroke=\"black\" d=\"M1662,-97C1662,-97 1632,-97 1632,-97 1626,-97 1620,-91 1620,-85 1620,-85 1620,-73 1620,-73 1620,-67 1626,-61 1632,-61 1632,-61 1662,-61 1662,-61 1668,-61 1674,-67 1674,-73 1674,-73 1674,-85 1674,-85 1674,-91 1668,-97 1662,-97\"/>\n<text text-anchor=\"middle\" x=\"1647\" y=\"-75.3\" font-family=\"Times,serif\" font-size=\"14.00\">conv</text>\n</a>\n</g>\n</g>\n<!-- layer1_residual_add&#45;&gt;layer2_conv -->\n<g id=\"edge19\" class=\"edge\"><title>layer1_residual_add&#45;&gt;layer2_conv</title>\n<path fill=\"none\" stroke=\"black\" d=\"M1584.4,-79C1592.39,-79 1601.31,-79 1609.82,-79\"/>\n<polygon fill=\"black\" stroke=\"black\" points=\"1609.92,-82.5001 1619.92,-79 1609.92,-75.5001 1609.92,-82.5001\"/>\n</g>\n<!-- layer2_pool -->\n<g id=\"node19\" class=\"node\"><title>layer2_pool</title>\n<g id=\"a_node19\"><a xlink:title=\"&lt;class &#39;torch.nn.modules.pooling.MaxPool2d&#39;&gt; {&#39;kernel_size&#39;: 2}\">\n<path fill=\"#8dd3c7\" stroke=\"black\" d=\"M1752,-97C1752,-97 1722,-97 1722,-97 1716,-97 1710,-91 1710,-85 1710,-85 1710,-73 1710,-73 1710,-67 1716,-61 1722,-61 1722,-61 1752,-61 1752,-61 1758,-61 1764,-67 1764,-73 1764,-73 1764,-85 1764,-85 1764,-91 1758,-97 1752,-97\"/>\n<text text-anchor=\"middle\" x=\"1737\" y=\"-75.3\" font-family=\"Times,serif\" font-size=\"14.00\">pool</text>\n</a>\n</g>\n</g>\n<!-- layer2_conv&#45;&gt;layer2_pool -->\n<g id=\"edge20\" class=\"edge\"><title>layer2_conv&#45;&gt;layer2_pool</title>\n<path fill=\"none\" stroke=\"black\" d=\"M1674.4,-79C1682.39,-79 1691.31,-79 1699.82,-79\"/>\n<polygon fill=\"black\" stroke=\"black\" points=\"1699.92,-82.5001 1709.92,-79 1699.92,-75.5001 1699.92,-82.5001\"/>\n</g>\n<!-- layer2_norm -->\n<g id=\"node20\" class=\"node\"><title>layer2_norm</title>\n<g id=\"a_node20\"><a xlink:title=\"functools.partial(&lt;class &#39;__main__.GhostBatchNorm&#39;&gt;, num_splits=16, weight=False) {&#39;num_features&#39;: 256}\">\n<path fill=\"#d0c281\" stroke=\"black\" d=\"M1842,-97C1842,-97 1812,-97 1812,-97 1806,-97 1800,-91 1800,-85 1800,-85 1800,-73 1800,-73 1800,-67 1806,-61 1812,-61 1812,-61 1842,-61 1842,-61 1848,-61 1854,-67 1854,-73 1854,-73 1854,-85 1854,-85 1854,-91 1848,-97 1842,-97\"/>\n<text text-anchor=\"middle\" x=\"1827\" y=\"-75.3\" font-family=\"Times,serif\" font-size=\"14.00\">norm</text>\n</a>\n</g>\n</g>\n<!-- layer2_pool&#45;&gt;layer2_norm -->\n<g id=\"edge21\" class=\"edge\"><title>layer2_pool&#45;&gt;layer2_norm</title>\n<path fill=\"none\" stroke=\"black\" d=\"M1764.4,-79C1772.39,-79 1781.31,-79 1789.82,-79\"/>\n<polygon fill=\"black\" stroke=\"black\" points=\"1789.92,-82.5001 1799.92,-79 1789.92,-75.5001 1789.92,-82.5001\"/>\n</g>\n<!-- layer2_act -->\n<g id=\"node21\" class=\"node\"><title>layer2_act</title>\n<g id=\"a_node21\"><a xlink:title=\"functools.partial(&lt;class &#39;torch.nn.modules.activation.CELU&#39;&gt;, 0.3) {}\">\n<path fill=\"#f0e189\" stroke=\"black\" d=\"M1932,-97C1932,-97 1902,-97 1902,-97 1896,-97 1890,-91 1890,-85 1890,-85 1890,-73 1890,-73 1890,-67 1896,-61 1902,-61 1902,-61 1932,-61 1932,-61 1938,-61 1944,-67 1944,-73 1944,-73 1944,-85 1944,-85 1944,-91 1938,-97 1932,-97\"/>\n<text text-anchor=\"middle\" x=\"1917\" y=\"-75.3\" font-family=\"Times,serif\" font-size=\"14.00\">act</text>\n</a>\n</g>\n</g>\n<!-- layer2_norm&#45;&gt;layer2_act -->\n<g id=\"edge22\" class=\"edge\"><title>layer2_norm&#45;&gt;layer2_act</title>\n<path fill=\"none\" stroke=\"black\" d=\"M1854.4,-79C1862.39,-79 1871.31,-79 1879.82,-79\"/>\n<polygon fill=\"black\" stroke=\"black\" points=\"1879.92,-82.5001 1889.92,-79 1879.92,-75.5001 1879.92,-82.5001\"/>\n</g>\n<!-- layer3_conv -->\n<g id=\"node22\" class=\"node\"><title>layer3_conv</title>\n<g id=\"a_node22\"><a xlink:title=\"&lt;class &#39;torch.nn.modules.conv.Conv2d&#39;&gt; {&#39;in_channels&#39;: 256, &#39;out_channels&#39;: 512, &#39;kernel_size&#39;: (3, 3), &#39;stride&#39;: (1, 1), &#39;padding&#39;: (1, 1), &#39;bias&#39;: False}\">\n<path fill=\"#bebada\" stroke=\"black\" d=\"M2022,-97C2022,-97 1992,-97 1992,-97 1986,-97 1980,-91 1980,-85 1980,-85 1980,-73 1980,-73 1980,-67 1986,-61 1992,-61 1992,-61 2022,-61 2022,-61 2028,-61 2034,-67 2034,-73 2034,-73 2034,-85 2034,-85 2034,-91 2028,-97 2022,-97\"/>\n<text text-anchor=\"middle\" x=\"2007\" y=\"-75.3\" font-family=\"Times,serif\" font-size=\"14.00\">conv</text>\n</a>\n</g>\n</g>\n<!-- layer2_act&#45;&gt;layer3_conv -->\n<g id=\"edge23\" class=\"edge\"><title>layer2_act&#45;&gt;layer3_conv</title>\n<path fill=\"none\" stroke=\"black\" d=\"M1944.4,-79C1952.39,-79 1961.31,-79 1969.82,-79\"/>\n<polygon fill=\"black\" stroke=\"black\" points=\"1969.92,-82.5001 1979.92,-79 1969.92,-75.5001 1969.92,-82.5001\"/>\n</g>\n<!-- layer3_pool -->\n<g id=\"node23\" class=\"node\"><title>layer3_pool</title>\n<g id=\"a_node23\"><a xlink:title=\"&lt;class &#39;torch.nn.modules.pooling.MaxPool2d&#39;&gt; {&#39;kernel_size&#39;: 2}\">\n<path fill=\"#8dd3c7\" stroke=\"black\" d=\"M2112,-97C2112,-97 2082,-97 2082,-97 2076,-97 2070,-91 2070,-85 2070,-85 2070,-73 2070,-73 2070,-67 2076,-61 2082,-61 2082,-61 2112,-61 2112,-61 2118,-61 2124,-67 2124,-73 2124,-73 2124,-85 2124,-85 2124,-91 2118,-97 2112,-97\"/>\n<text text-anchor=\"middle\" x=\"2097\" y=\"-75.3\" font-family=\"Times,serif\" font-size=\"14.00\">pool</text>\n</a>\n</g>\n</g>\n<!-- layer3_conv&#45;&gt;layer3_pool -->\n<g id=\"edge24\" class=\"edge\"><title>layer3_conv&#45;&gt;layer3_pool</title>\n<path fill=\"none\" stroke=\"black\" d=\"M2034.4,-79C2042.39,-79 2051.31,-79 2059.82,-79\"/>\n<polygon fill=\"black\" stroke=\"black\" points=\"2059.92,-82.5001 2069.92,-79 2059.92,-75.5001 2059.92,-82.5001\"/>\n</g>\n<!-- layer3_norm -->\n<g id=\"node24\" class=\"node\"><title>layer3_norm</title>\n<g id=\"a_node24\"><a xlink:title=\"functools.partial(&lt;class &#39;__main__.GhostBatchNorm&#39;&gt;, num_splits=16, weight=False) {&#39;num_features&#39;: 512}\">\n<path fill=\"#d0c281\" stroke=\"black\" d=\"M2202,-97C2202,-97 2172,-97 2172,-97 2166,-97 2160,-91 2160,-85 2160,-85 2160,-73 2160,-73 2160,-67 2166,-61 2172,-61 2172,-61 2202,-61 2202,-61 2208,-61 2214,-67 2214,-73 2214,-73 2214,-85 2214,-85 2214,-91 2208,-97 2202,-97\"/>\n<text text-anchor=\"middle\" x=\"2187\" y=\"-75.3\" font-family=\"Times,serif\" font-size=\"14.00\">norm</text>\n</a>\n</g>\n</g>\n<!-- layer3_pool&#45;&gt;layer3_norm -->\n<g id=\"edge25\" class=\"edge\"><title>layer3_pool&#45;&gt;layer3_norm</title>\n<path fill=\"none\" stroke=\"black\" d=\"M2124.4,-79C2132.39,-79 2141.31,-79 2149.82,-79\"/>\n<polygon fill=\"black\" stroke=\"black\" points=\"2149.92,-82.5001 2159.92,-79 2149.92,-75.5001 2149.92,-82.5001\"/>\n</g>\n<!-- layer3_act -->\n<g id=\"node25\" class=\"node\"><title>layer3_act</title>\n<g id=\"a_node25\"><a xlink:title=\"functools.partial(&lt;class &#39;torch.nn.modules.activation.CELU&#39;&gt;, 0.3) {}\">\n<path fill=\"#f0e189\" stroke=\"black\" d=\"M2292,-97C2292,-97 2262,-97 2262,-97 2256,-97 2250,-91 2250,-85 2250,-85 2250,-73 2250,-73 2250,-67 2256,-61 2262,-61 2262,-61 2292,-61 2292,-61 2298,-61 2304,-67 2304,-73 2304,-73 2304,-85 2304,-85 2304,-91 2298,-97 2292,-97\"/>\n<text text-anchor=\"middle\" x=\"2277\" y=\"-75.3\" font-family=\"Times,serif\" font-size=\"14.00\">act</text>\n</a>\n</g>\n</g>\n<!-- layer3_norm&#45;&gt;layer3_act -->\n<g id=\"edge26\" class=\"edge\"><title>layer3_norm&#45;&gt;layer3_act</title>\n<path fill=\"none\" stroke=\"black\" d=\"M2214.4,-79C2222.39,-79 2231.31,-79 2239.82,-79\"/>\n<polygon fill=\"black\" stroke=\"black\" points=\"2239.92,-82.5001 2249.92,-79 2239.92,-75.5001 2239.92,-82.5001\"/>\n</g>\n<!-- layer3_residual_in -->\n<g id=\"node26\" class=\"node\"><title>layer3_residual_in</title>\n<g id=\"a_node26\"><a xlink:title=\"&lt;class &#39;__main__.Identity&#39;&gt; {}\">\n<path fill=\"#80b1d3\" stroke=\"black\" d=\"M2382,-97C2382,-97 2352,-97 2352,-97 2346,-97 2340,-91 2340,-85 2340,-85 2340,-73 2340,-73 2340,-67 2346,-61 2352,-61 2352,-61 2382,-61 2382,-61 2388,-61 2394,-67 2394,-73 2394,-73 2394,-85 2394,-85 2394,-91 2388,-97 2382,-97\"/>\n<text text-anchor=\"middle\" x=\"2367\" y=\"-75.3\" font-family=\"Times,serif\" font-size=\"14.00\">in</text>\n</a>\n</g>\n</g>\n<!-- layer3_act&#45;&gt;layer3_residual_in -->\n<g id=\"edge27\" class=\"edge\"><title>layer3_act&#45;&gt;layer3_residual_in</title>\n<path fill=\"none\" stroke=\"black\" d=\"M2304.4,-79C2312.39,-79 2321.31,-79 2329.82,-79\"/>\n<polygon fill=\"black\" stroke=\"black\" points=\"2329.92,-82.5001 2339.92,-79 2329.92,-75.5001 2329.92,-82.5001\"/>\n</g>\n<!-- layer3_residual_res1_conv -->\n<g id=\"node27\" class=\"node\"><title>layer3_residual_res1_conv</title>\n<g id=\"a_node27\"><a xlink:title=\"&lt;class &#39;torch.nn.modules.conv.Conv2d&#39;&gt; {&#39;in_channels&#39;: 512, &#39;out_channels&#39;: 512, &#39;kernel_size&#39;: (3, 3), &#39;stride&#39;: (1, 1), &#39;padding&#39;: (1, 1), &#39;bias&#39;: False}\">\n<path fill=\"#bebada\" stroke=\"black\" d=\"M2472,-68C2472,-68 2442,-68 2442,-68 2436,-68 2430,-62 2430,-56 2430,-56 2430,-44 2430,-44 2430,-38 2436,-32 2442,-32 2442,-32 2472,-32 2472,-32 2478,-32 2484,-38 2484,-44 2484,-44 2484,-56 2484,-56 2484,-62 2478,-68 2472,-68\"/>\n<text text-anchor=\"middle\" x=\"2457\" y=\"-46.3\" font-family=\"Times,serif\" font-size=\"14.00\">conv</text>\n</a>\n</g>\n</g>\n<!-- layer3_residual_in&#45;&gt;layer3_residual_res1_conv -->\n<g id=\"edge28\" class=\"edge\"><title>layer3_residual_in&#45;&gt;layer3_residual_res1_conv</title>\n<path fill=\"none\" stroke=\"black\" d=\"M2394.4,-70.299C2402.57,-67.608 2411.7,-64.5979 2420.38,-61.7368\"/>\n<polygon fill=\"black\" stroke=\"black\" points=\"2421.52,-65.049 2429.92,-58.5949 2419.33,-58.4007 2421.52,-65.049\"/>\n</g>\n<!-- layer3_residual_add -->\n<g id=\"node34\" class=\"node\"><title>layer3_residual_add</title>\n<g id=\"a_node34\"><a xlink:title=\"&lt;class &#39;__main__.Add&#39;&gt; {}\">\n<path fill=\"#fdb462\" stroke=\"black\" d=\"M3102,-93C3102,-93 3072,-93 3072,-93 3066,-93 3060,-87 3060,-81 3060,-81 3060,-69 3060,-69 3060,-63 3066,-57 3072,-57 3072,-57 3102,-57 3102,-57 3108,-57 3114,-63 3114,-69 3114,-69 3114,-81 3114,-81 3114,-87 3108,-93 3102,-93\"/>\n<text text-anchor=\"middle\" x=\"3087\" y=\"-71.3\" font-family=\"Times,serif\" font-size=\"14.00\">add</text>\n</a>\n</g>\n</g>\n<!-- layer3_residual_in&#45;&gt;layer3_residual_add -->\n<g id=\"edge35\" class=\"edge\"><title>layer3_residual_in&#45;&gt;layer3_residual_add</title>\n<path fill=\"none\" stroke=\"black\" d=\"M2394.22,-93.0359C2402.83,-96.9904 2412.61,-100.808 2422,-103 2475.71,-115.535 2490.84,-108 2546,-108 2546,-108 2546,-108 2908,-108 2957.77,-108 3014.08,-95.3711 3049.8,-85.7384\"/>\n<polygon fill=\"black\" stroke=\"black\" points=\"3051.04,-89.0265 3059.74,-82.9884 3049.17,-82.2796 3051.04,-89.0265\"/>\n</g>\n<!-- layer3_residual_res1_norm -->\n<g id=\"node28\" class=\"node\"><title>layer3_residual_res1_norm</title>\n<g id=\"a_node28\"><a xlink:title=\"functools.partial(&lt;class &#39;__main__.GhostBatchNorm&#39;&gt;, num_splits=16, weight=False) {&#39;num_features&#39;: 512}\">\n<path fill=\"#d0c281\" stroke=\"black\" d=\"M2562,-68C2562,-68 2532,-68 2532,-68 2526,-68 2520,-62 2520,-56 2520,-56 2520,-44 2520,-44 2520,-38 2526,-32 2532,-32 2532,-32 2562,-32 2562,-32 2568,-32 2574,-38 2574,-44 2574,-44 2574,-56 2574,-56 2574,-62 2568,-68 2562,-68\"/>\n<text text-anchor=\"middle\" x=\"2547\" y=\"-46.3\" font-family=\"Times,serif\" font-size=\"14.00\">norm</text>\n</a>\n</g>\n</g>\n<!-- layer3_residual_res1_conv&#45;&gt;layer3_residual_res1_norm -->\n<g id=\"edge29\" class=\"edge\"><title>layer3_residual_res1_conv&#45;&gt;layer3_residual_res1_norm</title>\n<path fill=\"none\" stroke=\"black\" d=\"M2484.4,-50C2492.39,-50 2501.31,-50 2509.82,-50\"/>\n<polygon fill=\"black\" stroke=\"black\" points=\"2509.92,-53.5001 2519.92,-50 2509.92,-46.5001 2509.92,-53.5001\"/>\n</g>\n<!-- layer3_residual_res1_act -->\n<g id=\"node29\" class=\"node\"><title>layer3_residual_res1_act</title>\n<g id=\"a_node29\"><a xlink:title=\"functools.partial(&lt;class &#39;torch.nn.modules.activation.CELU&#39;&gt;, 0.3) {}\">\n<path fill=\"#f0e189\" stroke=\"black\" d=\"M2652,-68C2652,-68 2622,-68 2622,-68 2616,-68 2610,-62 2610,-56 2610,-56 2610,-44 2610,-44 2610,-38 2616,-32 2622,-32 2622,-32 2652,-32 2652,-32 2658,-32 2664,-38 2664,-44 2664,-44 2664,-56 2664,-56 2664,-62 2658,-68 2652,-68\"/>\n<text text-anchor=\"middle\" x=\"2637\" y=\"-46.3\" font-family=\"Times,serif\" font-size=\"14.00\">act</text>\n</a>\n</g>\n</g>\n<!-- layer3_residual_res1_norm&#45;&gt;layer3_residual_res1_act -->\n<g id=\"edge30\" class=\"edge\"><title>layer3_residual_res1_norm&#45;&gt;layer3_residual_res1_act</title>\n<path fill=\"none\" stroke=\"black\" d=\"M2574.4,-50C2582.39,-50 2591.31,-50 2599.82,-50\"/>\n<polygon fill=\"black\" stroke=\"black\" points=\"2599.92,-53.5001 2609.92,-50 2599.92,-46.5001 2599.92,-53.5001\"/>\n</g>\n<!-- layer3_residual_res2_conv -->\n<g id=\"node30\" class=\"node\"><title>layer3_residual_res2_conv</title>\n<g id=\"a_node30\"><a xlink:title=\"&lt;class &#39;torch.nn.modules.conv.Conv2d&#39;&gt; {&#39;in_channels&#39;: 512, &#39;out_channels&#39;: 512, &#39;kernel_size&#39;: (3, 3), &#39;stride&#39;: (1, 1), &#39;padding&#39;: (1, 1), &#39;bias&#39;: False}\">\n<path fill=\"#bebada\" stroke=\"black\" d=\"M2742,-68C2742,-68 2712,-68 2712,-68 2706,-68 2700,-62 2700,-56 2700,-56 2700,-44 2700,-44 2700,-38 2706,-32 2712,-32 2712,-32 2742,-32 2742,-32 2748,-32 2754,-38 2754,-44 2754,-44 2754,-56 2754,-56 2754,-62 2748,-68 2742,-68\"/>\n<text text-anchor=\"middle\" x=\"2727\" y=\"-46.3\" font-family=\"Times,serif\" font-size=\"14.00\">conv</text>\n</a>\n</g>\n</g>\n<!-- layer3_residual_res1_act&#45;&gt;layer3_residual_res2_conv -->\n<g id=\"edge31\" class=\"edge\"><title>layer3_residual_res1_act&#45;&gt;layer3_residual_res2_conv</title>\n<path fill=\"none\" stroke=\"black\" d=\"M2664.4,-50C2672.39,-50 2681.31,-50 2689.82,-50\"/>\n<polygon fill=\"black\" stroke=\"black\" points=\"2689.92,-53.5001 2699.92,-50 2689.92,-46.5001 2689.92,-53.5001\"/>\n</g>\n<!-- layer3_residual_res2_norm -->\n<g id=\"node31\" class=\"node\"><title>layer3_residual_res2_norm</title>\n<g id=\"a_node31\"><a xlink:title=\"functools.partial(&lt;class &#39;__main__.GhostBatchNorm&#39;&gt;, num_splits=16, weight=False) {&#39;num_features&#39;: 512}\">\n<path fill=\"#d0c281\" stroke=\"black\" d=\"M2832,-68C2832,-68 2802,-68 2802,-68 2796,-68 2790,-62 2790,-56 2790,-56 2790,-44 2790,-44 2790,-38 2796,-32 2802,-32 2802,-32 2832,-32 2832,-32 2838,-32 2844,-38 2844,-44 2844,-44 2844,-56 2844,-56 2844,-62 2838,-68 2832,-68\"/>\n<text text-anchor=\"middle\" x=\"2817\" y=\"-46.3\" font-family=\"Times,serif\" font-size=\"14.00\">norm</text>\n</a>\n</g>\n</g>\n<!-- layer3_residual_res2_conv&#45;&gt;layer3_residual_res2_norm -->\n<g id=\"edge32\" class=\"edge\"><title>layer3_residual_res2_conv&#45;&gt;layer3_residual_res2_norm</title>\n<path fill=\"none\" stroke=\"black\" d=\"M2754.4,-50C2762.39,-50 2771.31,-50 2779.82,-50\"/>\n<polygon fill=\"black\" stroke=\"black\" points=\"2779.92,-53.5001 2789.92,-50 2779.92,-46.5001 2779.92,-53.5001\"/>\n</g>\n<!-- layer3_residual_res2_act -->\n<g id=\"node32\" class=\"node\"><title>layer3_residual_res2_act</title>\n<g id=\"a_node32\"><a xlink:title=\"functools.partial(&lt;class &#39;torch.nn.modules.activation.CELU&#39;&gt;, 0.3) {}\">\n<path fill=\"#f0e189\" stroke=\"black\" d=\"M2922,-68C2922,-68 2892,-68 2892,-68 2886,-68 2880,-62 2880,-56 2880,-56 2880,-44 2880,-44 2880,-38 2886,-32 2892,-32 2892,-32 2922,-32 2922,-32 2928,-32 2934,-38 2934,-44 2934,-44 2934,-56 2934,-56 2934,-62 2928,-68 2922,-68\"/>\n<text text-anchor=\"middle\" x=\"2907\" y=\"-46.3\" font-family=\"Times,serif\" font-size=\"14.00\">act</text>\n</a>\n</g>\n</g>\n<!-- layer3_residual_res2_norm&#45;&gt;layer3_residual_res2_act -->\n<g id=\"edge33\" class=\"edge\"><title>layer3_residual_res2_norm&#45;&gt;layer3_residual_res2_act</title>\n<path fill=\"none\" stroke=\"black\" d=\"M2844.4,-50C2852.39,-50 2861.31,-50 2869.82,-50\"/>\n<polygon fill=\"black\" stroke=\"black\" points=\"2869.92,-53.5001 2879.92,-50 2869.92,-46.5001 2869.92,-53.5001\"/>\n</g>\n<!-- layer3_residual_out -->\n<g id=\"node33\" class=\"node\"><title>layer3_residual_out</title>\n<g id=\"a_node33\"><a xlink:title=\"&lt;class &#39;__main__.Identity&#39;&gt; {}\">\n<path fill=\"#80b1d3\" stroke=\"black\" d=\"M3012,-78C3012,-78 2982,-78 2982,-78 2976,-78 2970,-72 2970,-66 2970,-66 2970,-54 2970,-54 2970,-48 2976,-42 2982,-42 2982,-42 3012,-42 3012,-42 3018,-42 3024,-48 3024,-54 3024,-54 3024,-66 3024,-66 3024,-72 3018,-78 3012,-78\"/>\n<text text-anchor=\"middle\" x=\"2997\" y=\"-56.3\" font-family=\"Times,serif\" font-size=\"14.00\">out</text>\n</a>\n</g>\n</g>\n<!-- layer3_residual_res2_act&#45;&gt;layer3_residual_out -->\n<g id=\"edge34\" class=\"edge\"><title>layer3_residual_res2_act&#45;&gt;layer3_residual_out</title>\n<path fill=\"none\" stroke=\"black\" d=\"M2934.4,-53.0003C2942.39,-53.9083 2951.31,-54.9217 2959.82,-55.8891\"/>\n<polygon fill=\"black\" stroke=\"black\" points=\"2959.59,-59.3847 2969.92,-57.0362 2960.38,-52.4294 2959.59,-59.3847\"/>\n</g>\n<!-- layer3_residual_out&#45;&gt;layer3_residual_add -->\n<g id=\"edge36\" class=\"edge\"><title>layer3_residual_out&#45;&gt;layer3_residual_add</title>\n<path fill=\"none\" stroke=\"black\" d=\"M3024.4,-64.5005C3032.39,-65.8625 3041.31,-67.3825 3049.82,-68.8336\"/>\n<polygon fill=\"black\" stroke=\"black\" points=\"3049.47,-72.3242 3059.92,-70.5544 3050.65,-65.4237 3049.47,-72.3242\"/>\n</g>\n<!-- pool -->\n<g id=\"node35\" class=\"node\"><title>pool</title>\n<g id=\"a_node35\"><a xlink:title=\"&lt;class &#39;torch.nn.modules.pooling.MaxPool2d&#39;&gt; {&#39;kernel_size&#39;: 4}\">\n<path fill=\"#8dd3c7\" stroke=\"black\" d=\"M3192,-93C3192,-93 3162,-93 3162,-93 3156,-93 3150,-87 3150,-81 3150,-81 3150,-69 3150,-69 3150,-63 3156,-57 3162,-57 3162,-57 3192,-57 3192,-57 3198,-57 3204,-63 3204,-69 3204,-69 3204,-81 3204,-81 3204,-87 3198,-93 3192,-93\"/>\n<text text-anchor=\"middle\" x=\"3177\" y=\"-71.3\" font-family=\"Times,serif\" font-size=\"14.00\">pool</text>\n</a>\n</g>\n</g>\n<!-- layer3_residual_add&#45;&gt;pool -->\n<g id=\"edge37\" class=\"edge\"><title>layer3_residual_add&#45;&gt;pool</title>\n<path fill=\"none\" stroke=\"black\" d=\"M3114.4,-75C3122.39,-75 3131.31,-75 3139.82,-75\"/>\n<polygon fill=\"black\" stroke=\"black\" points=\"3139.92,-78.5001 3149.92,-75 3139.92,-71.5001 3139.92,-78.5001\"/>\n</g>\n<!-- classifier_flatten -->\n<g id=\"node36\" class=\"node\"><title>classifier_flatten</title>\n<g id=\"a_node36\"><a xlink:title=\"&lt;class &#39;__main__.Flatten&#39;&gt; {}\">\n<path fill=\"#b3de69\" stroke=\"black\" d=\"M3282,-93C3282,-93 3252,-93 3252,-93 3246,-93 3240,-87 3240,-81 3240,-81 3240,-69 3240,-69 3240,-63 3246,-57 3252,-57 3252,-57 3282,-57 3282,-57 3288,-57 3294,-63 3294,-69 3294,-69 3294,-81 3294,-81 3294,-87 3288,-93 3282,-93\"/>\n<text text-anchor=\"middle\" x=\"3267\" y=\"-71.3\" font-family=\"Times,serif\" font-size=\"14.00\">flatten</text>\n</a>\n</g>\n</g>\n<!-- pool&#45;&gt;classifier_flatten -->\n<g id=\"edge38\" class=\"edge\"><title>pool&#45;&gt;classifier_flatten</title>\n<path fill=\"none\" stroke=\"black\" d=\"M3204.4,-75C3212.39,-75 3221.31,-75 3229.82,-75\"/>\n<polygon fill=\"black\" stroke=\"black\" points=\"3229.92,-78.5001 3239.92,-75 3229.92,-71.5001 3229.92,-78.5001\"/>\n</g>\n<!-- classifier_conv -->\n<g id=\"node37\" class=\"node\"><title>classifier_conv</title>\n<g id=\"a_node37\"><a xlink:title=\"&lt;class &#39;torch.nn.modules.linear.Linear&#39;&gt; {&#39;in_features&#39;: 512, &#39;out_features&#39;: 10, &#39;bias&#39;: False}\">\n<path fill=\"#fccde5\" stroke=\"black\" d=\"M3372,-93C3372,-93 3342,-93 3342,-93 3336,-93 3330,-87 3330,-81 3330,-81 3330,-69 3330,-69 3330,-63 3336,-57 3342,-57 3342,-57 3372,-57 3372,-57 3378,-57 3384,-63 3384,-69 3384,-69 3384,-81 3384,-81 3384,-87 3378,-93 3372,-93\"/>\n<text text-anchor=\"middle\" x=\"3357\" y=\"-71.3\" font-family=\"Times,serif\" font-size=\"14.00\">conv</text>\n</a>\n</g>\n</g>\n<!-- classifier_flatten&#45;&gt;classifier_conv -->\n<g id=\"edge39\" class=\"edge\"><title>classifier_flatten&#45;&gt;classifier_conv</title>\n<path fill=\"none\" stroke=\"black\" d=\"M3294.4,-75C3302.39,-75 3311.31,-75 3319.82,-75\"/>\n<polygon fill=\"black\" stroke=\"black\" points=\"3319.92,-78.5001 3329.92,-75 3319.92,-71.5001 3319.92,-78.5001\"/>\n</g>\n<!-- classifier_scale -->\n<g id=\"node38\" class=\"node\"><title>classifier_scale</title>\n<g id=\"a_node38\"><a xlink:title=\"&lt;class &#39;__main__.Mul&#39;&gt; {&#39;weight&#39;: 0.0625}\">\n<path fill=\"#bc80bd\" stroke=\"black\" d=\"M3462,-93C3462,-93 3432,-93 3432,-93 3426,-93 3420,-87 3420,-81 3420,-81 3420,-69 3420,-69 3420,-63 3426,-57 3432,-57 3432,-57 3462,-57 3462,-57 3468,-57 3474,-63 3474,-69 3474,-69 3474,-81 3474,-81 3474,-87 3468,-93 3462,-93\"/>\n<text text-anchor=\"middle\" x=\"3447\" y=\"-71.3\" font-family=\"Times,serif\" font-size=\"14.00\">scale</text>\n</a>\n</g>\n</g>\n<!-- classifier_conv&#45;&gt;classifier_scale -->\n<g id=\"edge40\" class=\"edge\"><title>classifier_conv&#45;&gt;classifier_scale</title>\n<path fill=\"none\" stroke=\"black\" d=\"M3384.4,-75C3392.39,-75 3401.31,-75 3409.82,-75\"/>\n<polygon fill=\"black\" stroke=\"black\" points=\"3409.92,-78.5001 3419.92,-75 3409.92,-71.5001 3409.92,-78.5001\"/>\n</g>\n<!-- logits -->\n<g id=\"node39\" class=\"node\"><title>logits</title>\n<g id=\"a_node39\"><a xlink:title=\"&lt;class &#39;__main__.Identity&#39;&gt; {}\">\n<path fill=\"#80b1d3\" stroke=\"black\" d=\"M3552,-93C3552,-93 3522,-93 3522,-93 3516,-93 3510,-87 3510,-81 3510,-81 3510,-69 3510,-69 3510,-63 3516,-57 3522,-57 3522,-57 3552,-57 3552,-57 3558,-57 3564,-63 3564,-69 3564,-69 3564,-81 3564,-81 3564,-87 3558,-93 3552,-93\"/>\n<text text-anchor=\"middle\" x=\"3537\" y=\"-71.3\" font-family=\"Times,serif\" font-size=\"14.00\">logits</text>\n</a>\n</g>\n</g>\n<!-- classifier_scale&#45;&gt;logits -->\n<g id=\"edge41\" class=\"edge\"><title>classifier_scale&#45;&gt;logits</title>\n<path fill=\"none\" stroke=\"black\" d=\"M3474.4,-75C3482.39,-75 3491.31,-75 3499.82,-75\"/>\n<polygon fill=\"black\" stroke=\"black\" points=\"3499.92,-78.5001 3509.92,-75 3499.92,-71.5001 3499.92,-78.5001\"/>\n</g>\n<!-- input -->\n<g id=\"node40\" class=\"node\"><title>input</title>\n<path fill=\"#ffffff\" stroke=\"black\" d=\"M42,-92C42,-92 12,-92 12,-92 6,-92 0,-86 0,-80 0,-80 0,-68 0,-68 0,-62 6,-56 12,-56 12,-56 42,-56 42,-56 48,-56 54,-62 54,-68 54,-68 54,-80 54,-80 54,-86 48,-92 42,-92\"/>\n<text text-anchor=\"middle\" x=\"27\" y=\"-70.3\" font-family=\"Times,serif\" font-size=\"14.00\">input</text>\n</g>\n<!-- input&#45;&gt;prep_whiten -->\n<g id=\"edge1\" class=\"edge\"><title>input&#45;&gt;prep_whiten</title>\n<path fill=\"none\" stroke=\"black\" d=\"M54.4029,-74C62.3932,-74 71.3106,-74 79.8241,-74\"/>\n<polygon fill=\"black\" stroke=\"black\" points=\"79.919,-77.5001 89.919,-74 79.919,-70.5001 79.919,-77.5001\"/>\n</g>\n</g>\n</svg>\n",
            "text/plain": [
              "<__main__.DotGraph at 0x7f4140167cf8>"
            ]
          },
          "metadata": {
            "tags": []
          },
          "output_type": "display_data"
        }
      ],
      "source": [
        "def whitening_block(c_in, c_out, Λ=None, V=None, eps=1e-2):\n",
        "    filt = nn.Conv2d(3, 27, kernel_size=(3,3), padding=(1,1), bias=False)\n",
        "    filt.weight.data = (V/torch.sqrt(Λ+eps)[:,None,None,None])\n",
        "    filt.weight.requires_grad = False \n",
        "                                   \n",
        "    return {\n",
        "        'whiten': (identity, {'value': filt}),\n",
        "        'conv': conv(27, c_out, kernel_size=(1, 1), bias=False),\n",
        "        'norm': batch_norm(c_out), \n",
        "        'act':  relu(),\n",
        "    }\n",
        "\n",
        "input_whitening_net = network(conv_pool_block=conv_pool_block_pre, prep_block=partial(whitening_block, Λ=Λ, V=V), scale=1/16, types={\n",
        "    nn.ReLU: partial(nn.CELU, 0.3),\n",
        "    BatchNorm: partial(GhostBatchNorm, num_splits=16, weight=False)\n",
        "})\n",
        "show(input_whitening_net)"
      ]
    },
    {
      "cell_type": "code",
      "execution_count": null,
      "metadata": {
        "id": "IqAvZkzucX9W"
      },
      "outputs": [],
      "source": [
        "epochs, batch_size = 17, 512\n",
        "transforms = (Crop(32, 32), FlipLR(), Cutout(8, 8))\n",
        "opt_params = {'lr': lr_schedule([0, epochs/5, epochs], [0.0, 0.6, 0.0], batch_size), 'weight_decay': Const(5e-4*batch_size), 'momentum': Const(0.9)}\n",
        "opt_params_bias = {'lr': lr_schedule([0, epochs/5, epochs], [0.0, 0.6*64, 0.0], batch_size), 'weight_decay': Const(5e-4*batch_size/64), 'momentum': Const(0.9)}\n",
        "\n",
        "logs = Table(report=every(epochs,'epoch'))\n",
        "for run in range(N_RUNS):\n",
        "    model = build_model(input_whitening_net, label_smoothing_loss(0.2))\n",
        "    is_bias = group_by_key(('bias' in k, v) for k, v in trainable_params(model).items())\n",
        "    state, timer = {MODEL: model, OPTS: [SGD(is_bias[False], opt_params), SGD(is_bias[True], opt_params_bias)]}, Timer(torch.cuda.synchronize)\n",
        "    for epoch in range(epochs):\n",
        "        logs.append(union({'run': run+1, 'epoch': epoch+1}, train_epoch(state, timer, train_batches(batch_size, transforms), valid_batches(batch_size))))\n",
        "summary(logs)"
      ]
    },
    {
      "cell_type": "markdown",
      "metadata": {
        "id": "IfjLj-HORxWe"
      },
      "source": [
        "17 epoch test accuracy jumps to 94.4% allowing a further 2 epoch reduction in training time. 15 epochs brings a test accuracy of 94.1% in 39s, closing in on the 4-GPU, test-time-augmentation assisted DAWNBench leader! If we increase the maximum learning rate by a further ~50% and reduce the amount of cutout augmentation, from 8×8 to 5×5 patches, to compensate for the extra regularisation that the higher learning rate brings, we can remove a further epoch and reach 94.1% test accuracy in 36s, moving us narrowly into top spot on the leaderboard!!"
      ]
    },
    {
      "cell_type": "code",
      "execution_count": null,
      "metadata": {
        "id": "_TouhGnnKIBn"
      },
      "outputs": [],
      "source": [
        "epochs, batch_size = 14, 512\n",
        "transforms = (Crop(32, 32), FlipLR(), Cutout(5, 5))\n",
        "opt_params = {'lr': lr_schedule([0, epochs/5, epochs], [0.0, 1.0, 0.0], batch_size), 'weight_decay': Const(5e-4*batch_size), 'momentum': Const(0.9)}\n",
        "opt_params_bias = {'lr': lr_schedule([0, epochs/5, epochs], [0.0, 1.0*64, 0.0], batch_size), 'weight_decay': Const(5e-4*batch_size/64), 'momentum': Const(0.9)}\n",
        "\n",
        "logs = Table(report=every(epochs,'epoch'))\n",
        "for run in range(N_RUNS):\n",
        "    model = build_model(input_whitening_net, label_smoothing_loss(0.2))\n",
        "    is_bias = group_by_key(('bias' in k, v) for k, v in trainable_params(model).items())\n",
        "    state, timer = {MODEL: model, OPTS: [SGD(is_bias[False], opt_params), SGD(is_bias[True], opt_params_bias)]}, Timer(torch.cuda.synchronize)\n",
        "    for epoch in range(epochs):\n",
        "        logs.append(union({'run': run+1, 'epoch': epoch+1}, train_epoch(state, timer, train_batches(batch_size, transforms), valid_batches(batch_size))))\n",
        "summary(logs)"
      ]
    },
    {
      "cell_type": "markdown",
      "metadata": {
        "id": "bz_9Q9MapvH7"
      },
      "source": [
        "### Exponential moving averages (33.5s)\n",
        "\n"
      ]
    },
    {
      "cell_type": "markdown",
      "metadata": {
        "id": "DD_F0A7fpzBb"
      },
      "source": [
        "High learning rates are necessary for rapid training since they allow stochastic gradient descent to traverse the necessary distances in parameter space in a limited amount of time. On the other hand, learning rates need to be annealed towards the end of training to enable optimisation along the steeper and noisier directions in parameter space. Parameter averaging methods allow training to continue at a higher rate whilst potentially approaching minima along noisy or oscillatory directions by averaging over multiple iterates. \n",
        "\n",
        "We shall investigate exponential moving averaging of parameters which is a standard approach. For efficiency reasons we update the moving average every 5 batches since we find that more frequent updates don't improve things. We need to choose a new learning rate schedule with higher learning rates towards the end of training, and a momentum for the moving average. For the learning rate, a simple choice is to stick with the piecewise linear schedule that we've been using throughout, floored at a low fixed value for the last 2 epochs and we choose a momentum of 0.99 so that averaging takes place over a timescale of roughly the last epoch.\n",
        "\n",
        "Test accuracy improves to 94.3% allowing us to trim a further epoch. 13 epoch training reaches a test accuracy of 94.1%, achieving a training time below 34s and a 10× improvement over the single-GPU state-of-the-art at the outset of the series!\n"
      ]
    },
    {
      "cell_type": "code",
      "execution_count": null,
      "metadata": {
        "id": "1Jef-6wWUcpH"
      },
      "outputs": [],
      "source": [
        "#Final training setup\n",
        "epochs, batch_size, ema_epochs=13, 512, 2\n",
        "transforms = (Crop(32, 32), FlipLR(), Cutout(5, 5))\n",
        "opt_params = {'lr': lr_schedule([0, epochs/5, epochs - ema_epochs], [0.0, 1.0, 0.1], batch_size), 'weight_decay': Const(5e-4*batch_size), 'momentum': Const(0.9)}\n",
        "opt_params_bias = {'lr': lr_schedule([0, epochs/5, epochs - ema_epochs], [0.0, 1.0*64, 0.1*64], batch_size), 'weight_decay': Const(5e-4*batch_size/64), 'momentum': Const(0.9)}\n",
        "\n",
        "logs = Table(report=every(epochs,'epoch'))\n",
        "for run in range(N_RUNS):\n",
        "    model = build_model(input_whitening_net, label_smoothing_loss(0.2))\n",
        "    is_bias = group_by_key(('bias' in k, v) for k, v in trainable_params(model).items())\n",
        "    state, timer = {MODEL: model, VALID_MODEL: copy.deepcopy(model), OPTS: [SGD(is_bias[False], opt_params), SGD(is_bias[True], opt_params_bias)]}, Timer(torch.cuda.synchronize)\n",
        "    for epoch in range(epochs):\n",
        "        logs.append(union({'run': run+1, 'epoch': epoch+1}, train_epoch(state, timer, train_batches(batch_size, transforms), valid_batches(batch_size), train_steps=(*train_steps, update_ema(momentum=0.99, update_freq=5)))))\n",
        "summary(logs)"
      ]
    },
    {
      "cell_type": "markdown",
      "metadata": {
        "id": "dv-Q0jUA-oHi"
      },
      "source": [
        "### Test-time augmentation (26s)"
      ]
    },
    {
      "cell_type": "markdown",
      "metadata": {
        "id": "O-2DG-xvVr2g"
      },
      "source": [
        "Suppose that you'd like your network to classify images the same way under horizontal flips of the input. One possibility, that we've been using till now, is to present the network with a large amount of data, possibly augmented by label preserving left-right flips, and hope that the network will eventually learn the invariance through extensive training. \n",
        "\n",
        "A second approach, which doesn't leave things to chance, is to present both the input image and its horizontally flipped version and come to a consensus by averaging network outputs for the two versions, thus guaranteeing invariance. This eminently sensible approach goes by the name of test-time augmentation.\n",
        "\n",
        "At training time, we still present the network with a single version of each image - potentially subject to random flipping as a data augmentation so that different versions are presented on different training epochs. An alternative, would be to use the same procedure at training time as at test time and present each image along with its mirror. In this case, we could claim to have changed the network by splitting into two identical branches, one of which sees the flipped image, and then merging at the end. Through this lens, the original training can be viewed as a stochastic training procedure for a weight-tied, two branch network in which a single branch is 'dropped-out' for each training example.\n",
        "\n",
        "This dropout-training viewpoint makes it clear that any attempt to introduce a rule disallowing TTA from a benchmark is going to be fraught with difficulties. From this point of view, we have just introduced a larger network for which we have an efficient stochastic training methodology. On the other hand, if we don't limit the amount of work that we are prepared to do at test time then there are some obvious degenerate solutions in which training takes as little time as is required to store the dataset!\n",
        "\n",
        "These arguments are not only relevant to artificial benchmarks but also to end use-cases. In some applications, classification accuracy is all that is desired and in that case TTA should most definitely be used. In other cases, inference time is also a constraint and a sensible approach is to maximise accuracy subject to such constraints. This is probably a good approach for training benchmarks too. \n",
        "\n",
        "In the case at hand, the Kakao Brain team has applied the simple form of TTA described here - presenting an image and its left-right mirror at inference time, thus doubling the computational load. More extensive forms of TTA are of course possible for other symmetries (such as translational symmetry, variations in brightness/colour etc.) but these would come at a higher computational cost. \n",
        "\n",
        "Now because these entries are based of a computationally light 9-layer ResNet _total inference time including TTA_ is likely to be much lower for these entries than for some of the 100+ layer networks that have been entered at earlier stages of the competition! According to our discussion above, any reasonable rule to limit this kind of approach should be based on inference time constraints and not an arbitrary feature of the implementation and so from this point-of-view, we should accept the approach.\n",
        "\n",
        "\n",
        "\n",
        "\n"
      ]
    },
    {
      "cell_type": "markdown",
      "metadata": {
        "id": "6GcFJZJeg__W"
      },
      "source": [
        "Let's see what improvement TTA brings. We shall restrict ourselves to horizontal flip TTA for consistency with the current DAWNBench submissions and because this seems a sweet spot between accuracy and inference cost. With our current network and 13 epoch training setup, the test accuracy with TTA rises to 94.6%, making this the largest individual effect we've studied today. \n",
        "\n"
      ]
    },
    {
      "cell_type": "code",
      "execution_count": null,
      "metadata": {
        "id": "xjS1RJ11oLef"
      },
      "outputs": [],
      "source": [
        "valid_steps_tta = (forward_tta([identity, flip_lr]), log_activations(('loss', 'acc')))"
      ]
    },
    {
      "cell_type": "code",
      "execution_count": null,
      "metadata": {
        "id": "J3r9fcUEnlk_"
      },
      "outputs": [],
      "source": [
        "epochs, batch_size, ema_epochs=13, 512, 2\n",
        "transforms = (Crop(32, 32), FlipLR(), Cutout(5, 5))\n",
        "opt_params = {'lr': lr_schedule([0, epochs/5, epochs - ema_epochs], [0.0, 1.0, 0.1], batch_size), 'weight_decay': Const(5e-4*batch_size), 'momentum': Const(0.9)}\n",
        "opt_params_bias = {'lr': lr_schedule([0, epochs/5, epochs - ema_epochs], [0.0, 1.0*64, 0.1*64], batch_size), 'weight_decay': Const(5e-4*batch_size/64), 'momentum': Const(0.9)}\n",
        "\n",
        "logs = Table(report=every(epochs,'epoch'))\n",
        "for run in range(N_RUNS):\n",
        "    model = build_model(input_whitening_net, label_smoothing_loss(0.2))\n",
        "    is_bias = group_by_key(('bias' in k, v) for k, v in trainable_params(model).items())\n",
        "    state, timer = {MODEL: model, VALID_MODEL: copy.deepcopy(model), OPTS: [SGD(is_bias[False], opt_params), SGD(is_bias[True], opt_params_bias)]}, Timer(torch.cuda.synchronize)\n",
        "    for epoch in range(epochs):\n",
        "        logs.append(union({'run': run+1, 'epoch': epoch+1}, train_epoch(state, timer, train_batches(batch_size, transforms), valid_batches(batch_size), \n",
        "                                                                        train_steps=(*train_steps, update_ema(momentum=0.99, update_freq=5)),\n",
        "                                                                        valid_steps=valid_steps_tta)))\n",
        "summary(logs)"
      ]
    },
    {
      "cell_type": "markdown",
      "metadata": {
        "id": "vH4hq224nqQh"
      },
      "source": [
        "If we remove the remaining cutout data augmentation - which is getting in the way on such a short training schedule - we can reduce training to 10 epochs (!) and achieve a TTA test accuracy of 94.1% in 26s!"
      ]
    },
    {
      "cell_type": "code",
      "execution_count": null,
      "metadata": {
        "id": "Oewy20lcoBVK"
      },
      "outputs": [],
      "source": [
        "epochs, batch_size, ema_epochs=10, 512, 2\n",
        "transforms = (Crop(32, 32), FlipLR())\n",
        "opt_params = {'lr': lr_schedule([0, epochs/5, epochs - ema_epochs], [0.0, 1.0, 0.1], batch_size), 'weight_decay': Const(5e-4*batch_size), 'momentum': Const(0.9)}\n",
        "opt_params_bias = {'lr': lr_schedule([0, epochs/5, epochs - ema_epochs], [0.0, 1.0*64, 0.1*64], batch_size), 'weight_decay': Const(5e-4*batch_size/64), 'momentum': Const(0.9)}\n",
        "\n",
        "logs = Table(report=every(epochs,'epoch'))\n",
        "for run in range(N_RUNS):\n",
        "    model = build_model(input_whitening_net, label_smoothing_loss(0.2))\n",
        "    is_bias = group_by_key(('bias' in k, v) for k, v in trainable_params(model).items())\n",
        "    state, timer = {MODEL: model, VALID_MODEL: copy.deepcopy(model), OPTS: [SGD(is_bias[False], opt_params), SGD(is_bias[True], opt_params_bias)]}, Timer(torch.cuda.synchronize)\n",
        "    for epoch in range(epochs):\n",
        "        logs.append(union({'run': run+1, 'epoch': epoch+1}, train_epoch(state, timer, train_batches(batch_size, transforms), valid_batches(batch_size), \n",
        "                                                                        train_steps=(*train_steps, update_ema(momentum=0.99, update_freq=5)),\n",
        "                                                                        valid_steps=valid_steps_tta)))\n",
        "summary(logs)"
      ]
    },
    {
      "cell_type": "markdown",
      "metadata": {
        "id": "dD7-fE8Xoq_r"
      },
      "source": [
        "### Training to convergence"
      ]
    },
    {
      "cell_type": "markdown",
      "metadata": {
        "id": "yO8eWpWOdFS-"
      },
      "source": [
        "Here is a simple experiment to investigate whether the gains in training speed that we have collected also translate into gains in final accuracy for the model if it is trained to convergence. We have every reason to believe that this should be the case, if only because many of the techniques that we have been using today were originally proposed as techniques to improve converged accuracy on ImageNet! If it is the case that the same techniques which speed up training time to 94% accuracy on CIFAR10 also improve converged accuracy on ImageNet, then this suggests a rather effective way to accelerate research on the latter problem!"
      ]
    },
    {
      "cell_type": "markdown",
      "metadata": {
        "id": "K9G4gjGueEAZ"
      },
      "source": [
        "Unlike the previous experiments, this is going to be very rough and ready and we leave it to future work to do this experiment more carefully. We are going to pick a fixed learning rate schedule with lower learning rates appropriate for longer training and increase the amount of cutout augmentation to 12×12 patches to allow training for longer without overfitting. We will fix the other hyperparameters as they were above and train both the baseline network and the final network for a range of different times from 24 to 100 epochs. Finally we're going to break all the rules and only run each experiment 5 times! Here are the results: "
      ]
    },
    {
      "cell_type": "markdown",
      "metadata": {
        "id": "5HShJN2xh22e"
      },
      "source": [
        "#### Convergence experiment"
      ]
    },
    {
      "cell_type": "code",
      "execution_count": null,
      "metadata": {
        "id": "V2LQrVTMgTSq"
      },
      "outputs": [],
      "source": [
        "valid_steps_tta = (forward_tta([identity, flip_lr]), log_activations(('loss', 'acc')))\n",
        "\n",
        "def train_epoch_tta(state, timer, train_batches, valid_batches, train_steps=train_steps, \n",
        "                    valid_steps=valid_steps, valid_steps_tta=valid_steps_tta, on_epoch_end=identity):\n",
        "    train_summary, train_time = epoch_stats(on_epoch_end(reduce(train_batches, state, train_steps))), timer()\n",
        "    valid_summary, valid_time = epoch_stats(reduce(valid_batches, state, valid_steps)), timer(update_total=False) #DAWNBench rules\n",
        "    valid_summary_tta, valid_time_tta = epoch_stats(reduce(valid_batches, state, valid_steps_tta)), timer(update_total=False) #DAWNBench rules\n",
        "    return {\n",
        "        'train': union({'time': train_time}, train_summary), \n",
        "        'valid': union({'time': valid_time}, valid_summary), \n",
        "        'tta': union({'time': valid_time}, valid_summary_tta), \n",
        "        'total time': timer.total_time\n",
        "    }\n",
        "\n",
        "#baseline model\n",
        "transforms = (Crop(32, 32), FlipLR(), Cutout(12, 12))\n",
        "logs = Table()\n",
        "for run in range(5):\n",
        "    for epochs in [24, 40, 60, 80, 100]:\n",
        "        opt_params = {'lr': lr_schedule([0, 5, epochs], [0.0, 0.4, 0.0], batch_size), 'weight_decay': Const(5e-4*batch_size), 'momentum': Const(0.9)}\n",
        "\n",
        "        model = build_model(network(), x_ent_loss)\n",
        "        state, timer = {MODEL: model, OPTS: [SGD(trainable_params(model).values(), opt_params)]}, Timer(torch.cuda.synchronize)\n",
        "        for epoch in range(epochs-1):\n",
        "            train_epoch(state, timer, train_batches(batch_size, transforms),  valid_batches(batch_size)) \n",
        "        logs.append(union({'run': run+1, 'epoch': epochs, 'experiment': baseline}, \n",
        "                          train_epoch_tta(state, timer, train_batches(batch_size, transforms),  valid_batches(batch_size), \n",
        "                                          valid_steps_tta=valid_steps_tta)))   \n",
        "#final model\n",
        "ema_epochs=2\n",
        "for run in range(5):\n",
        "    for epochs in [24, 40, 60, 80, 100]:\n",
        "        opt_params = {'lr': lr_schedule([0, epochs/5, epochs - ema_epochs], [0.0, 0.4, 0.04], batch_size), 'weight_decay': Const(5e-4*batch_size), 'momentum': Const(0.9)}\n",
        "        opt_params_bias = {'lr': lr_schedule([0, epochs/5, epochs - ema_epochs], [0.0, 0.4*64, 0.04\n",
        "                                                                          *64], batch_size), 'weight_decay': Const(5e-4*batch_size/64), 'momentum': Const(0.9)}\n",
        "\n",
        "        model = build_model(input_whitening_net, label_smoothing_loss(0.2))\n",
        "        is_bias = group_by_key(('bias' in k, v) for k, v in trainable_params(model).items())\n",
        "        state, timer = {MODEL: model, VALID_MODEL: copy.deepcopy(model), OPTS: [SGD(is_bias[False], opt_params), SGD(is_bias[True], opt_params_bias)]}, Timer(torch.cuda.synchronize)\n",
        "        for epoch in range(epochs-1):\n",
        "            train_epoch(state, timer, train_batches(batch_size, transforms), valid_batches(batch_size), \n",
        "                                                                            train_steps=(*train_steps, update_ema(momentum=0.99, update_freq=5)))\n",
        "        logs.append(union({'run': run+1, 'epoch': epochs, 'experiment': final}, \n",
        "                          train_epoch_tta(state, timer, train_batches(batch_size, transforms), valid_batches(batch_size), \n",
        "                                          train_steps=(*train_steps, update_ema(momentum=0.99, update_freq=5)))))  \n",
        "        \n",
        "data = logs.df()"
      ]
    },
    {
      "cell_type": "markdown",
      "metadata": {
        "id": "GI_eqtvSh6Ng"
      },
      "source": [
        "#### Results"
      ]
    },
    {
      "cell_type": "code",
      "execution_count": null,
      "metadata": {
        "colab": {
          "base_uri": "https://localhost:8080/",
          "height": 371
        },
        "id": "t-5yQ-E3g-xt",
        "outputId": "ce602892-b006-466a-e743-d6ce2314a463"
      },
      "outputs": [
        {
          "data": {
            "text/html": [
              "<!DOCTYPE html>\n",
              "<html>\n",
              "<head>\n",
              "  <style>\n",
              "    .vega-actions a {\n",
              "        margin-right: 12px;\n",
              "        color: #757575;\n",
              "        font-weight: normal;\n",
              "        font-size: 13px;\n",
              "    }\n",
              "    .error {\n",
              "        color: red;\n",
              "    }\n",
              "  </style>\n",
              "  <script type=\"text/javascript\" src=\"https://cdn.jsdelivr.net/npm//vega@5\"></script>\n",
              "  <script type=\"text/javascript\" src=\"https://cdn.jsdelivr.net/npm//vega-lite@3.4.0\"></script>\n",
              "  <script type=\"text/javascript\" src=\"https://cdn.jsdelivr.net/npm//vega-embed@4\"></script>\n",
              "</head>\n",
              "<body>\n",
              "  <div id=\"altair-viz\"></div>\n",
              "  <script>\n",
              "    (function(vegaEmbed) {\n",
              "      var spec = {\"config\": {\"view\": {\"width\": 400, \"height\": 300}, \"mark\": {\"tooltip\": null}}, \"hconcat\": [{\"layer\": [{\"mark\": \"point\", \"encoding\": {\"color\": {\"type\": \"nominal\", \"field\": \"experiment\"}, \"x\": {\"type\": \"quantitative\", \"field\": \"epoch\", \"scale\": {\"zero\": false}}, \"y\": {\"type\": \"quantitative\", \"axis\": {\"title\": \"valid acc\"}, \"field\": \"valid_acc\", \"scale\": {\"zero\": false}}}}, {\"mark\": \"line\", \"encoding\": {\"color\": {\"type\": \"nominal\", \"field\": \"experiment\"}, \"x\": {\"type\": \"quantitative\", \"field\": \"epoch\", \"scale\": {\"zero\": false}}, \"y\": {\"type\": \"quantitative\", \"aggregate\": \"mean\", \"field\": \"valid_acc\", \"scale\": {\"zero\": false}}}}]}, {\"layer\": [{\"mark\": \"point\", \"encoding\": {\"color\": {\"type\": \"nominal\", \"field\": \"experiment\"}, \"x\": {\"type\": \"quantitative\", \"field\": \"epoch\", \"scale\": {\"zero\": false}}, \"y\": {\"type\": \"quantitative\", \"axis\": {\"title\": \"valid acc (tta)\"}, \"field\": \"tta_acc\", \"scale\": {\"zero\": false}}}}, {\"mark\": \"line\", \"encoding\": {\"color\": {\"type\": \"nominal\", \"field\": \"experiment\"}, \"x\": {\"type\": \"quantitative\", \"field\": \"epoch\", \"scale\": {\"zero\": false}}, \"y\": {\"type\": \"quantitative\", \"aggregate\": \"mean\", \"field\": \"tta_acc\", \"scale\": {\"zero\": false}}}}]}], \"data\": {\"name\": \"data-14c72c6d62a735a120867cb9d5a4c575\"}, \"$schema\": \"https://vega.github.io/schema/vega-lite/v3.4.0.json\", \"datasets\": {\"data-14c72c6d62a735a120867cb9d5a4c575\": [{\"epoch\": 40, \"run\": 1, \"total time\": 115.77539189700474, \"train_acc\": 0.9724750322164949, \"train_loss\": 0.08945317443498631, \"train_time\": 2.8944502609992924, \"tta_acc\": 0.9522, \"tta_loss\": 0.14731700954437255, \"tta_time\": 0.191972672000702, \"valid_acc\": 0.9454, \"valid_loss\": 0.1637589175224304, \"valid_time\": 0.191972672000702, \"experiment\": \"baseline\"}, {\"epoch\": 60, \"run\": 1, \"total time\": 173.7991279079979, \"train_acc\": 0.9833279639175257, \"train_loss\": 0.05970388147787949, \"train_time\": 2.892037823999999, \"tta_acc\": 0.9561, \"tta_loss\": 0.13223285465240478, \"tta_time\": 0.191634595998039, \"valid_acc\": 0.9526, \"valid_loss\": 0.14667956314086913, \"valid_time\": 0.191634595998039, \"experiment\": \"baseline\"}, {\"epoch\": 80, \"run\": 1, \"total time\": 231.56872692101751, \"train_acc\": 0.9870127255154639, \"train_loss\": 0.04798114148074204, \"train_time\": 2.8922985280005378, \"tta_acc\": 0.9575, \"tta_loss\": 0.13690186977386476, \"tta_time\": 0.1917704199986474, \"valid_acc\": 0.9522, \"valid_loss\": 0.1517398440361023, \"valid_time\": 0.1917704199986474, \"experiment\": \"baseline\"}, {\"epoch\": 100, \"run\": 1, \"total time\": 289.0958471929989, \"train_acc\": 0.9906974871134021, \"train_loss\": 0.03765406883945785, \"train_time\": 2.886209833999601, \"tta_acc\": 0.957, \"tta_loss\": 0.13574402532577515, \"tta_time\": 0.1920333970010688, \"valid_acc\": 0.9535, \"valid_loss\": 0.14849681997299194, \"valid_time\": 0.1920333970010688, \"experiment\": \"baseline\"}, {\"epoch\": 40, \"run\": 2, \"total time\": 115.93349109901101, \"train_acc\": 0.973401256443299, \"train_loss\": 0.08912419904138624, \"train_time\": 2.893640766000317, \"tta_acc\": 0.9515, \"tta_loss\": 0.1469169704437256, \"tta_time\": 0.19260841499635717, \"valid_acc\": 0.9459, \"valid_loss\": 0.161656810092926, \"valid_time\": 0.19260841499635717, \"experiment\": \"baseline\"}, {\"epoch\": 60, \"run\": 2, \"total time\": 173.81213349894824, \"train_acc\": 0.9840125644329897, \"train_loss\": 0.05957732916108726, \"train_time\": 2.892742789001204, \"tta_acc\": 0.9551, \"tta_loss\": 0.13827357215881347, \"tta_time\": 0.19220788899838226, \"valid_acc\": 0.9498, \"valid_loss\": 0.15355262699127198, \"valid_time\": 0.19220788899838226, \"experiment\": \"baseline\"}, {\"epoch\": 80, \"run\": 2, \"total time\": 231.54911988700042, \"train_acc\": 0.98828125, \"train_loss\": 0.04477034353641505, \"train_time\": 2.891720998995879, \"tta_acc\": 0.9562, \"tta_loss\": 0.1326014790534973, \"tta_time\": 0.19183066400000826, \"valid_acc\": 0.9508, \"valid_loss\": 0.15004254236221312, \"valid_time\": 0.19183066400000826, \"experiment\": \"baseline\"}, {\"epoch\": 100, \"run\": 2, \"total time\": 289.1528977750204, \"train_acc\": 0.990576675257732, \"train_loss\": 0.03862031384073582, \"train_time\": 2.885488786996575, \"tta_acc\": 0.9563, \"tta_loss\": 0.1359883903503418, \"tta_time\": 0.1906894510029815, \"valid_acc\": 0.9539, \"valid_loss\": 0.1490915186882019, \"valid_time\": 0.1906894510029815, \"experiment\": \"baseline\"}, {\"epoch\": 40, \"run\": 3, \"total time\": 115.94290988198918, \"train_acc\": 0.9740455863402062, \"train_loss\": 0.08699826053199694, \"train_time\": 2.8944724870016216, \"tta_acc\": 0.9513, \"tta_loss\": 0.14736389656066895, \"tta_time\": 0.19228573099826463, \"valid_acc\": 0.9476, \"valid_loss\": 0.16150463714599608, \"valid_time\": 0.19228573099826463, \"experiment\": \"baseline\"}, {\"epoch\": 60, \"run\": 3, \"total time\": 173.79642055099248, \"train_acc\": 0.9826634987113402, \"train_loss\": 0.060447668176643626, \"train_time\": 2.8918151920006494, \"tta_acc\": 0.9554, \"tta_loss\": 0.13378720598220825, \"tta_time\": 0.19201715199596947, \"valid_acc\": 0.9523, \"valid_loss\": 0.14677832469940186, \"valid_time\": 0.19201715199596947, \"experiment\": \"baseline\"}, {\"epoch\": 80, \"run\": 3, \"total time\": 231.33222012402257, \"train_acc\": 0.9876167847938144, \"train_loss\": 0.04650055932015488, \"train_time\": 2.8850283520005178, \"tta_acc\": 0.9571, \"tta_loss\": 0.1345288269996643, \"tta_time\": 0.19103913399885641, \"valid_acc\": 0.9514, \"valid_loss\": 0.15048525075912475, \"valid_time\": 0.19103913399885641, \"experiment\": \"baseline\"}, {\"epoch\": 100, \"run\": 3, \"total time\": 289.1790519290007, \"train_acc\": 0.9903753221649485, \"train_loss\": 0.03815095111266854, \"train_time\": 2.886819564999314, \"tta_acc\": 0.9571, \"tta_loss\": 0.13442925338745118, \"tta_time\": 0.19067772800190141, \"valid_acc\": 0.9519, \"valid_loss\": 0.15329569854736327, \"valid_time\": 0.19067772800190141, \"experiment\": \"baseline\"}, {\"epoch\": 40, \"run\": 4, \"total time\": 115.98809706900647, \"train_acc\": 0.974206668814433, \"train_loss\": 0.08665592160037498, \"train_time\": 2.898000020002655, \"tta_acc\": 0.9534, \"tta_loss\": 0.14771631813049316, \"tta_time\": 0.1922089979998418, \"valid_acc\": 0.949, \"valid_loss\": 0.16354228534698487, \"valid_time\": 0.1922089979998418, \"experiment\": \"baseline\"}, {\"epoch\": 60, \"run\": 4, \"total time\": 173.8017946649852, \"train_acc\": 0.9843145940721649, \"train_loss\": 0.05849805401311707, \"train_time\": 2.8925928979952005, \"tta_acc\": 0.9566, \"tta_loss\": 0.1356637414932251, \"tta_time\": 0.19205911600147374, \"valid_acc\": 0.9513, \"valid_loss\": 0.1493300030708313, \"valid_time\": 0.19205911600147374, \"experiment\": \"baseline\"}, {\"epoch\": 80, \"run\": 4, \"total time\": 231.53127032201883, \"train_acc\": 0.9885430090206185, \"train_loss\": 0.04646093713254044, \"train_time\": 2.8897476560014184, \"tta_acc\": 0.9569, \"tta_loss\": 0.1331675503730774, \"tta_time\": 0.19233000699750846, \"valid_acc\": 0.9516, \"valid_loss\": 0.15248397092819213, \"valid_time\": 0.19233000699750846, \"experiment\": \"baseline\"}, {\"epoch\": 100, \"run\": 4, \"total time\": 289.1731662430029, \"train_acc\": 0.9904558634020618, \"train_loss\": 0.039665708952036104, \"train_time\": 2.887360422006168, \"tta_acc\": 0.9576, \"tta_loss\": 0.13489235219955445, \"tta_time\": 0.19174574600037886, \"valid_acc\": 0.9536, \"valid_loss\": 0.1465499900817871, \"valid_time\": 0.19174574600037886, \"experiment\": \"baseline\"}, {\"epoch\": 40, \"run\": 5, \"total time\": 115.90960084103426, \"train_acc\": 0.9747905927835051, \"train_loss\": 0.08495002355157714, \"train_time\": 2.8942276980014867, \"tta_acc\": 0.9505, \"tta_loss\": 0.14900790967941285, \"tta_time\": 0.19179014800465666, \"valid_acc\": 0.9475, \"valid_loss\": 0.1620381199836731, \"valid_time\": 0.19179014800465666, \"experiment\": \"baseline\"}, {\"epoch\": 60, \"run\": 5, \"total time\": 173.73591956799646, \"train_acc\": 0.9835293170103093, \"train_loss\": 0.0589248721593434, \"train_time\": 2.8926016470068134, \"tta_acc\": 0.9554, \"tta_loss\": 0.1400909294128418, \"tta_time\": 0.19176351399801206, \"valid_acc\": 0.9514, \"valid_loss\": 0.1536110694885254, \"valid_time\": 0.19176351399801206, \"experiment\": \"baseline\"}, {\"epoch\": 80, \"run\": 5, \"total time\": 231.572428033076, \"train_acc\": 0.9887040914948454, \"train_loss\": 0.045570830766534065, \"train_time\": 2.891090276003524, \"tta_acc\": 0.9574, \"tta_loss\": 0.1329388027191162, \"tta_time\": 0.19153811800060794, \"valid_acc\": 0.9542, \"valid_loss\": 0.14818038806915282, \"valid_time\": 0.19153811800060794, \"experiment\": \"baseline\"}, {\"epoch\": 100, \"run\": 5, \"total time\": 289.2042186130275, \"train_acc\": 0.9903753221649485, \"train_loss\": 0.03801192454609674, \"train_time\": 2.8860927780042402, \"tta_acc\": 0.9573, \"tta_loss\": 0.1373170760154724, \"tta_time\": 0.19177757999568712, \"valid_acc\": 0.9522, \"valid_loss\": 0.15495181436538696, \"valid_time\": 0.19177757999568712, \"experiment\": \"baseline\"}, {\"epoch\": 24, \"run\": 1, \"total time\": 69.47972413498792, \"train_acc\": 0.9537290592783505, \"train_loss\": 0.14411357749906398, \"train_time\": 2.897183038003277, \"tta_acc\": 0.9469, \"tta_loss\": 0.1606788829803467, \"tta_time\": 0.1921295049978653, \"valid_acc\": 0.9401, \"valid_loss\": 0.17633453397750853, \"valid_time\": 0.1921295049978653, \"experiment\": \"baseline\"}, {\"epoch\": 24, \"run\": 2, \"total time\": 69.62557950800692, \"train_acc\": 0.953870006443299, \"train_loss\": 0.14425174651917108, \"train_time\": 2.8987395690055564, \"tta_acc\": 0.9435, \"tta_loss\": 0.16524562730789186, \"tta_time\": 0.19240747199364705, \"valid_acc\": 0.9397, \"valid_loss\": 0.18035643215179442, \"valid_time\": 0.19240747199364705, \"experiment\": \"baseline\"}, {\"epoch\": 24, \"run\": 3, \"total time\": 69.65048073300568, \"train_acc\": 0.9536887886597938, \"train_loss\": 0.14596862908567965, \"train_time\": 2.90208780499961, \"tta_acc\": 0.9424, \"tta_loss\": 0.16533652591705322, \"tta_time\": 0.1919627120005316, \"valid_acc\": 0.9384, \"valid_loss\": 0.1796941129684448, \"valid_time\": 0.1919627120005316, \"experiment\": \"baseline\"}, {\"epoch\": 24, \"run\": 4, \"total time\": 69.65110485800687, \"train_acc\": 0.9530645940721649, \"train_loss\": 0.1461100154124277, \"train_time\": 2.9011953369990806, \"tta_acc\": 0.9432, \"tta_loss\": 0.17059293451309204, \"tta_time\": 0.19200909399660304, \"valid_acc\": 0.9396, \"valid_loss\": 0.18514128446578978, \"valid_time\": 0.19200909399660304, \"experiment\": \"baseline\"}, {\"epoch\": 24, \"run\": 5, \"total time\": 69.64399432497885, \"train_acc\": 0.9548163659793815, \"train_loss\": 0.1410928838646289, \"train_time\": 2.900024989998201, \"tta_acc\": 0.9445, \"tta_loss\": 0.16654890432357788, \"tta_time\": 0.19193982199794846, \"valid_acc\": 0.9384, \"valid_loss\": 0.1841355944633484, \"valid_time\": 0.19193982199794846, \"experiment\": \"baseline\"}, {\"epoch\": 40, \"run\": 1, \"total time\": 102.84597889299039, \"train_acc\": 0.9693741945876289, \"train_loss\": 0.9459850665220281, \"train_time\": 2.5670782279994455, \"tta_acc\": 0.9579, \"tta_loss\": 0.9583810546875, \"tta_time\": 0.181817176999175, \"valid_acc\": 0.9538, \"valid_loss\": 0.96737177734375, \"valid_time\": 0.181817176999175, \"experiment\": \"final\"}, {\"epoch\": 60, \"run\": 1, \"total time\": 154.31354360000114, \"train_acc\": 0.9786767074742269, \"train_loss\": 0.928253222986595, \"train_time\": 2.57236493799428, \"tta_acc\": 0.9587, \"tta_loss\": 0.951898486328125, \"tta_time\": 0.1827594560018042, \"valid_acc\": 0.9546, \"valid_loss\": 0.96043193359375, \"valid_time\": 0.1827594560018042, \"experiment\": \"final\"}, {\"epoch\": 80, \"run\": 1, \"total time\": 205.7615784409645, \"train_acc\": 0.9815157860824743, \"train_loss\": 0.9220649384960686, \"train_time\": 2.569626550997782, \"tta_acc\": 0.9609, \"tta_loss\": 0.949437255859375, \"tta_time\": 0.18310099600057583, \"valid_acc\": 0.9568, \"valid_loss\": 0.95888212890625, \"valid_time\": 0.18310099600057583, \"experiment\": \"final\"}, {\"epoch\": 100, \"run\": 1, \"total time\": 257.2018751499709, \"train_acc\": 0.9832675579896907, \"train_loss\": 0.9179677373355197, \"train_time\": 2.5681756339981803, \"tta_acc\": 0.9601, \"tta_loss\": 0.947637109375, \"tta_time\": 0.18255041600059485, \"valid_acc\": 0.9575, \"valid_loss\": 0.956150048828125, \"valid_time\": 0.18255041600059485, \"experiment\": \"final\"}, {\"epoch\": 40, \"run\": 2, \"total time\": 102.95762568798818, \"train_acc\": 0.9720521907216495, \"train_loss\": 0.9434325228032377, \"train_time\": 2.577212516000145, \"tta_acc\": 0.958, \"tta_loss\": 0.957646435546875, \"tta_time\": 0.18276126800628845, \"valid_acc\": 0.954, \"valid_loss\": 0.965418359375, \"valid_time\": 0.18276126800628845, \"experiment\": \"final\"}, {\"epoch\": 60, \"run\": 2, \"total time\": 154.3870944369919, \"train_acc\": 0.9785357603092784, \"train_loss\": 0.9288256733687883, \"train_time\": 2.5691759129986167, \"tta_acc\": 0.9574, \"tta_loss\": 0.953997314453125, \"tta_time\": 0.18221270800131606, \"valid_acc\": 0.9556, \"valid_loss\": 0.962770068359375, \"valid_time\": 0.18221270800131606, \"experiment\": \"final\"}, {\"epoch\": 80, \"run\": 2, \"total time\": 205.821977417967, \"train_acc\": 0.9823413337628866, \"train_loss\": 0.9203307948161646, \"train_time\": 2.5703018869971856, \"tta_acc\": 0.9611, \"tta_loss\": 0.950356884765625, \"tta_time\": 0.18253108699718723, \"valid_acc\": 0.9566, \"valid_loss\": 0.958939599609375, \"valid_time\": 0.18253108699718723, \"experiment\": \"final\"}, {\"epoch\": 100, \"run\": 2, \"total time\": 257.2657502310103, \"train_acc\": 0.9837910760309279, \"train_loss\": 0.9158867904820394, \"train_time\": 2.568709031002072, \"tta_acc\": 0.9623, \"tta_loss\": 0.945064013671875, \"tta_time\": 0.182770311999775, \"valid_acc\": 0.9593, \"valid_loss\": 0.955058447265625, \"valid_time\": 0.182770311999775, \"experiment\": \"final\"}, {\"epoch\": 40, \"run\": 3, \"total time\": 102.91727831303433, \"train_acc\": 0.9696560889175257, \"train_loss\": 0.9443699256661012, \"train_time\": 2.5694828940031584, \"tta_acc\": 0.9568, \"tta_loss\": 0.958073681640625, \"tta_time\": 0.18202030599786667, \"valid_acc\": 0.9535, \"valid_loss\": 0.966338623046875, \"valid_time\": 0.18202030599786667, \"experiment\": \"final\"}, {\"epoch\": 60, \"run\": 3, \"total time\": 154.38148195800022, \"train_acc\": 0.9781934600515464, \"train_loss\": 0.9290023587413669, \"train_time\": 2.572302505999687, \"tta_acc\": 0.9601, \"tta_loss\": 0.952961572265625, \"tta_time\": 0.18237990399939008, \"valid_acc\": 0.9547, \"valid_loss\": 0.962862646484375, \"valid_time\": 0.18237990399939008, \"experiment\": \"final\"}, {\"epoch\": 80, \"run\": 3, \"total time\": 205.85524166001414, \"train_acc\": 0.9814352448453608, \"train_loss\": 0.9220564045856908, \"train_time\": 2.5693484250004985, \"tta_acc\": 0.96, \"tta_loss\": 0.9477572265625, \"tta_time\": 0.18291645099816378, \"valid_acc\": 0.9566, \"valid_loss\": 0.956994482421875, \"valid_time\": 0.18291645099816378, \"experiment\": \"final\"}, {\"epoch\": 100, \"run\": 3, \"total time\": 257.400613299993, \"train_acc\": 0.9848179768041238, \"train_loss\": 0.9156462285936493, \"train_time\": 2.571818030999566, \"tta_acc\": 0.9618, \"tta_loss\": 0.947703662109375, \"tta_time\": 0.18251981300272746, \"valid_acc\": 0.9584, \"valid_loss\": 0.95703037109375, \"valid_time\": 0.18251981300272746, \"experiment\": \"final\"}, {\"epoch\": 40, \"run\": 4, \"total time\": 102.93862039600208, \"train_acc\": 0.9711259664948454, \"train_loss\": 0.9436643639790643, \"train_time\": 2.5738141760011786, \"tta_acc\": 0.9581, \"tta_loss\": 0.957923681640625, \"tta_time\": 0.18292383100197185, \"valid_acc\": 0.9539, \"valid_loss\": 0.96743447265625, \"valid_time\": 0.18292383100197185, \"experiment\": \"final\"}, {\"epoch\": 60, \"run\": 4, \"total time\": 154.41663919502753, \"train_acc\": 0.9784954896907216, \"train_loss\": 0.9284879841755346, \"train_time\": 2.5739044319998357, \"tta_acc\": 0.9602, \"tta_loss\": 0.95122548828125, \"tta_time\": 0.18250545299815712, \"valid_acc\": 0.9561, \"valid_loss\": 0.96009091796875, \"valid_time\": 0.18250545299815712, \"experiment\": \"final\"}, {\"epoch\": 80, \"run\": 4, \"total time\": 205.85838152302313, \"train_acc\": 0.9814352448453608, \"train_loss\": 0.9217412496350476, \"train_time\": 2.572255806000612, \"tta_acc\": 0.9619, \"tta_loss\": 0.947907763671875, \"tta_time\": 0.18321384899900295, \"valid_acc\": 0.9578, \"valid_loss\": 0.95641865234375, \"valid_time\": 0.18321384899900295, \"experiment\": \"final\"}, {\"epoch\": 100, \"run\": 4, \"total time\": 257.2927283469835, \"train_acc\": 0.9829655283505154, \"train_loss\": 0.9180972797354472, \"train_time\": 2.5725200929955463, \"tta_acc\": 0.9601, \"tta_loss\": 0.946186474609375, \"tta_time\": 0.18265706300007878, \"valid_acc\": 0.9571, \"valid_loss\": 0.95430537109375, \"valid_time\": 0.18265706300007878, \"experiment\": \"final\"}, {\"epoch\": 40, \"run\": 5, \"total time\": 102.95283322800242, \"train_acc\": 0.9719313788659794, \"train_loss\": 0.9427000517697678, \"train_time\": 2.5722945279994747, \"tta_acc\": 0.957, \"tta_loss\": 0.958058056640625, \"tta_time\": 0.18345675599994138, \"valid_acc\": 0.9541, \"valid_loss\": 0.9679720703125, \"valid_time\": 0.18345675599994138, \"experiment\": \"final\"}, {\"epoch\": 60, \"run\": 5, \"total time\": 154.39701501696254, \"train_acc\": 0.9778108891752577, \"train_loss\": 0.9301550560390827, \"train_time\": 2.57575754699792, \"tta_acc\": 0.9584, \"tta_loss\": 0.9511826171875, \"tta_time\": 0.18216746600228362, \"valid_acc\": 0.9553, \"valid_loss\": 0.96147744140625, \"valid_time\": 0.18216746600228362, \"experiment\": \"final\"}, {\"epoch\": 80, \"run\": 5, \"total time\": 205.8281666639814, \"train_acc\": 0.9823211984536082, \"train_loss\": 0.9212127567566547, \"train_time\": 2.570514618004381, \"tta_acc\": 0.9624, \"tta_loss\": 0.947673046875, \"tta_time\": 0.18234977099928074, \"valid_acc\": 0.958, \"valid_loss\": 0.955671728515625, \"valid_time\": 0.18234977099928074, \"experiment\": \"final\"}, {\"epoch\": 100, \"run\": 5, \"total time\": 257.22457723898697, \"train_acc\": 0.9840729703608248, \"train_loss\": 0.9173678270320302, \"train_time\": 2.5702690160032944, \"tta_acc\": 0.9618, \"tta_loss\": 0.946293212890625, \"tta_time\": 0.18217301399999997, \"valid_acc\": 0.9569, \"valid_loss\": 0.95438818359375, \"valid_time\": 0.18217301399999997, \"experiment\": \"final\"}, {\"epoch\": 24, \"run\": 1, \"total time\": 61.77687859902653, \"train_acc\": 0.9563667847938144, \"train_loss\": 0.9728790656807497, \"train_time\": 2.5735945090054884, \"tta_acc\": 0.9521, \"tta_loss\": 0.973640478515625, \"tta_time\": 0.18347028499556473, \"valid_acc\": 0.9473, \"valid_loss\": 0.982691748046875, \"valid_time\": 0.18347028499556473, \"experiment\": \"final\"}, {\"epoch\": 24, \"run\": 2, \"total time\": 61.786338885976875, \"train_acc\": 0.953990818298969, \"train_loss\": 0.9761515450231808, \"train_time\": 2.572059215999616, \"tta_acc\": 0.9539, \"tta_loss\": 0.97068408203125, \"tta_time\": 0.18265191599493846, \"valid_acc\": 0.9471, \"valid_loss\": 0.9804400390625, \"valid_time\": 0.18265191599493846, \"experiment\": \"final\"}, {\"epoch\": 24, \"run\": 3, \"total time\": 61.781463586994505, \"train_acc\": 0.9569507087628866, \"train_loss\": 0.9721518742669489, \"train_time\": 2.5763632460002555, \"tta_acc\": 0.9506, \"tta_loss\": 0.971709228515625, \"tta_time\": 0.18320887300069444, \"valid_acc\": 0.9482, \"valid_loss\": 0.9808876953125, \"valid_time\": 0.18320887300069444, \"experiment\": \"final\"}, {\"epoch\": 24, \"run\": 4, \"total time\": 61.80873339098616, \"train_acc\": 0.9562661082474226, \"train_loss\": 0.9727197332480519, \"train_time\": 2.573691127996426, \"tta_acc\": 0.949, \"tta_loss\": 0.97357724609375, \"tta_time\": 0.1826382819999708, \"valid_acc\": 0.9451, \"valid_loss\": 0.982364697265625, \"valid_time\": 0.1826382819999708, \"experiment\": \"final\"}, {\"epoch\": 24, \"run\": 5, \"total time\": 61.78838591801468, \"train_acc\": 0.9554002899484536, \"train_loss\": 0.973067352452229, \"train_time\": 2.5750719900024706, \"tta_acc\": 0.9506, \"tta_loss\": 0.97138369140625, \"tta_time\": 0.1822957199983648, \"valid_acc\": 0.9461, \"valid_loss\": 0.98204267578125, \"valid_time\": 0.1822957199983648, \"experiment\": \"final\"}]}};\n",
              "      var embedOpt = {\"mode\": \"vega-lite\"};\n",
              "\n",
              "      function showError(el, error){\n",
              "          el.innerHTML = ('<div class=\"error\" style=\"color:red;\">'\n",
              "                          + '<p>JavaScript Error: ' + error.message + '</p>'\n",
              "                          + \"<p>This usually means there's a typo in your chart specification. \"\n",
              "                          + \"See the javascript console for the full traceback.</p>\"\n",
              "                          + '</div>');\n",
              "          throw error;\n",
              "      }\n",
              "      const el = document.getElementById('altair-viz');\n",
              "      vegaEmbed(\"#altair-viz\", spec, embedOpt)\n",
              "        .catch(error => showError(el, error));\n",
              "    })(vegaEmbed);\n",
              "\n",
              "  </script>\n",
              "</body>\n",
              "</html>"
            ],
            "text/plain": [
              "alt.HConcatChart(...)"
            ]
          },
          "execution_count": 21,
          "metadata": {
            "tags": []
          },
          "output_type": "execute_result"
        }
      ],
      "source": [
        "scale = alt.Scale(zero=False)\n",
        "c = alt.Chart(data).encode(x=alt.X('epoch', scale=scale), color='experiment')\n",
        "\n",
        "c1=(c.mark_point().encode(y=alt.Y('valid_acc',scale=scale, axis=alt.Axis(title='valid acc'))) + \n",
        "c.mark_line().encode(y=alt.Y('mean(valid_acc)',scale=scale)))\n",
        "\n",
        "c2=(c.mark_point().encode(y=alt.Y('tta_acc',scale=scale, axis=alt.Axis(title='valid acc (tta)'))) + \n",
        "c.mark_line().encode(y=alt.Y('mean(tta_acc)',scale=scale)))\n",
        "\n",
        "c1 | c2"
      ]
    },
    {
      "cell_type": "markdown",
      "metadata": {
        "id": "tExlB_cQiADd"
      },
      "source": [
        "Despite the lack of tuning of the various extra hyperparameters of the final training setup for longer runs, it appears to maintain a healthy lead over the baseline even out to 100 epochs of training and approximate convergence. The final TTA accuracy of our little 9-layer ResNet at 80 epochs is 96.1% even though we never optimised anything for training above 94% accuracy! We could presumably go quite a bit higher with proper hyperparameter optimisation. \n",
        "\n",
        "It appears that 96% accuracy is reached in about 70 epochs and 3 minutes of total training time, answering a question that I've been asked several times by people who (perhaps rightly) believe that the 94% threshold of DAWNBench is too low. Note that we have made almost no attempt to optimise the 96% time and we would expect it to come down considerably from here."
      ]
    },
    {
      "cell_type": "markdown",
      "metadata": {
        "id": "WXPU8vZJlgpC"
      },
      "source": [
        "### Final thoughts"
      ]
    },
    {
      "cell_type": "markdown",
      "metadata": {
        "id": "f9qabx_UlkoN"
      },
      "source": [
        "Thanks to everyone who contributed to, supported or provided feedback on the project. Special thanks to Sam Davis, to Thomas Read for his work last summer on what became the post on weight decay and to everyone at Myrtle.\n",
        "\n",
        "It has been tremendous fun working on this project, exploring dynamics of neural network training and extending the work of others to bring training times to a level where rapid experimentation becomes possible. I hope that the reader will find this useful in their work and believe that training times have a long way to fall yet (or accuracies improve if that's your thing!) through further algorithmic developments.\n",
        "\n",
        "At the outset of the series I half joked that if we could achieve 100% compute efficiency, training should take 40s. I would have been surprised to find that target surpassed by the end of the series with compute efficiency little better than it ever was! There is much scope for improvement on that front as well."
      ]
    }
  ],
  "metadata": {
    "accelerator": "GPU",
    "colab": {
      "collapsed_sections": [
        "JZ_zmZhTyOSN",
        "ZiaIqUQKWHgT",
        "5HShJN2xh22e"
      ],
      "name": "bag-of-tricks.ipynb",
      "provenance": []
    },
    "kernelspec": {
      "display_name": "Python 3",
      "name": "python3"
    },
    "language_info": {
      "codemirror_mode": {
        "name": "ipython",
        "version": 3
      },
      "file_extension": ".py",
      "mimetype": "text/x-python",
      "name": "python",
      "nbconvert_exporter": "python",
      "pygments_lexer": "ipython3",
      "version": "3.7.10"
    }
  },
  "nbformat": 4,
  "nbformat_minor": 0
}
